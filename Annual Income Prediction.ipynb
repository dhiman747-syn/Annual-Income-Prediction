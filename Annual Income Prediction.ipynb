{
 "cells": [
  {
   "cell_type": "markdown",
   "id": "ebea8706",
   "metadata": {},
   "source": [
    "#### **Prediction task is to determine whether a person makes over $50K a year.**"
   ]
  },
  {
   "cell_type": "code",
   "execution_count": 1,
   "id": "b3385c46",
   "metadata": {},
   "outputs": [],
   "source": [
    "# Importing relevant libraries\n",
    "import pandas as pd\n",
    "import numpy as np\n",
    "import matplotlib.pyplot as plt\n",
    "import seaborn as sns\n",
    "\n",
    "from sklearn.preprocessing import MinMaxScaler\n",
    "from sklearn.ensemble import RandomForestClassifier, GradientBoostingClassifier, AdaBoostClassifier, VotingClassifier\n",
    "from xgboost import XGBClassifier\n",
    "from sklearn.svm import SVC\n",
    "from sklearn.tree import DecisionTreeClassifier\n",
    "from sklearn.linear_model import LogisticRegression, SGDClassifier\n",
    "from sklearn.model_selection import train_test_split, GridSearchCV, cross_val_score\n",
    "from sklearn.metrics import confusion_matrix, classification_report, roc_auc_score, roc_curve"
   ]
  },
  {
   "cell_type": "code",
   "execution_count": 2,
   "id": "90e147d6",
   "metadata": {},
   "outputs": [],
   "source": [
    "# Reading the data\n",
    "income_df = pd.read_csv('C:\\\\Users\\\\23mim\\\\Datasets\\\\Adult\\\\adult.data')"
   ]
  },
  {
   "cell_type": "code",
   "execution_count": 3,
   "id": "dad2a8dd",
   "metadata": {},
   "outputs": [
    {
     "data": {
      "text/html": [
       "<div>\n",
       "<style scoped>\n",
       "    .dataframe tbody tr th:only-of-type {\n",
       "        vertical-align: middle;\n",
       "    }\n",
       "\n",
       "    .dataframe tbody tr th {\n",
       "        vertical-align: top;\n",
       "    }\n",
       "\n",
       "    .dataframe thead th {\n",
       "        text-align: right;\n",
       "    }\n",
       "</style>\n",
       "<table border=\"1\" class=\"dataframe\">\n",
       "  <thead>\n",
       "    <tr style=\"text-align: right;\">\n",
       "      <th></th>\n",
       "      <th>39</th>\n",
       "      <th>State-gov</th>\n",
       "      <th>77516</th>\n",
       "      <th>Bachelors</th>\n",
       "      <th>13</th>\n",
       "      <th>Never-married</th>\n",
       "      <th>Adm-clerical</th>\n",
       "      <th>Not-in-family</th>\n",
       "      <th>White</th>\n",
       "      <th>Male</th>\n",
       "      <th>2174</th>\n",
       "      <th>0</th>\n",
       "      <th>40</th>\n",
       "      <th>United-States</th>\n",
       "      <th>&lt;=50K</th>\n",
       "    </tr>\n",
       "  </thead>\n",
       "  <tbody>\n",
       "    <tr>\n",
       "      <th>0</th>\n",
       "      <td>50</td>\n",
       "      <td>Self-emp-not-inc</td>\n",
       "      <td>83311</td>\n",
       "      <td>Bachelors</td>\n",
       "      <td>13</td>\n",
       "      <td>Married-civ-spouse</td>\n",
       "      <td>Exec-managerial</td>\n",
       "      <td>Husband</td>\n",
       "      <td>White</td>\n",
       "      <td>Male</td>\n",
       "      <td>0</td>\n",
       "      <td>0</td>\n",
       "      <td>13</td>\n",
       "      <td>United-States</td>\n",
       "      <td>&lt;=50K</td>\n",
       "    </tr>\n",
       "    <tr>\n",
       "      <th>1</th>\n",
       "      <td>38</td>\n",
       "      <td>Private</td>\n",
       "      <td>215646</td>\n",
       "      <td>HS-grad</td>\n",
       "      <td>9</td>\n",
       "      <td>Divorced</td>\n",
       "      <td>Handlers-cleaners</td>\n",
       "      <td>Not-in-family</td>\n",
       "      <td>White</td>\n",
       "      <td>Male</td>\n",
       "      <td>0</td>\n",
       "      <td>0</td>\n",
       "      <td>40</td>\n",
       "      <td>United-States</td>\n",
       "      <td>&lt;=50K</td>\n",
       "    </tr>\n",
       "    <tr>\n",
       "      <th>2</th>\n",
       "      <td>53</td>\n",
       "      <td>Private</td>\n",
       "      <td>234721</td>\n",
       "      <td>11th</td>\n",
       "      <td>7</td>\n",
       "      <td>Married-civ-spouse</td>\n",
       "      <td>Handlers-cleaners</td>\n",
       "      <td>Husband</td>\n",
       "      <td>Black</td>\n",
       "      <td>Male</td>\n",
       "      <td>0</td>\n",
       "      <td>0</td>\n",
       "      <td>40</td>\n",
       "      <td>United-States</td>\n",
       "      <td>&lt;=50K</td>\n",
       "    </tr>\n",
       "    <tr>\n",
       "      <th>3</th>\n",
       "      <td>28</td>\n",
       "      <td>Private</td>\n",
       "      <td>338409</td>\n",
       "      <td>Bachelors</td>\n",
       "      <td>13</td>\n",
       "      <td>Married-civ-spouse</td>\n",
       "      <td>Prof-specialty</td>\n",
       "      <td>Wife</td>\n",
       "      <td>Black</td>\n",
       "      <td>Female</td>\n",
       "      <td>0</td>\n",
       "      <td>0</td>\n",
       "      <td>40</td>\n",
       "      <td>Cuba</td>\n",
       "      <td>&lt;=50K</td>\n",
       "    </tr>\n",
       "    <tr>\n",
       "      <th>4</th>\n",
       "      <td>37</td>\n",
       "      <td>Private</td>\n",
       "      <td>284582</td>\n",
       "      <td>Masters</td>\n",
       "      <td>14</td>\n",
       "      <td>Married-civ-spouse</td>\n",
       "      <td>Exec-managerial</td>\n",
       "      <td>Wife</td>\n",
       "      <td>White</td>\n",
       "      <td>Female</td>\n",
       "      <td>0</td>\n",
       "      <td>0</td>\n",
       "      <td>40</td>\n",
       "      <td>United-States</td>\n",
       "      <td>&lt;=50K</td>\n",
       "    </tr>\n",
       "  </tbody>\n",
       "</table>\n",
       "</div>"
      ],
      "text/plain": [
       "   39          State-gov   77516   Bachelors   13        Never-married  \\\n",
       "0  50   Self-emp-not-inc   83311   Bachelors   13   Married-civ-spouse   \n",
       "1  38            Private  215646     HS-grad    9             Divorced   \n",
       "2  53            Private  234721        11th    7   Married-civ-spouse   \n",
       "3  28            Private  338409   Bachelors   13   Married-civ-spouse   \n",
       "4  37            Private  284582     Masters   14   Married-civ-spouse   \n",
       "\n",
       "         Adm-clerical   Not-in-family   White     Male   2174   0   40  \\\n",
       "0     Exec-managerial         Husband   White     Male      0   0   13   \n",
       "1   Handlers-cleaners   Not-in-family   White     Male      0   0   40   \n",
       "2   Handlers-cleaners         Husband   Black     Male      0   0   40   \n",
       "3      Prof-specialty            Wife   Black   Female      0   0   40   \n",
       "4     Exec-managerial            Wife   White   Female      0   0   40   \n",
       "\n",
       "    United-States   <=50K  \n",
       "0   United-States   <=50K  \n",
       "1   United-States   <=50K  \n",
       "2   United-States   <=50K  \n",
       "3            Cuba   <=50K  \n",
       "4   United-States   <=50K  "
      ]
     },
     "execution_count": 3,
     "metadata": {},
     "output_type": "execute_result"
    }
   ],
   "source": [
    "# First few rows of the dataset\n",
    "income_df.head()"
   ]
  },
  {
   "cell_type": "markdown",
   "id": "8ef33232",
   "metadata": {},
   "source": [
    "#### **Data Cleaning and Visualization**"
   ]
  },
  {
   "cell_type": "markdown",
   "id": "b17ed314",
   "metadata": {},
   "source": [
    "It can be observe that the feature names are not in the dataset. We need to include the feature names for the relevant data point."
   ]
  },
  {
   "cell_type": "code",
   "execution_count": 4,
   "id": "65948d1a",
   "metadata": {},
   "outputs": [],
   "source": [
    "# Creating a copy of the dataset\n",
    "income_df_copy = income_df.copy(deep=True)"
   ]
  },
  {
   "cell_type": "code",
   "execution_count": 5,
   "id": "e064a9cf",
   "metadata": {},
   "outputs": [],
   "source": [
    "# Naming the features\n",
    "income_df_copy.columns = ['age', \n",
    "                        'workclass',\n",
    "                        'fnlwgt',\n",
    "                        'education',\n",
    "                        'education_num',\n",
    "                        'marital_status',\n",
    "                        'occupation',\n",
    "                        'relationship',\n",
    "                        'race',\n",
    "                        'sex',\n",
    "                        'capital_gain',\n",
    "                        'capital_loss',\n",
    "                        'hours_per_week',\n",
    "                        'native_country',\n",
    "                        'income_status']"
   ]
  },
  {
   "cell_type": "code",
   "execution_count": 9,
   "id": "fc3fc8e7",
   "metadata": {},
   "outputs": [
    {
     "data": {
      "text/html": [
       "<div>\n",
       "<style scoped>\n",
       "    .dataframe tbody tr th:only-of-type {\n",
       "        vertical-align: middle;\n",
       "    }\n",
       "\n",
       "    .dataframe tbody tr th {\n",
       "        vertical-align: top;\n",
       "    }\n",
       "\n",
       "    .dataframe thead th {\n",
       "        text-align: right;\n",
       "    }\n",
       "</style>\n",
       "<table border=\"1\" class=\"dataframe\">\n",
       "  <thead>\n",
       "    <tr style=\"text-align: right;\">\n",
       "      <th></th>\n",
       "      <th>age</th>\n",
       "      <th>workclass</th>\n",
       "      <th>fnlwgt</th>\n",
       "      <th>education</th>\n",
       "      <th>education_num</th>\n",
       "      <th>marital_status</th>\n",
       "      <th>occupation</th>\n",
       "      <th>relationship</th>\n",
       "      <th>race</th>\n",
       "      <th>sex</th>\n",
       "      <th>capital_gain</th>\n",
       "      <th>capital_loss</th>\n",
       "      <th>hours_per_week</th>\n",
       "      <th>native_country</th>\n",
       "      <th>income_status</th>\n",
       "    </tr>\n",
       "  </thead>\n",
       "  <tbody>\n",
       "    <tr>\n",
       "      <th>0</th>\n",
       "      <td>50</td>\n",
       "      <td>Self-emp-not-inc</td>\n",
       "      <td>83311</td>\n",
       "      <td>Bachelors</td>\n",
       "      <td>13</td>\n",
       "      <td>Married-civ-spouse</td>\n",
       "      <td>Exec-managerial</td>\n",
       "      <td>Husband</td>\n",
       "      <td>White</td>\n",
       "      <td>Male</td>\n",
       "      <td>0</td>\n",
       "      <td>0</td>\n",
       "      <td>13</td>\n",
       "      <td>United-States</td>\n",
       "      <td>&lt;=50K</td>\n",
       "    </tr>\n",
       "    <tr>\n",
       "      <th>1</th>\n",
       "      <td>38</td>\n",
       "      <td>Private</td>\n",
       "      <td>215646</td>\n",
       "      <td>HS-grad</td>\n",
       "      <td>9</td>\n",
       "      <td>Divorced</td>\n",
       "      <td>Handlers-cleaners</td>\n",
       "      <td>Not-in-family</td>\n",
       "      <td>White</td>\n",
       "      <td>Male</td>\n",
       "      <td>0</td>\n",
       "      <td>0</td>\n",
       "      <td>40</td>\n",
       "      <td>United-States</td>\n",
       "      <td>&lt;=50K</td>\n",
       "    </tr>\n",
       "    <tr>\n",
       "      <th>2</th>\n",
       "      <td>53</td>\n",
       "      <td>Private</td>\n",
       "      <td>234721</td>\n",
       "      <td>11th</td>\n",
       "      <td>7</td>\n",
       "      <td>Married-civ-spouse</td>\n",
       "      <td>Handlers-cleaners</td>\n",
       "      <td>Husband</td>\n",
       "      <td>Black</td>\n",
       "      <td>Male</td>\n",
       "      <td>0</td>\n",
       "      <td>0</td>\n",
       "      <td>40</td>\n",
       "      <td>United-States</td>\n",
       "      <td>&lt;=50K</td>\n",
       "    </tr>\n",
       "    <tr>\n",
       "      <th>3</th>\n",
       "      <td>28</td>\n",
       "      <td>Private</td>\n",
       "      <td>338409</td>\n",
       "      <td>Bachelors</td>\n",
       "      <td>13</td>\n",
       "      <td>Married-civ-spouse</td>\n",
       "      <td>Prof-specialty</td>\n",
       "      <td>Wife</td>\n",
       "      <td>Black</td>\n",
       "      <td>Female</td>\n",
       "      <td>0</td>\n",
       "      <td>0</td>\n",
       "      <td>40</td>\n",
       "      <td>Cuba</td>\n",
       "      <td>&lt;=50K</td>\n",
       "    </tr>\n",
       "    <tr>\n",
       "      <th>4</th>\n",
       "      <td>37</td>\n",
       "      <td>Private</td>\n",
       "      <td>284582</td>\n",
       "      <td>Masters</td>\n",
       "      <td>14</td>\n",
       "      <td>Married-civ-spouse</td>\n",
       "      <td>Exec-managerial</td>\n",
       "      <td>Wife</td>\n",
       "      <td>White</td>\n",
       "      <td>Female</td>\n",
       "      <td>0</td>\n",
       "      <td>0</td>\n",
       "      <td>40</td>\n",
       "      <td>United-States</td>\n",
       "      <td>&lt;=50K</td>\n",
       "    </tr>\n",
       "  </tbody>\n",
       "</table>\n",
       "</div>"
      ],
      "text/plain": [
       "   age          workclass  fnlwgt   education  education_num  \\\n",
       "0   50   Self-emp-not-inc   83311   Bachelors             13   \n",
       "1   38            Private  215646     HS-grad              9   \n",
       "2   53            Private  234721        11th              7   \n",
       "3   28            Private  338409   Bachelors             13   \n",
       "4   37            Private  284582     Masters             14   \n",
       "\n",
       "        marital_status          occupation    relationship    race      sex  \\\n",
       "0   Married-civ-spouse     Exec-managerial         Husband   White     Male   \n",
       "1             Divorced   Handlers-cleaners   Not-in-family   White     Male   \n",
       "2   Married-civ-spouse   Handlers-cleaners         Husband   Black     Male   \n",
       "3   Married-civ-spouse      Prof-specialty            Wife   Black   Female   \n",
       "4   Married-civ-spouse     Exec-managerial            Wife   White   Female   \n",
       "\n",
       "   capital_gain  capital_loss  hours_per_week  native_country income_status  \n",
       "0             0             0              13   United-States         <=50K  \n",
       "1             0             0              40   United-States         <=50K  \n",
       "2             0             0              40   United-States         <=50K  \n",
       "3             0             0              40            Cuba         <=50K  \n",
       "4             0             0              40   United-States         <=50K  "
      ]
     },
     "execution_count": 9,
     "metadata": {},
     "output_type": "execute_result"
    }
   ],
   "source": [
    "# The dataset after naming the features \n",
    "income_df_copy.head()"
   ]
  },
  {
   "cell_type": "code",
   "execution_count": 7,
   "id": "0d10de68",
   "metadata": {},
   "outputs": [
    {
     "name": "stdout",
     "output_type": "stream",
     "text": [
      "<class 'pandas.core.frame.DataFrame'>\n",
      "RangeIndex: 32560 entries, 0 to 32559\n",
      "Data columns (total 15 columns):\n",
      " #   Column          Non-Null Count  Dtype \n",
      "---  ------          --------------  ----- \n",
      " 0   age             32560 non-null  int64 \n",
      " 1   workclass       32560 non-null  object\n",
      " 2   fnlwgt          32560 non-null  int64 \n",
      " 3   education       32560 non-null  object\n",
      " 4   education_num   32560 non-null  int64 \n",
      " 5   marital_status  32560 non-null  object\n",
      " 6   occupation      32560 non-null  object\n",
      " 7   relationship    32560 non-null  object\n",
      " 8   race            32560 non-null  object\n",
      " 9   sex             32560 non-null  object\n",
      " 10  capital_gain    32560 non-null  int64 \n",
      " 11  capital_loss    32560 non-null  int64 \n",
      " 12  hours_per_week  32560 non-null  int64 \n",
      " 13  native_country  32560 non-null  object\n",
      " 14  income_status   32560 non-null  object\n",
      "dtypes: int64(6), object(9)\n",
      "memory usage: 3.7+ MB\n"
     ]
    }
   ],
   "source": [
    "# Info about the dataset\n",
    "income_df_copy.info()"
   ]
  },
  {
   "cell_type": "markdown",
   "id": "d7b56de5",
   "metadata": {},
   "source": [
    "The above the output shows that that there some **numerical** and **categorical** features."
   ]
  },
  {
   "cell_type": "code",
   "execution_count": 8,
   "id": "fe1263ad",
   "metadata": {},
   "outputs": [
    {
     "data": {
      "text/plain": [
       "(32560, 15)"
      ]
     },
     "execution_count": 8,
     "metadata": {},
     "output_type": "execute_result"
    }
   ],
   "source": [
    "# Shape of the dataset\n",
    "income_df_copy.shape"
   ]
  },
  {
   "cell_type": "code",
   "execution_count": 9,
   "id": "418a7948",
   "metadata": {},
   "outputs": [
    {
     "data": {
      "text/plain": [
       "age               0\n",
       "workclass         0\n",
       "fnlwgt            0\n",
       "education         0\n",
       "education_num     0\n",
       "marital_status    0\n",
       "occupation        0\n",
       "relationship      0\n",
       "race              0\n",
       "sex               0\n",
       "capital_gain      0\n",
       "capital_loss      0\n",
       "hours_per_week    0\n",
       "native_country    0\n",
       "income_status     0\n",
       "dtype: int64"
      ]
     },
     "execution_count": 9,
     "metadata": {},
     "output_type": "execute_result"
    }
   ],
   "source": [
    "# Checking for null values\n",
    "income_df_copy.isnull().sum()"
   ]
  },
  {
   "cell_type": "markdown",
   "id": "cb40d4ee",
   "metadata": {},
   "source": [
    "The dataset does not have null values."
   ]
  },
  {
   "cell_type": "code",
   "execution_count": 10,
   "id": "25e39b74",
   "metadata": {},
   "outputs": [
    {
     "data": {
      "text/html": [
       "<div>\n",
       "<style scoped>\n",
       "    .dataframe tbody tr th:only-of-type {\n",
       "        vertical-align: middle;\n",
       "    }\n",
       "\n",
       "    .dataframe tbody tr th {\n",
       "        vertical-align: top;\n",
       "    }\n",
       "\n",
       "    .dataframe thead th {\n",
       "        text-align: right;\n",
       "    }\n",
       "</style>\n",
       "<table border=\"1\" class=\"dataframe\">\n",
       "  <thead>\n",
       "    <tr style=\"text-align: right;\">\n",
       "      <th></th>\n",
       "      <th>count</th>\n",
       "      <th>mean</th>\n",
       "      <th>std</th>\n",
       "      <th>min</th>\n",
       "      <th>25%</th>\n",
       "      <th>50%</th>\n",
       "      <th>75%</th>\n",
       "      <th>max</th>\n",
       "    </tr>\n",
       "  </thead>\n",
       "  <tbody>\n",
       "    <tr>\n",
       "      <th>age</th>\n",
       "      <td>32560.0</td>\n",
       "      <td>38.581634</td>\n",
       "      <td>13.640642</td>\n",
       "      <td>17.0</td>\n",
       "      <td>28.0</td>\n",
       "      <td>37.0</td>\n",
       "      <td>48.0</td>\n",
       "      <td>90.0</td>\n",
       "    </tr>\n",
       "    <tr>\n",
       "      <th>fnlwgt</th>\n",
       "      <td>32560.0</td>\n",
       "      <td>189781.814373</td>\n",
       "      <td>105549.764924</td>\n",
       "      <td>12285.0</td>\n",
       "      <td>117831.5</td>\n",
       "      <td>178363.0</td>\n",
       "      <td>237054.5</td>\n",
       "      <td>1484705.0</td>\n",
       "    </tr>\n",
       "    <tr>\n",
       "      <th>education_num</th>\n",
       "      <td>32560.0</td>\n",
       "      <td>10.080590</td>\n",
       "      <td>2.572709</td>\n",
       "      <td>1.0</td>\n",
       "      <td>9.0</td>\n",
       "      <td>10.0</td>\n",
       "      <td>12.0</td>\n",
       "      <td>16.0</td>\n",
       "    </tr>\n",
       "    <tr>\n",
       "      <th>capital_gain</th>\n",
       "      <td>32560.0</td>\n",
       "      <td>1077.615172</td>\n",
       "      <td>7385.402999</td>\n",
       "      <td>0.0</td>\n",
       "      <td>0.0</td>\n",
       "      <td>0.0</td>\n",
       "      <td>0.0</td>\n",
       "      <td>99999.0</td>\n",
       "    </tr>\n",
       "    <tr>\n",
       "      <th>capital_loss</th>\n",
       "      <td>32560.0</td>\n",
       "      <td>87.306511</td>\n",
       "      <td>402.966116</td>\n",
       "      <td>0.0</td>\n",
       "      <td>0.0</td>\n",
       "      <td>0.0</td>\n",
       "      <td>0.0</td>\n",
       "      <td>4356.0</td>\n",
       "    </tr>\n",
       "    <tr>\n",
       "      <th>hours_per_week</th>\n",
       "      <td>32560.0</td>\n",
       "      <td>40.437469</td>\n",
       "      <td>12.347618</td>\n",
       "      <td>1.0</td>\n",
       "      <td>40.0</td>\n",
       "      <td>40.0</td>\n",
       "      <td>45.0</td>\n",
       "      <td>99.0</td>\n",
       "    </tr>\n",
       "  </tbody>\n",
       "</table>\n",
       "</div>"
      ],
      "text/plain": [
       "                  count           mean            std      min       25%  \\\n",
       "age             32560.0      38.581634      13.640642     17.0      28.0   \n",
       "fnlwgt          32560.0  189781.814373  105549.764924  12285.0  117831.5   \n",
       "education_num   32560.0      10.080590       2.572709      1.0       9.0   \n",
       "capital_gain    32560.0    1077.615172    7385.402999      0.0       0.0   \n",
       "capital_loss    32560.0      87.306511     402.966116      0.0       0.0   \n",
       "hours_per_week  32560.0      40.437469      12.347618      1.0      40.0   \n",
       "\n",
       "                     50%       75%        max  \n",
       "age                 37.0      48.0       90.0  \n",
       "fnlwgt          178363.0  237054.5  1484705.0  \n",
       "education_num       10.0      12.0       16.0  \n",
       "capital_gain         0.0       0.0    99999.0  \n",
       "capital_loss         0.0       0.0     4356.0  \n",
       "hours_per_week      40.0      45.0       99.0  "
      ]
     },
     "execution_count": 10,
     "metadata": {},
     "output_type": "execute_result"
    }
   ],
   "source": [
    "# summary statistics of the dataset \n",
    "income_df_copy.describe().T"
   ]
  },
  {
   "cell_type": "markdown",
   "id": "6936d92f",
   "metadata": {},
   "source": [
    "From the above output we can conclude few things in the initial stage:\n",
    "\n",
    "1. The **mean age** of the persons is about **38.58 years** with min age being 17 years and max age being 90 years.\n",
    "2. The **mean educational years** of the population is about **10 years**.\n",
    "3. The **average capital gain** of the people is about **$1077.6** with **minimum, 25%, median, and 75% of the data for capital gain is $0** and **maximum is $99999**.\n",
    "4. The **average capital loss** of the people is about **$87.3** with **minimum, 25%, median, and 75% of the data for capital loss is $0** and **maximum is $4356**.\n",
    "5. The **mean hours per week** of the people is about **40.4 hours**."
   ]
  },
  {
   "cell_type": "code",
   "execution_count": 11,
   "id": "699ee46d",
   "metadata": {},
   "outputs": [
    {
     "data": {
      "text/plain": [
       " <=50K    24719\n",
       " >50K      7841\n",
       "Name: income_status, dtype: int64"
      ]
     },
     "execution_count": 11,
     "metadata": {},
     "output_type": "execute_result"
    }
   ],
   "source": [
    "# Chekcing the counts of the income feature (which is categorical in nature)\n",
    "income_df_copy['income_status'].value_counts()"
   ]
  },
  {
   "cell_type": "code",
   "execution_count": 12,
   "id": "e9814100",
   "metadata": {},
   "outputs": [
    {
     "name": "stdout",
     "output_type": "stream",
     "text": [
      "#total person = 32560\n",
      "% of people having income equal to or more than $50k = 75.92%\n",
      "% of people having income lesser than $50k = 24.08%\n"
     ]
    }
   ],
   "source": [
    "# Calculating the percentage distribution of the income status\n",
    "print(\"#total person = {}\".format(len(income_df_copy)))\n",
    "print(\"% of people having income equal to or more than $50k = {}%\".format(round(100*income_df_copy['income_status'].value_counts()[0]/len(income_df_copy), 2)))\n",
    "print(\"% of people having income lesser than $50k = {}%\".format(round(100*income_df_copy['income_status'].value_counts()[1]/len(income_df_copy), 2)))"
   ]
  },
  {
   "cell_type": "code",
   "execution_count": 13,
   "id": "e64f4a3d",
   "metadata": {},
   "outputs": [
    {
     "data": {
      "image/png": "[encoded data removed]",
      "text/plain": [
       "<Figure size 504x360 with 1 Axes>"
      ]
     },
     "metadata": {
      "needs_background": "light"
     },
     "output_type": "display_data"
    }
   ],
   "source": [
    "# Visualizing the counts of income status\n",
    "plt.figure(figsize=(7, 5))\n",
    "sns.countplot(data=income_df_copy, x='income_status', palette='magma_r');"
   ]
  },
  {
   "cell_type": "code",
   "execution_count": 14,
   "id": "0f3333c5",
   "metadata": {},
   "outputs": [
    {
     "data": {
      "image/png": "[encoded data removed]",
      "text/plain": [
       "<Figure size 864x504 with 1 Axes>"
      ]
     },
     "metadata": {
      "needs_background": "light"
     },
     "output_type": "display_data"
    }
   ],
   "source": [
    "# Plotting the histogram of the \"age\" variable\n",
    "plt.figure(figsize=(12, 7))\n",
    "sns.histplot(data=income_df_copy, x='age', bins=25);"
   ]
  },
  {
   "cell_type": "markdown",
   "id": "5ae83fc8",
   "metadata": {},
   "source": [
    "The **\"age\"** feature is **positively skewed or right skewed**."
   ]
  },
  {
   "cell_type": "code",
   "execution_count": 15,
   "id": "2519ff48",
   "metadata": {},
   "outputs": [
    {
     "data": {
      "image/png": "[encoded data removed]",
      "text/plain": [
       "<Figure size 864x504 with 1 Axes>"
      ]
     },
     "metadata": {
      "needs_background": "light"
     },
     "output_type": "display_data"
    }
   ],
   "source": [
    "# Plotting the histogram of the \"age\" variable in relation to \"income_status\"\n",
    "plt.figure(figsize=(12, 7))\n",
    "sns.histplot(data=income_df_copy, x='age', hue='income_status', bins=25, palette='ocean_r');"
   ]
  },
  {
   "cell_type": "markdown",
   "id": "bbfe0868",
   "metadata": {},
   "source": [
    "From the above plot we can see that the distribution of age of the people having income less than or equal to $50,000 are more positively skewed than the people having income greater than $50,000. First of all, people on avg who are very young tend to have lesser income and as they grow old their income tend to rise. The $50,000+ earners are in lesser number and their age distribution is somewhat less skewed with most of the earners are within 35 to 45 years."
   ]
  },
  {
   "cell_type": "code",
   "execution_count": 16,
   "id": "03c2d95f",
   "metadata": {},
   "outputs": [
    {
     "data": {
      "image/png": "[encoded data removed]",
      "text/plain": [
       "<Figure size 504x360 with 1 Axes>"
      ]
     },
     "metadata": {
      "needs_background": "light"
     },
     "output_type": "display_data"
    }
   ],
   "source": [
    "# Countplot of the sex feature\n",
    "plt.figure(figsize=(7, 5))\n",
    "sns.countplot(data=income_df_copy, x='sex', palette='magma_r');"
   ]
  },
  {
   "cell_type": "code",
   "execution_count": 17,
   "id": "5a033d03",
   "metadata": {},
   "outputs": [
    {
     "data": {
      "text/plain": [
       " Male      21789\n",
       " Female    10771\n",
       "Name: sex, dtype: int64"
      ]
     },
     "execution_count": 17,
     "metadata": {},
     "output_type": "execute_result"
    }
   ],
   "source": [
    "# Sex Distribution\n",
    "income_df_copy['sex'].value_counts()"
   ]
  },
  {
   "cell_type": "code",
   "execution_count": 18,
   "id": "50c4d721",
   "metadata": {},
   "outputs": [
    {
     "name": "stdout",
     "output_type": "stream",
     "text": [
      "#total person = 32560\n",
      "% of males = 66.92%\n",
      "% of females = 33.08%\n"
     ]
    }
   ],
   "source": [
    "# Calculating the percentage distribution of sex\n",
    "print(\"#total person = {}\".format(len(income_df_copy)))\n",
    "print(\"% of males = {}%\".format(round(100*income_df_copy['sex'].value_counts()[0]/len(income_df_copy), 2)))\n",
    "print(\"% of females = {}%\".format(round(100*income_df_copy['sex'].value_counts()[1]/len(income_df_copy), 2)))"
   ]
  },
  {
   "cell_type": "code",
   "execution_count": 19,
   "id": "06c9a046",
   "metadata": {},
   "outputs": [
    {
     "data": {
      "image/png": "[encoded data removed]",
      "text/plain": [
       "<Figure size 864x504 with 1 Axes>"
      ]
     },
     "metadata": {
      "needs_background": "light"
     },
     "output_type": "display_data"
    }
   ],
   "source": [
    "# Plotting the histogram of the \"age\" variable in relation to \"sex\".\n",
    "plt.figure(figsize=(12, 7))\n",
    "sns.histplot(data=income_df_copy, x='age', hue='sex', bins=25, palette='magma_r');"
   ]
  },
  {
   "attachments": {},
   "cell_type": "markdown",
   "id": "5ce0a075",
   "metadata": {},
   "source": [
    "In the above histogram, we have the distribution in two categories of sex feature (shown in two colours) - i.e. for male and female.  For both female and male categories, the age distributions are right (positively) skewed. "
   ]
  },
  {
   "cell_type": "code",
   "execution_count": 20,
   "id": "fd761fe5",
   "metadata": {},
   "outputs": [
    {
     "data": {
      "text/html": [
       "<div>\n",
       "<style scoped>\n",
       "    .dataframe tbody tr th:only-of-type {\n",
       "        vertical-align: middle;\n",
       "    }\n",
       "\n",
       "    .dataframe tbody tr th {\n",
       "        vertical-align: top;\n",
       "    }\n",
       "\n",
       "    .dataframe thead th {\n",
       "        text-align: right;\n",
       "    }\n",
       "</style>\n",
       "<table border=\"1\" class=\"dataframe\">\n",
       "  <thead>\n",
       "    <tr style=\"text-align: right;\">\n",
       "      <th></th>\n",
       "      <th>income_status</th>\n",
       "      <th>sex</th>\n",
       "      <th>gender_counts</th>\n",
       "    </tr>\n",
       "  </thead>\n",
       "  <tbody>\n",
       "    <tr>\n",
       "      <th>0</th>\n",
       "      <td>&lt;=50K</td>\n",
       "      <td>Female</td>\n",
       "      <td>9592</td>\n",
       "    </tr>\n",
       "    <tr>\n",
       "      <th>1</th>\n",
       "      <td>&lt;=50K</td>\n",
       "      <td>Male</td>\n",
       "      <td>15127</td>\n",
       "    </tr>\n",
       "    <tr>\n",
       "      <th>2</th>\n",
       "      <td>&gt;50K</td>\n",
       "      <td>Female</td>\n",
       "      <td>1179</td>\n",
       "    </tr>\n",
       "    <tr>\n",
       "      <th>3</th>\n",
       "      <td>&gt;50K</td>\n",
       "      <td>Male</td>\n",
       "      <td>6662</td>\n",
       "    </tr>\n",
       "  </tbody>\n",
       "</table>\n",
       "</div>"
      ],
      "text/plain": [
       "  income_status      sex  gender_counts\n",
       "0         <=50K   Female           9592\n",
       "1         <=50K     Male          15127\n",
       "2          >50K   Female           1179\n",
       "3          >50K     Male           6662"
      ]
     },
     "execution_count": 20,
     "metadata": {},
     "output_type": "execute_result"
    }
   ],
   "source": [
    "# Calculating the Sex distribution in relation to income status\n",
    "gender_counts = income_df_copy.groupby(by=['income_status', 'sex']).count()['age'].reset_index().rename(columns={'age':'gender_counts'})\n",
    "gender_counts"
   ]
  },
  {
   "cell_type": "code",
   "execution_count": 21,
   "id": "fd2a7dca",
   "metadata": {},
   "outputs": [
    {
     "data": {
      "text/html": [
       "<div>\n",
       "<style scoped>\n",
       "    .dataframe tbody tr th:only-of-type {\n",
       "        vertical-align: middle;\n",
       "    }\n",
       "\n",
       "    .dataframe tbody tr th {\n",
       "        vertical-align: top;\n",
       "    }\n",
       "\n",
       "    .dataframe thead th {\n",
       "        text-align: right;\n",
       "    }\n",
       "</style>\n",
       "<table border=\"1\" class=\"dataframe\">\n",
       "  <thead>\n",
       "    <tr style=\"text-align: right;\">\n",
       "      <th></th>\n",
       "      <th>income_status</th>\n",
       "      <th>sex</th>\n",
       "      <th>gender_counts</th>\n",
       "      <th>gender_income_percentage</th>\n",
       "    </tr>\n",
       "  </thead>\n",
       "  <tbody>\n",
       "    <tr>\n",
       "      <th>0</th>\n",
       "      <td>&lt;=50K</td>\n",
       "      <td>Female</td>\n",
       "      <td>9592</td>\n",
       "      <td>29.46</td>\n",
       "    </tr>\n",
       "    <tr>\n",
       "      <th>1</th>\n",
       "      <td>&lt;=50K</td>\n",
       "      <td>Male</td>\n",
       "      <td>15127</td>\n",
       "      <td>46.46</td>\n",
       "    </tr>\n",
       "    <tr>\n",
       "      <th>2</th>\n",
       "      <td>&gt;50K</td>\n",
       "      <td>Female</td>\n",
       "      <td>1179</td>\n",
       "      <td>3.62</td>\n",
       "    </tr>\n",
       "    <tr>\n",
       "      <th>3</th>\n",
       "      <td>&gt;50K</td>\n",
       "      <td>Male</td>\n",
       "      <td>6662</td>\n",
       "      <td>20.46</td>\n",
       "    </tr>\n",
       "  </tbody>\n",
       "</table>\n",
       "</div>"
      ],
      "text/plain": [
       "  income_status      sex  gender_counts  gender_income_percentage\n",
       "0         <=50K   Female           9592                     29.46\n",
       "1         <=50K     Male          15127                     46.46\n",
       "2          >50K   Female           1179                      3.62\n",
       "3          >50K     Male           6662                     20.46"
      ]
     },
     "execution_count": 21,
     "metadata": {},
     "output_type": "execute_result"
    }
   ],
   "source": [
    "# Calculating the percentage distribution of sex based on income status\n",
    "percentage_dis_gen_income = []\n",
    "for i in gender_counts['gender_counts']:\n",
    "    p = round(100*i/32560, 2)\n",
    "    percentage_dis_gen_income.append(p)\n",
    "\n",
    "# Storing the values of the 'percentage_dis_gen_income' list as gender_income_percentage\n",
    "gender_counts['gender_income_percentage'] = percentage_dis_gen_income\n",
    "gender_counts"
   ]
  },
  {
   "cell_type": "code",
   "execution_count": 22,
   "id": "a9b17887",
   "metadata": {},
   "outputs": [
    {
     "data": {
      "image/png": "[encoded data removed]",
      "text/plain": [
       "<Figure size 648x360 with 1 Axes>"
      ]
     },
     "metadata": {
      "needs_background": "light"
     },
     "output_type": "display_data"
    }
   ],
   "source": [
    "# Plotting the sex distribution based on income status\n",
    "plt.figure(figsize=(9, 5))\n",
    "sns.barplot(data=gender_counts, x='gender_income_percentage', y='income_status', hue='sex', palette='magma_r');"
   ]
  },
  {
   "cell_type": "code",
   "execution_count": 23,
   "id": "b5fb500b",
   "metadata": {},
   "outputs": [
    {
     "data": {
      "text/html": [
       "<div>\n",
       "<style scoped>\n",
       "    .dataframe tbody tr th:only-of-type {\n",
       "        vertical-align: middle;\n",
       "    }\n",
       "\n",
       "    .dataframe tbody tr th {\n",
       "        vertical-align: top;\n",
       "    }\n",
       "\n",
       "    .dataframe thead th {\n",
       "        text-align: right;\n",
       "    }\n",
       "</style>\n",
       "<table border=\"1\" class=\"dataframe\">\n",
       "  <thead>\n",
       "    <tr style=\"text-align: right;\">\n",
       "      <th>income_status</th>\n",
       "      <th>&lt;=50K</th>\n",
       "      <th>&gt;50K</th>\n",
       "    </tr>\n",
       "    <tr>\n",
       "      <th>sex</th>\n",
       "      <th></th>\n",
       "      <th></th>\n",
       "    </tr>\n",
       "  </thead>\n",
       "  <tbody>\n",
       "    <tr>\n",
       "      <th>Female</th>\n",
       "      <td>9592</td>\n",
       "      <td>1179</td>\n",
       "    </tr>\n",
       "    <tr>\n",
       "      <th>Male</th>\n",
       "      <td>15127</td>\n",
       "      <td>6662</td>\n",
       "    </tr>\n",
       "  </tbody>\n",
       "</table>\n",
       "</div>"
      ],
      "text/plain": [
       "income_status   <=50K   >50K\n",
       "sex                         \n",
       " Female          9592   1179\n",
       " Male           15127   6662"
      ]
     },
     "execution_count": 23,
     "metadata": {},
     "output_type": "execute_result"
    }
   ],
   "source": [
    "# Calculating a cross-tabulation between sex and income status of the people in frequency\n",
    "sex_income_crosstab = pd.crosstab(index=income_df_copy['sex'], columns=income_df_copy['income_status'])\n",
    "sex_income_crosstab"
   ]
  },
  {
   "cell_type": "code",
   "execution_count": 24,
   "id": "1e0f7440",
   "metadata": {},
   "outputs": [
    {
     "data": {
      "text/html": [
       "<div>\n",
       "<style scoped>\n",
       "    .dataframe tbody tr th:only-of-type {\n",
       "        vertical-align: middle;\n",
       "    }\n",
       "\n",
       "    .dataframe tbody tr th {\n",
       "        vertical-align: top;\n",
       "    }\n",
       "\n",
       "    .dataframe thead th {\n",
       "        text-align: right;\n",
       "    }\n",
       "</style>\n",
       "<table border=\"1\" class=\"dataframe\">\n",
       "  <thead>\n",
       "    <tr style=\"text-align: right;\">\n",
       "      <th>income_status</th>\n",
       "      <th>&lt;=50K</th>\n",
       "      <th>&gt;50K</th>\n",
       "    </tr>\n",
       "    <tr>\n",
       "      <th>sex</th>\n",
       "      <th></th>\n",
       "      <th></th>\n",
       "    </tr>\n",
       "  </thead>\n",
       "  <tbody>\n",
       "    <tr>\n",
       "      <th>Female</th>\n",
       "      <td>0.890539</td>\n",
       "      <td>0.109461</td>\n",
       "    </tr>\n",
       "    <tr>\n",
       "      <th>Male</th>\n",
       "      <td>0.694249</td>\n",
       "      <td>0.305751</td>\n",
       "    </tr>\n",
       "  </tbody>\n",
       "</table>\n",
       "</div>"
      ],
      "text/plain": [
       "income_status     <=50K      >50K\n",
       "sex                              \n",
       " Female        0.890539  0.109461\n",
       " Male          0.694249  0.305751"
      ]
     },
     "execution_count": 24,
     "metadata": {},
     "output_type": "execute_result"
    }
   ],
   "source": [
    "# Calculating a cross-tabulation between sex and income status of the people in proportions\n",
    "sex_income_crosstab_prop = pd.crosstab(index=income_df_copy['sex'], columns=income_df_copy['income_status'], normalize='index')\n",
    "sex_income_crosstab_prop"
   ]
  },
  {
   "cell_type": "code",
   "execution_count": 25,
   "id": "e8563a87",
   "metadata": {},
   "outputs": [
    {
     "data": {
      "image/png": "[encoded data removed]",
      "text/plain": [
       "<Figure size 360x504 with 1 Axes>"
      ]
     },
     "metadata": {
      "needs_background": "light"
     },
     "output_type": "display_data"
    }
   ],
   "source": [
    "# Plotting a stacked barchart for the above cross tabulations\n",
    "sex_income_crosstab_prop.plot(kind='bar', stacked=True,\n",
    "                               colormap='tab20', figsize=(5, 7))\n",
    "\n",
    "plt.legend(loc='lower left', ncol=2)\n",
    "plt.xlabel('Gender')\n",
    "plt.ylabel('Proportion')\n",
    "\n",
    "for n, x in enumerate([*sex_income_crosstab.index.values]):\n",
    "    for (proportion, count, y_loc) in zip(sex_income_crosstab_prop.loc[x],\n",
    "                                          sex_income_crosstab.loc[x],\n",
    "                                          sex_income_crosstab_prop.loc[x].cumsum()):\n",
    "                \n",
    "        plt.text(x=n - 0.17,\n",
    "                 y=(y_loc - proportion) + (proportion / 2),\n",
    "                 s=f'{count}\\n({np.round(proportion * 100, 1)}%)', \n",
    "                 color=\"black\",\n",
    "                 fontsize=10);"
   ]
  },
  {
   "attachments": {},
   "cell_type": "markdown",
   "id": "c097486c",
   "metadata": {},
   "source": [
    "So, out of the total female income earners, most of them are having less than or equal to $50,000. Similar result is for the male income earners."
   ]
  },
  {
   "cell_type": "code",
   "execution_count": 26,
   "id": "54fa7dc6",
   "metadata": {},
   "outputs": [
    {
     "data": {
      "text/html": [
       "<div>\n",
       "<style scoped>\n",
       "    .dataframe tbody tr th:only-of-type {\n",
       "        vertical-align: middle;\n",
       "    }\n",
       "\n",
       "    .dataframe tbody tr th {\n",
       "        vertical-align: top;\n",
       "    }\n",
       "\n",
       "    .dataframe thead th {\n",
       "        text-align: right;\n",
       "    }\n",
       "</style>\n",
       "<table border=\"1\" class=\"dataframe\">\n",
       "  <thead>\n",
       "    <tr style=\"text-align: right;\">\n",
       "      <th></th>\n",
       "      <th>age</th>\n",
       "      <th>workclass</th>\n",
       "      <th>fnlwgt</th>\n",
       "      <th>education</th>\n",
       "      <th>education_num</th>\n",
       "      <th>marital_status</th>\n",
       "      <th>occupation</th>\n",
       "      <th>relationship</th>\n",
       "      <th>race</th>\n",
       "      <th>sex</th>\n",
       "      <th>capital_gain</th>\n",
       "      <th>capital_loss</th>\n",
       "      <th>hours_per_week</th>\n",
       "      <th>native_country</th>\n",
       "      <th>income_status</th>\n",
       "    </tr>\n",
       "  </thead>\n",
       "  <tbody>\n",
       "    <tr>\n",
       "      <th>0</th>\n",
       "      <td>50</td>\n",
       "      <td>Self-emp-not-inc</td>\n",
       "      <td>83311</td>\n",
       "      <td>Bachelors</td>\n",
       "      <td>13</td>\n",
       "      <td>Married-civ-spouse</td>\n",
       "      <td>Exec-managerial</td>\n",
       "      <td>Husband</td>\n",
       "      <td>White</td>\n",
       "      <td>Male</td>\n",
       "      <td>0</td>\n",
       "      <td>0</td>\n",
       "      <td>13</td>\n",
       "      <td>United-States</td>\n",
       "      <td>&lt;=50K</td>\n",
       "    </tr>\n",
       "    <tr>\n",
       "      <th>1</th>\n",
       "      <td>38</td>\n",
       "      <td>Private</td>\n",
       "      <td>215646</td>\n",
       "      <td>HS-grad</td>\n",
       "      <td>9</td>\n",
       "      <td>Divorced</td>\n",
       "      <td>Handlers-cleaners</td>\n",
       "      <td>Not-in-family</td>\n",
       "      <td>White</td>\n",
       "      <td>Male</td>\n",
       "      <td>0</td>\n",
       "      <td>0</td>\n",
       "      <td>40</td>\n",
       "      <td>United-States</td>\n",
       "      <td>&lt;=50K</td>\n",
       "    </tr>\n",
       "    <tr>\n",
       "      <th>2</th>\n",
       "      <td>53</td>\n",
       "      <td>Private</td>\n",
       "      <td>234721</td>\n",
       "      <td>11th</td>\n",
       "      <td>7</td>\n",
       "      <td>Married-civ-spouse</td>\n",
       "      <td>Handlers-cleaners</td>\n",
       "      <td>Husband</td>\n",
       "      <td>Black</td>\n",
       "      <td>Male</td>\n",
       "      <td>0</td>\n",
       "      <td>0</td>\n",
       "      <td>40</td>\n",
       "      <td>United-States</td>\n",
       "      <td>&lt;=50K</td>\n",
       "    </tr>\n",
       "    <tr>\n",
       "      <th>3</th>\n",
       "      <td>28</td>\n",
       "      <td>Private</td>\n",
       "      <td>338409</td>\n",
       "      <td>Bachelors</td>\n",
       "      <td>13</td>\n",
       "      <td>Married-civ-spouse</td>\n",
       "      <td>Prof-specialty</td>\n",
       "      <td>Wife</td>\n",
       "      <td>Black</td>\n",
       "      <td>Female</td>\n",
       "      <td>0</td>\n",
       "      <td>0</td>\n",
       "      <td>40</td>\n",
       "      <td>Cuba</td>\n",
       "      <td>&lt;=50K</td>\n",
       "    </tr>\n",
       "    <tr>\n",
       "      <th>4</th>\n",
       "      <td>37</td>\n",
       "      <td>Private</td>\n",
       "      <td>284582</td>\n",
       "      <td>Masters</td>\n",
       "      <td>14</td>\n",
       "      <td>Married-civ-spouse</td>\n",
       "      <td>Exec-managerial</td>\n",
       "      <td>Wife</td>\n",
       "      <td>White</td>\n",
       "      <td>Female</td>\n",
       "      <td>0</td>\n",
       "      <td>0</td>\n",
       "      <td>40</td>\n",
       "      <td>United-States</td>\n",
       "      <td>&lt;=50K</td>\n",
       "    </tr>\n",
       "  </tbody>\n",
       "</table>\n",
       "</div>"
      ],
      "text/plain": [
       "   age          workclass  fnlwgt   education  education_num  \\\n",
       "0   50   Self-emp-not-inc   83311   Bachelors             13   \n",
       "1   38            Private  215646     HS-grad              9   \n",
       "2   53            Private  234721        11th              7   \n",
       "3   28            Private  338409   Bachelors             13   \n",
       "4   37            Private  284582     Masters             14   \n",
       "\n",
       "        marital_status          occupation    relationship    race      sex  \\\n",
       "0   Married-civ-spouse     Exec-managerial         Husband   White     Male   \n",
       "1             Divorced   Handlers-cleaners   Not-in-family   White     Male   \n",
       "2   Married-civ-spouse   Handlers-cleaners         Husband   Black     Male   \n",
       "3   Married-civ-spouse      Prof-specialty            Wife   Black   Female   \n",
       "4   Married-civ-spouse     Exec-managerial            Wife   White   Female   \n",
       "\n",
       "   capital_gain  capital_loss  hours_per_week  native_country income_status  \n",
       "0             0             0              13   United-States         <=50K  \n",
       "1             0             0              40   United-States         <=50K  \n",
       "2             0             0              40   United-States         <=50K  \n",
       "3             0             0              40            Cuba         <=50K  \n",
       "4             0             0              40   United-States         <=50K  "
      ]
     },
     "execution_count": 26,
     "metadata": {},
     "output_type": "execute_result"
    }
   ],
   "source": [
    "# Checking the first few rows of the dataset\n",
    "income_df_copy.head()"
   ]
  },
  {
   "cell_type": "code",
   "execution_count": 27,
   "id": "6723c783",
   "metadata": {},
   "outputs": [],
   "source": [
    "# First let us convert the values of the income_status to some numerical discrete categories\n",
    "income_df_copy['income_status_target'] = income_df_copy['income_status'].replace({' <=50K':0, ' >50K':1})"
   ]
  },
  {
   "cell_type": "markdown",
   "id": "a63693ab",
   "metadata": {},
   "source": [
    "So we have converted the categorical values of the income status to some numerical representaiton.\n",
    "\n",
    "**0** means **<=50K** and **1** means **>50K**"
   ]
  },
  {
   "cell_type": "code",
   "execution_count": 28,
   "id": "d8927737",
   "metadata": {},
   "outputs": [
    {
     "data": {
      "text/html": [
       "<div>\n",
       "<style scoped>\n",
       "    .dataframe tbody tr th:only-of-type {\n",
       "        vertical-align: middle;\n",
       "    }\n",
       "\n",
       "    .dataframe tbody tr th {\n",
       "        vertical-align: top;\n",
       "    }\n",
       "\n",
       "    .dataframe thead th {\n",
       "        text-align: right;\n",
       "    }\n",
       "</style>\n",
       "<table border=\"1\" class=\"dataframe\">\n",
       "  <thead>\n",
       "    <tr style=\"text-align: right;\">\n",
       "      <th></th>\n",
       "      <th>income_status</th>\n",
       "      <th>income_status_target</th>\n",
       "    </tr>\n",
       "  </thead>\n",
       "  <tbody>\n",
       "    <tr>\n",
       "      <th>0</th>\n",
       "      <td>&lt;=50K</td>\n",
       "      <td>0</td>\n",
       "    </tr>\n",
       "    <tr>\n",
       "      <th>1</th>\n",
       "      <td>&lt;=50K</td>\n",
       "      <td>0</td>\n",
       "    </tr>\n",
       "    <tr>\n",
       "      <th>2</th>\n",
       "      <td>&lt;=50K</td>\n",
       "      <td>0</td>\n",
       "    </tr>\n",
       "    <tr>\n",
       "      <th>3</th>\n",
       "      <td>&lt;=50K</td>\n",
       "      <td>0</td>\n",
       "    </tr>\n",
       "    <tr>\n",
       "      <th>4</th>\n",
       "      <td>&lt;=50K</td>\n",
       "      <td>0</td>\n",
       "    </tr>\n",
       "    <tr>\n",
       "      <th>...</th>\n",
       "      <td>...</td>\n",
       "      <td>...</td>\n",
       "    </tr>\n",
       "    <tr>\n",
       "      <th>32555</th>\n",
       "      <td>&lt;=50K</td>\n",
       "      <td>0</td>\n",
       "    </tr>\n",
       "    <tr>\n",
       "      <th>32556</th>\n",
       "      <td>&gt;50K</td>\n",
       "      <td>1</td>\n",
       "    </tr>\n",
       "    <tr>\n",
       "      <th>32557</th>\n",
       "      <td>&lt;=50K</td>\n",
       "      <td>0</td>\n",
       "    </tr>\n",
       "    <tr>\n",
       "      <th>32558</th>\n",
       "      <td>&lt;=50K</td>\n",
       "      <td>0</td>\n",
       "    </tr>\n",
       "    <tr>\n",
       "      <th>32559</th>\n",
       "      <td>&gt;50K</td>\n",
       "      <td>1</td>\n",
       "    </tr>\n",
       "  </tbody>\n",
       "</table>\n",
       "<p>32560 rows × 2 columns</p>\n",
       "</div>"
      ],
      "text/plain": [
       "      income_status  income_status_target\n",
       "0             <=50K                     0\n",
       "1             <=50K                     0\n",
       "2             <=50K                     0\n",
       "3             <=50K                     0\n",
       "4             <=50K                     0\n",
       "...             ...                   ...\n",
       "32555         <=50K                     0\n",
       "32556          >50K                     1\n",
       "32557         <=50K                     0\n",
       "32558         <=50K                     0\n",
       "32559          >50K                     1\n",
       "\n",
       "[32560 rows x 2 columns]"
      ]
     },
     "execution_count": 28,
     "metadata": {},
     "output_type": "execute_result"
    }
   ],
   "source": [
    "# Checking both the target features\n",
    "income_df_copy[['income_status', 'income_status_target']]"
   ]
  },
  {
   "cell_type": "code",
   "execution_count": 29,
   "id": "1f52ed3f",
   "metadata": {},
   "outputs": [
    {
     "data": {
      "text/plain": [
       "123011    13\n",
       "203488    13\n",
       "164190    13\n",
       "121124    12\n",
       "148995    12\n",
       "          ..\n",
       "68318      1\n",
       "284211     1\n",
       "312881     1\n",
       "177711     1\n",
       "229376     1\n",
       "Name: fnlwgt, Length: 21647, dtype: int64"
      ]
     },
     "execution_count": 29,
     "metadata": {},
     "output_type": "execute_result"
    }
   ],
   "source": [
    "# Checking the fnlwgt feature\n",
    "income_df_copy['fnlwgt'].value_counts()"
   ]
  },
  {
   "cell_type": "code",
   "execution_count": 30,
   "id": "5b38a74b",
   "metadata": {},
   "outputs": [
    {
     "data": {
      "text/plain": [
       " White                 27815\n",
       " Black                  3124\n",
       " Asian-Pac-Islander     1039\n",
       " Amer-Indian-Eskimo      311\n",
       " Other                   271\n",
       "Name: race, dtype: int64"
      ]
     },
     "execution_count": 30,
     "metadata": {},
     "output_type": "execute_result"
    }
   ],
   "source": [
    "# The value counts of 'race' feature\n",
    "income_df_copy['race'].value_counts()"
   ]
  },
  {
   "cell_type": "code",
   "execution_count": 31,
   "id": "6ba0788c",
   "metadata": {},
   "outputs": [
    {
     "data": {
      "image/png": "[encoded data removed]",
      "text/plain": [
       "<Figure size 720x432 with 1 Axes>"
      ]
     },
     "metadata": {
      "needs_background": "light"
     },
     "output_type": "display_data"
    }
   ],
   "source": [
    "# Plotting the counts of the 'race' feature\n",
    "plt.figure(figsize=(10, 6))\n",
    "sns.countplot(data=income_df_copy, x='race', palette='magma_r');"
   ]
  },
  {
   "cell_type": "code",
   "execution_count": 32,
   "id": "72712e70",
   "metadata": {},
   "outputs": [
    {
     "data": {
      "image/png": "[encoded data removed]",
      "text/plain": [
       "<Figure size 720x576 with 1 Axes>"
      ]
     },
     "metadata": {},
     "output_type": "display_data"
    }
   ],
   "source": [
    "# Pie-chart of the distribution of 'race' feature\n",
    "plt.figure(figsize=(10, 8))\n",
    "data_pie_chart = income_df_copy['race'].value_counts().sort_index()\n",
    "labels = ['Amer-Indian-Eskimo', 'Asian-Pac-Islander', 'Black', 'Other', 'White']\n",
    "colors = [\"pink\",\"yellow\", \"lightgreen\",'violet', \"lightblue\"]\n",
    "plt.pie(x=data_pie_chart, labels=labels, autopct='%.2f%%', colors=colors, explode=(0.1, 0.1, 0.1, 0.1, 0), radius=1, textprops={'fontsize':12})\n",
    "plt.title('Percentage Distribution of People by Race', fontsize=14)\n",
    "plt.show()"
   ]
  },
  {
   "attachments": {},
   "cell_type": "markdown",
   "id": "839bd8b8",
   "metadata": {},
   "source": [
    "Since, the dataset consists sample mostly taken from the US, so, we are getting a greater percentage of whites in the \"race\" distribution followed by the black people."
   ]
  },
  {
   "cell_type": "code",
   "execution_count": 33,
   "id": "632f545a",
   "metadata": {},
   "outputs": [
    {
     "data": {
      "image/png": "[encoded data removed]",
      "text/plain": [
       "<Figure size 720x432 with 1 Axes>"
      ]
     },
     "metadata": {
      "needs_background": "light"
     },
     "output_type": "display_data"
    }
   ],
   "source": [
    "# Plotting the countplot of race by income status\n",
    "plt.figure(figsize=(10, 6))\n",
    "sns.countplot(data=income_df_copy, x='race', hue='income_status', palette='magma_r');"
   ]
  },
  {
   "cell_type": "code",
   "execution_count": 34,
   "id": "d42533ea",
   "metadata": {},
   "outputs": [
    {
     "data": {
      "text/html": [
       "<div>\n",
       "<style scoped>\n",
       "    .dataframe tbody tr th:only-of-type {\n",
       "        vertical-align: middle;\n",
       "    }\n",
       "\n",
       "    .dataframe tbody tr th {\n",
       "        vertical-align: top;\n",
       "    }\n",
       "\n",
       "    .dataframe thead th {\n",
       "        text-align: right;\n",
       "    }\n",
       "</style>\n",
       "<table border=\"1\" class=\"dataframe\">\n",
       "  <thead>\n",
       "    <tr style=\"text-align: right;\">\n",
       "      <th>income_status</th>\n",
       "      <th>&lt;=50K</th>\n",
       "      <th>&gt;50K</th>\n",
       "    </tr>\n",
       "    <tr>\n",
       "      <th>race</th>\n",
       "      <th></th>\n",
       "      <th></th>\n",
       "    </tr>\n",
       "  </thead>\n",
       "  <tbody>\n",
       "    <tr>\n",
       "      <th>Amer-Indian-Eskimo</th>\n",
       "      <td>0.884244</td>\n",
       "      <td>0.115756</td>\n",
       "    </tr>\n",
       "    <tr>\n",
       "      <th>Asian-Pac-Islander</th>\n",
       "      <td>0.734360</td>\n",
       "      <td>0.265640</td>\n",
       "    </tr>\n",
       "    <tr>\n",
       "      <th>Black</th>\n",
       "      <td>0.876120</td>\n",
       "      <td>0.123880</td>\n",
       "    </tr>\n",
       "    <tr>\n",
       "      <th>Other</th>\n",
       "      <td>0.907749</td>\n",
       "      <td>0.092251</td>\n",
       "    </tr>\n",
       "    <tr>\n",
       "      <th>White</th>\n",
       "      <td>0.744131</td>\n",
       "      <td>0.255869</td>\n",
       "    </tr>\n",
       "  </tbody>\n",
       "</table>\n",
       "</div>"
      ],
      "text/plain": [
       "income_status           <=50K      >50K\n",
       "race                                   \n",
       " Amer-Indian-Eskimo  0.884244  0.115756\n",
       " Asian-Pac-Islander  0.734360  0.265640\n",
       " Black               0.876120  0.123880\n",
       " Other               0.907749  0.092251\n",
       " White               0.744131  0.255869"
      ]
     },
     "execution_count": 34,
     "metadata": {},
     "output_type": "execute_result"
    }
   ],
   "source": [
    "# Calculating a cross-tabulation between race and income status of the people in proportions\n",
    "race_income_crosstab_prop = pd.crosstab(index=income_df_copy['race'], columns=income_df_copy['income_status'], normalize='index')\n",
    "race_income_crosstab_prop"
   ]
  },
  {
   "cell_type": "code",
   "execution_count": 35,
   "id": "a3999279",
   "metadata": {},
   "outputs": [
    {
     "data": {
      "text/html": [
       "<div>\n",
       "<style scoped>\n",
       "    .dataframe tbody tr th:only-of-type {\n",
       "        vertical-align: middle;\n",
       "    }\n",
       "\n",
       "    .dataframe tbody tr th {\n",
       "        vertical-align: top;\n",
       "    }\n",
       "\n",
       "    .dataframe thead th {\n",
       "        text-align: right;\n",
       "    }\n",
       "</style>\n",
       "<table border=\"1\" class=\"dataframe\">\n",
       "  <thead>\n",
       "    <tr style=\"text-align: right;\">\n",
       "      <th>income_status</th>\n",
       "      <th>&lt;=50K</th>\n",
       "      <th>&gt;50K</th>\n",
       "    </tr>\n",
       "    <tr>\n",
       "      <th>race</th>\n",
       "      <th></th>\n",
       "      <th></th>\n",
       "    </tr>\n",
       "  </thead>\n",
       "  <tbody>\n",
       "    <tr>\n",
       "      <th>Amer-Indian-Eskimo</th>\n",
       "      <td>275</td>\n",
       "      <td>36</td>\n",
       "    </tr>\n",
       "    <tr>\n",
       "      <th>Asian-Pac-Islander</th>\n",
       "      <td>763</td>\n",
       "      <td>276</td>\n",
       "    </tr>\n",
       "    <tr>\n",
       "      <th>Black</th>\n",
       "      <td>2737</td>\n",
       "      <td>387</td>\n",
       "    </tr>\n",
       "    <tr>\n",
       "      <th>Other</th>\n",
       "      <td>246</td>\n",
       "      <td>25</td>\n",
       "    </tr>\n",
       "    <tr>\n",
       "      <th>White</th>\n",
       "      <td>20698</td>\n",
       "      <td>7117</td>\n",
       "    </tr>\n",
       "  </tbody>\n",
       "</table>\n",
       "</div>"
      ],
      "text/plain": [
       "income_status         <=50K   >50K\n",
       "race                              \n",
       " Amer-Indian-Eskimo     275     36\n",
       " Asian-Pac-Islander     763    276\n",
       " Black                 2737    387\n",
       " Other                  246     25\n",
       " White                20698   7117"
      ]
     },
     "execution_count": 35,
     "metadata": {},
     "output_type": "execute_result"
    }
   ],
   "source": [
    "# Calculating a cross-tabulation between race and income status of the people in frequency\n",
    "race_income_crosstab = pd.crosstab(index=income_df_copy['race'], columns=income_df_copy['income_status'])\n",
    "race_income_crosstab"
   ]
  },
  {
   "cell_type": "code",
   "execution_count": 36,
   "id": "d9e888f4",
   "metadata": {},
   "outputs": [
    {
     "data": {
      "image/png": "[encoded data removed]",
      "text/plain": [
       "<Figure size 864x504 with 1 Axes>"
      ]
     },
     "metadata": {
      "needs_background": "light"
     },
     "output_type": "display_data"
    }
   ],
   "source": [
    "# Plotting a stacked barchart for the above cross tabulations\n",
    "race_income_crosstab_prop.plot(kind='bar', stacked=True,\n",
    "                               colormap='tab20', figsize=(12, 7))\n",
    "\n",
    "plt.legend(loc='lower left', ncol=2)\n",
    "plt.xlabel('Race')\n",
    "plt.ylabel('Proportion')\n",
    "\n",
    "for n, x in enumerate([*race_income_crosstab.index.values]):\n",
    "    for (proportion, count, y_loc) in zip(race_income_crosstab_prop.loc[x],\n",
    "                                          race_income_crosstab.loc[x],\n",
    "                                          race_income_crosstab_prop.loc[x].cumsum()):\n",
    "                \n",
    "        plt.text(x=n - 0.17,\n",
    "                 y=(y_loc - proportion) + (proportion / 2),\n",
    "                 s=f'{count}\\n({np.round(proportion * 100, 1)}%)', \n",
    "                 color=\"black\",\n",
    "                 fontsize=10);"
   ]
  },
  {
   "attachments": {},
   "cell_type": "markdown",
   "id": "abbef610",
   "metadata": {},
   "source": [
    "From the above plot, we can see that only White and Asian-Pac-Islander races are having about 25%+ people belonging to the $50,000 income status."
   ]
  },
  {
   "cell_type": "code",
   "execution_count": 37,
   "id": "a85a79eb",
   "metadata": {},
   "outputs": [
    {
     "data": {
      "text/plain": [
       " Husband           13193\n",
       " Not-in-family      8304\n",
       " Own-child          5068\n",
       " Unmarried          3446\n",
       " Wife               1568\n",
       " Other-relative      981\n",
       "Name: relationship, dtype: int64"
      ]
     },
     "execution_count": 37,
     "metadata": {},
     "output_type": "execute_result"
    }
   ],
   "source": [
    "# The value counts of 'relationship' feature\n",
    "income_df_copy['relationship'].value_counts()"
   ]
  },
  {
   "cell_type": "markdown",
   "id": "82c8aac0",
   "metadata": {},
   "source": [
    "The categories values of the categorical features have some leading whitespaces which we will try to remove them by creating a function.\n",
    "\n",
    "We will also change the \"?\" value which are present in some of the features to \"Unknown\" or \"Unknown/Other\"."
   ]
  },
  {
   "cell_type": "code",
   "execution_count": 38,
   "id": "7ed6b1f4",
   "metadata": {},
   "outputs": [],
   "source": [
    "# Creating a function to remove leading whitespaces\n",
    "def remove_lead_whitespaces(txt):\n",
    "    split_text = txt.split(\" \")\n",
    "    return split_text[1]"
   ]
  },
  {
   "cell_type": "code",
   "execution_count": 39,
   "id": "a523a39a",
   "metadata": {},
   "outputs": [],
   "source": [
    "# Applying the remove leading whitespace function to the features\n",
    "income_df_copy['workclass'] = income_df_copy['workclass'].apply(remove_lead_whitespaces)\n",
    "income_df_copy['education'] = income_df_copy['education'].apply(remove_lead_whitespaces)\n",
    "income_df_copy['marital_status'] = income_df_copy['marital_status'].apply(remove_lead_whitespaces)\n",
    "income_df_copy['occupation'] = income_df_copy['occupation'].apply(remove_lead_whitespaces)\n",
    "income_df_copy['relationship'] = income_df_copy['relationship'].apply(remove_lead_whitespaces)\n",
    "income_df_copy['race'] = income_df_copy['race'].apply(remove_lead_whitespaces)\n",
    "income_df_copy['sex'] = income_df_copy['sex'].apply(remove_lead_whitespaces)\n",
    "income_df_copy['native_country'] = income_df_copy['native_country'].apply(remove_lead_whitespaces)\n",
    "income_df_copy['income_status'] = income_df_copy['income_status'].apply(remove_lead_whitespaces)"
   ]
  },
  {
   "cell_type": "markdown",
   "id": "9c67af60",
   "metadata": {},
   "source": [
    "We will now try to group some of the categorical values of some of the features."
   ]
  },
  {
   "cell_type": "code",
   "execution_count": 40,
   "id": "edca2517",
   "metadata": {},
   "outputs": [
    {
     "data": {
      "text/plain": [
       "Private             22696\n",
       "Self-emp-not-inc     2541\n",
       "Local-gov            2093\n",
       "?                    1836\n",
       "State-gov            1297\n",
       "Self-emp-inc         1116\n",
       "Federal-gov           960\n",
       "Without-pay            14\n",
       "Never-worked            7\n",
       "Name: workclass, dtype: int64"
      ]
     },
     "execution_count": 40,
     "metadata": {},
     "output_type": "execute_result"
    }
   ],
   "source": [
    "# Checking the value counts of the workclass feature\n",
    "income_df_copy['workclass'].value_counts()"
   ]
  },
  {
   "cell_type": "code",
   "execution_count": 41,
   "metadata": {},
   "outputs": [
    {
     "data": {
      "text/plain": [
       "Private          22696\n",
       "Govt              4350\n",
       "Self_emp          3657\n",
       "Unknown/Other     1836\n",
       "Other               21\n",
       "Name: work_class, dtype: int64"
      ]
     },
     "execution_count": 41,
     "metadata": {},
     "output_type": "execute_result"
    }
   ],
   "source": [
    "# Grouping some of the categories of the workclass feature\n",
    "income_df_copy['work_class'] = income_df_copy['workclass'].replace({'Self-emp-not-inc':'Self_emp', 'Self-emp-inc':'Self_emp', \n",
    "                                                                    'Local-gov':'Govt', 'State-gov':'Govt', 'Federal-gov':'Govt',\n",
    "                                                                    '?':'Unknown/Other', 'Without-pay':'Other', 'Never-worked':'Other'})\n",
    "\n",
    "income_df_copy['work_class'].value_counts()                                                                    "
   ]
  },
  {
   "cell_type": "code",
   "execution_count": 42,
   "id": "d84968fc",
   "metadata": {},
   "outputs": [
    {
     "data": {
      "text/plain": [
       "Married-civ-spouse       14976\n",
       "Never-married            10682\n",
       "Divorced                  4443\n",
       "Separated                 1025\n",
       "Widowed                    993\n",
       "Married-spouse-absent      418\n",
       "Married-AF-spouse           23\n",
       "Name: marital_status, dtype: int64"
      ]
     },
     "execution_count": 42,
     "metadata": {},
     "output_type": "execute_result"
    }
   ],
   "source": [
    "# Checking the value counts of the marital_status feature\n",
    "income_df_copy['marital_status'].value_counts()"
   ]
  },
  {
   "cell_type": "code",
   "execution_count": 43,
   "id": "37bc9d6f",
   "metadata": {},
   "outputs": [
    {
     "data": {
      "text/plain": [
       "Married      15417\n",
       "Single       10682\n",
       "Divorced      4443\n",
       "Separated     1025\n",
       "Widowed        993\n",
       "Name: marital_status, dtype: int64"
      ]
     },
     "execution_count": 43,
     "metadata": {},
     "output_type": "execute_result"
    }
   ],
   "source": [
    "# Grouping some of the categories of the marital_status feature\n",
    "income_df_copy['marital_status'] = income_df_copy['marital_status'].replace({'Married-civ-spouse':'Married', 'Married-spouse-absent':'Married', 'Married-AF-spouse':'Married',\n",
    "                                                                             'Never-married':'Single'})\n",
    "\n",
    "income_df_copy['marital_status'].value_counts()"
   ]
  },
  {
   "cell_type": "code",
   "execution_count": 44,
   "id": "84001863",
   "metadata": {},
   "outputs": [
    {
     "data": {
      "image/png": "[encoded data removed]",
      "text/plain": [
       "<Figure size 720x432 with 1 Axes>"
      ]
     },
     "metadata": {
      "needs_background": "light"
     },
     "output_type": "display_data"
    }
   ],
   "source": [
    "# Plotting the counts of the 'marital_status' feature\n",
    "plt.figure(figsize=(10, 6))\n",
    "sns.countplot(data=income_df_copy, x='marital_status', order=income_df_copy['marital_status'].value_counts().index, palette='magma_r');"
   ]
  },
  {
   "cell_type": "code",
   "execution_count": 45,
   "id": "f45c38e8",
   "metadata": {},
   "outputs": [
    {
     "data": {
      "image/png": "[encoded data removed]",
      "text/plain": [
       "<Figure size 504x504 with 1 Axes>"
      ]
     },
     "metadata": {},
     "output_type": "display_data"
    }
   ],
   "source": [
    "# Plotting donutplot for marital status by income status\n",
    "labels = ['Divorced', 'Married', 'Separated', 'Single', 'Widowed']\n",
    "sizes = [val for val in income_df_copy['marital_status'].value_counts().sort_index()]\n",
    "#colors\n",
    "colors = [ 'violet', '#ffcc99', '#66b3ff', \"yellow\",'#99ff99']\n",
    "\n",
    "\n",
    "fig1, ax1 = plt.subplots(figsize=(7, 7))\n",
    "ax1.pie(sizes, colors = colors, labels=labels, autopct='%.2f%%', startangle=10, explode=(0.08, 0, 0, 0, 0.08), textprops={'fontsize':11})\n",
    "#draw circle\n",
    "centre_circle = plt.Circle((0, 0),  0.7,  fc='white')\n",
    "fig = plt.gcf()\n",
    "fig.gca().add_artist(centre_circle)\n",
    "# Equal aspect ratio ensures that pie is drawn as a circle\n",
    "ax1.axis('equal')  \n",
    "plt.title('Percentage Distribution of People by Marital Status', fontsize=14);"
   ]
  },
  {
   "cell_type": "code",
   "execution_count": 46,
   "id": "30f966a8",
   "metadata": {},
   "outputs": [
    {
     "data": {
      "text/html": [
       "<div>\n",
       "<style scoped>\n",
       "    .dataframe tbody tr th:only-of-type {\n",
       "        vertical-align: middle;\n",
       "    }\n",
       "\n",
       "    .dataframe tbody tr th {\n",
       "        vertical-align: top;\n",
       "    }\n",
       "\n",
       "    .dataframe thead th {\n",
       "        text-align: right;\n",
       "    }\n",
       "</style>\n",
       "<table border=\"1\" class=\"dataframe\">\n",
       "  <thead>\n",
       "    <tr style=\"text-align: right;\">\n",
       "      <th>income_status</th>\n",
       "      <th>&lt;=50K</th>\n",
       "      <th>&gt;50K</th>\n",
       "    </tr>\n",
       "    <tr>\n",
       "      <th>marital_status</th>\n",
       "      <th></th>\n",
       "      <th></th>\n",
       "    </tr>\n",
       "  </thead>\n",
       "  <tbody>\n",
       "    <tr>\n",
       "      <th>Divorced</th>\n",
       "      <td>0.895791</td>\n",
       "      <td>0.104209</td>\n",
       "    </tr>\n",
       "    <tr>\n",
       "      <th>Married</th>\n",
       "      <td>0.563080</td>\n",
       "      <td>0.436920</td>\n",
       "    </tr>\n",
       "    <tr>\n",
       "      <th>Separated</th>\n",
       "      <td>0.935610</td>\n",
       "      <td>0.064390</td>\n",
       "    </tr>\n",
       "    <tr>\n",
       "      <th>Single</th>\n",
       "      <td>0.954035</td>\n",
       "      <td>0.045965</td>\n",
       "    </tr>\n",
       "    <tr>\n",
       "      <th>Widowed</th>\n",
       "      <td>0.914401</td>\n",
       "      <td>0.085599</td>\n",
       "    </tr>\n",
       "  </tbody>\n",
       "</table>\n",
       "</div>"
      ],
      "text/plain": [
       "income_status      <=50K      >50K\n",
       "marital_status                    \n",
       "Divorced        0.895791  0.104209\n",
       "Married         0.563080  0.436920\n",
       "Separated       0.935610  0.064390\n",
       "Single          0.954035  0.045965\n",
       "Widowed         0.914401  0.085599"
      ]
     },
     "execution_count": 46,
     "metadata": {},
     "output_type": "execute_result"
    }
   ],
   "source": [
    "# Calculating a cross-tabulation between marital_status and income status of the people in proportions\n",
    "marital_income_crosstab_prop = pd.crosstab(index=income_df_copy['marital_status'], columns=income_df_copy['income_status'], normalize='index')\n",
    "marital_income_crosstab_prop"
   ]
  },
  {
   "cell_type": "code",
   "execution_count": 47,
   "id": "b65f7ed4",
   "metadata": {},
   "outputs": [
    {
     "data": {
      "text/html": [
       "<div>\n",
       "<style scoped>\n",
       "    .dataframe tbody tr th:only-of-type {\n",
       "        vertical-align: middle;\n",
       "    }\n",
       "\n",
       "    .dataframe tbody tr th {\n",
       "        vertical-align: top;\n",
       "    }\n",
       "\n",
       "    .dataframe thead th {\n",
       "        text-align: right;\n",
       "    }\n",
       "</style>\n",
       "<table border=\"1\" class=\"dataframe\">\n",
       "  <thead>\n",
       "    <tr style=\"text-align: right;\">\n",
       "      <th>income_status</th>\n",
       "      <th>&lt;=50K</th>\n",
       "      <th>&gt;50K</th>\n",
       "    </tr>\n",
       "    <tr>\n",
       "      <th>marital_status</th>\n",
       "      <th></th>\n",
       "      <th></th>\n",
       "    </tr>\n",
       "  </thead>\n",
       "  <tbody>\n",
       "    <tr>\n",
       "      <th>Divorced</th>\n",
       "      <td>3980</td>\n",
       "      <td>463</td>\n",
       "    </tr>\n",
       "    <tr>\n",
       "      <th>Married</th>\n",
       "      <td>8681</td>\n",
       "      <td>6736</td>\n",
       "    </tr>\n",
       "    <tr>\n",
       "      <th>Separated</th>\n",
       "      <td>959</td>\n",
       "      <td>66</td>\n",
       "    </tr>\n",
       "    <tr>\n",
       "      <th>Single</th>\n",
       "      <td>10191</td>\n",
       "      <td>491</td>\n",
       "    </tr>\n",
       "    <tr>\n",
       "      <th>Widowed</th>\n",
       "      <td>908</td>\n",
       "      <td>85</td>\n",
       "    </tr>\n",
       "  </tbody>\n",
       "</table>\n",
       "</div>"
      ],
      "text/plain": [
       "income_status   <=50K  >50K\n",
       "marital_status             \n",
       "Divorced         3980   463\n",
       "Married          8681  6736\n",
       "Separated         959    66\n",
       "Single          10191   491\n",
       "Widowed           908    85"
      ]
     },
     "execution_count": 47,
     "metadata": {},
     "output_type": "execute_result"
    }
   ],
   "source": [
    "# Calculating a cross-tabulation between marital_status and income status of the people in proportions\n",
    "marital_income_crosstab = pd.crosstab(index=income_df_copy['marital_status'], columns=income_df_copy['income_status'])\n",
    "marital_income_crosstab"
   ]
  },
  {
   "cell_type": "code",
   "execution_count": 48,
   "id": "cce4cb7a",
   "metadata": {},
   "outputs": [
    {
     "data": {
      "image/png": "[encoded data removed]",
      "text/plain": [
       "<Figure size 720x576 with 1 Axes>"
      ]
     },
     "metadata": {
      "needs_background": "light"
     },
     "output_type": "display_data"
    }
   ],
   "source": [
    "# Plotting a stacked barchart for the above cross tabulations\n",
    "marital_income_crosstab_prop.plot(kind='bar', stacked=True,\n",
    "                                figsize=(10, 8))\n",
    "\n",
    "plt.legend(loc='lower left', ncol=2)\n",
    "plt.xlabel('Marital Status')\n",
    "plt.ylabel('Proportion')\n",
    "\n",
    "for n, x in enumerate([*marital_income_crosstab.index.values]):\n",
    "    for (proportion, count, y_loc) in zip(marital_income_crosstab_prop.loc[x],\n",
    "                                          marital_income_crosstab.loc[x],\n",
    "                                          marital_income_crosstab_prop.loc[x].cumsum()):\n",
    "                \n",
    "        plt.text(x=n - 0.17,\n",
    "                 y=(y_loc - proportion) + (proportion / 2),\n",
    "                 s=f'{count}\\n({np.round(proportion * 100, 1)}%)', \n",
    "                 color=\"black\",\n",
    "                 fontsize=10);"
   ]
  },
  {
   "attachments": {},
   "cell_type": "markdown",
   "id": "14f02fb6",
   "metadata": {},
   "source": [
    "From the above plot, we can observe that married couples are having a somewhat an even distribution of income status i.e. about 56% of them are having an income status of less than or equal to $50,000 and about 44% are having a greater income than $50,000. Other categories of the marital status are showing greater uneven distributions of income status as in almost every category other than the \"married\", about 90% to 90%+ of the people are having less than or equal to $50,000. "
   ]
  },
  {
   "cell_type": "code",
   "execution_count": 49,
   "id": "79fae1df",
   "metadata": {},
   "outputs": [
    {
     "data": {
      "text/plain": [
       "Prof-specialty       4140\n",
       "Craft-repair         4099\n",
       "Exec-managerial      4066\n",
       "Adm-clerical         3769\n",
       "Sales                3650\n",
       "Other-service        3295\n",
       "Machine-op-inspct    2002\n",
       "?                    1843\n",
       "Transport-moving     1597\n",
       "Handlers-cleaners    1370\n",
       "Farming-fishing       994\n",
       "Tech-support          928\n",
       "Protective-serv       649\n",
       "Priv-house-serv       149\n",
       "Armed-Forces            9\n",
       "Name: occupation, dtype: int64"
      ]
     },
     "execution_count": 49,
     "metadata": {},
     "output_type": "execute_result"
    }
   ],
   "source": [
    "# Checking the value counts of 'occupation' feature\n",
    "income_df_copy['occupation'].value_counts()"
   ]
  },
  {
   "cell_type": "code",
   "execution_count": 50,
   "id": "816a586b",
   "metadata": {},
   "outputs": [
    {
     "data": {
      "text/plain": [
       "Blue_collar      10062\n",
       "White_collar      7835\n",
       "Service           5021\n",
       "Professional      4140\n",
       "Sales             3650\n",
       "Unknown/Other     1852\n",
       "Name: occupation, dtype: int64"
      ]
     },
     "execution_count": 50,
     "metadata": {},
     "output_type": "execute_result"
    }
   ],
   "source": [
    "# Grouping some of the categories of the occupation feature\n",
    "income_df_copy['occupation'] = income_df_copy['occupation'].replace({'Prof-specialty':'Professional', \n",
    "                                                                     'Craft-repair':'Blue_collar', \n",
    "                                                                     'Exec-managerial':'White_collar', \n",
    "                                                                     'Adm-clerical':'White_collar',\n",
    "                                                                     'Other-service':'Service', \n",
    "                                                                     'Machine-op-inspct':'Blue_collar', \n",
    "                                                                     '?':'Unknown/Other',\n",
    "                                                                     'Armed-Forces':'Unknown/Other', \n",
    "                                                                     'Transport-moving':'Blue_collar',\n",
    "                                                                     'Handlers-cleaners':'Blue_collar', \n",
    "                                                                     'Farming-fishing':'Blue_collar', \n",
    "                                                                     'Tech-support':'Service',\n",
    "                                                                     'Protective-serv':'Service', \n",
    "                                                                     'Priv-house-serv':'Service'})\n",
    "\n",
    "income_df_copy['occupation'].value_counts()                                                             "
   ]
  },
  {
   "cell_type": "code",
   "execution_count": 51,
   "id": "10e4fd3f",
   "metadata": {},
   "outputs": [
    {
     "data": {
      "image/png": "[encoded data removed]",
      "text/plain": [
       "<Figure size 720x432 with 1 Axes>"
      ]
     },
     "metadata": {
      "needs_background": "light"
     },
     "output_type": "display_data"
    }
   ],
   "source": [
    "# Plotting the countplot of the 'occupation' feature\n",
    "plt.figure(figsize=(10, 6))\n",
    "sns.countplot(data=income_df_copy, x='occupation', order=income_df_copy['occupation'].value_counts().index, palette='magma_r');"
   ]
  },
  {
   "cell_type": "code",
   "execution_count": 52,
   "id": "a01f93a0",
   "metadata": {},
   "outputs": [
    {
     "data": {
      "image/png": "[encoded data removed]",
      "text/plain": [
       "<Figure size 720x576 with 1 Axes>"
      ]
     },
     "metadata": {},
     "output_type": "display_data"
    }
   ],
   "source": [
    "# Pie-chart of the distribution of 'occupation' feature\n",
    "plt.figure(figsize=(10, 8))\n",
    "data_pie_chart = income_df_copy['occupation'].value_counts()\n",
    "labels = ['Blue_collar', 'White_collar', 'Service', 'Professional', 'Sales',\n",
    "       'Unknown/Other']\n",
    "colors = [\"lightblue\", \"pink\", \"yellow\", \"lightgreen\", 'violet', '#ffcc99']\n",
    "plt.pie(x=data_pie_chart, labels=labels, startangle=80, autopct='%.2f%%', colors=colors, explode=(0, 0, 0, 0.08, 0.08, 0), radius=1, textprops={'fontsize':12})\n",
    "plt.title('Percentage Distribution of People by Occupation', fontsize=14)\n",
    "plt.show()"
   ]
  },
  {
   "cell_type": "code",
   "execution_count": 53,
   "metadata": {},
   "outputs": [
    {
     "data": {
      "image/png": "[encoded data removed]",
      "text/plain": [
       "<Figure size 720x432 with 1 Axes>"
      ]
     },
     "metadata": {
      "needs_background": "light"
     },
     "output_type": "display_data"
    }
   ],
   "source": [
    "# Plotting the countplot of occupation by income status\n",
    "plt.figure(figsize=(10, 6))\n",
    "sns.countplot(data=income_df_copy, x='occupation', hue='income_status', palette='magma_r');"
   ]
  },
  {
   "cell_type": "code",
   "execution_count": 54,
   "metadata": {},
   "outputs": [
    {
     "data": {
      "text/html": [
       "<div>\n",
       "<style scoped>\n",
       "    .dataframe tbody tr th:only-of-type {\n",
       "        vertical-align: middle;\n",
       "    }\n",
       "\n",
       "    .dataframe tbody tr th {\n",
       "        vertical-align: top;\n",
       "    }\n",
       "\n",
       "    .dataframe thead th {\n",
       "        text-align: right;\n",
       "    }\n",
       "</style>\n",
       "<table border=\"1\" class=\"dataframe\">\n",
       "  <thead>\n",
       "    <tr style=\"text-align: right;\">\n",
       "      <th>income_status</th>\n",
       "      <th>&lt;=50K</th>\n",
       "      <th>&gt;50K</th>\n",
       "    </tr>\n",
       "    <tr>\n",
       "      <th>occupation</th>\n",
       "      <th></th>\n",
       "      <th></th>\n",
       "    </tr>\n",
       "  </thead>\n",
       "  <tbody>\n",
       "    <tr>\n",
       "      <th>Blue_collar</th>\n",
       "      <td>0.831048</td>\n",
       "      <td>0.168952</td>\n",
       "    </tr>\n",
       "    <tr>\n",
       "      <th>Professional</th>\n",
       "      <td>0.550966</td>\n",
       "      <td>0.449034</td>\n",
       "    </tr>\n",
       "    <tr>\n",
       "      <th>Sales</th>\n",
       "      <td>0.730685</td>\n",
       "      <td>0.269315</td>\n",
       "    </tr>\n",
       "    <tr>\n",
       "      <th>Service</th>\n",
       "      <td>0.874129</td>\n",
       "      <td>0.125871</td>\n",
       "    </tr>\n",
       "    <tr>\n",
       "      <th>Unknown/Other</th>\n",
       "      <td>0.896328</td>\n",
       "      <td>0.103672</td>\n",
       "    </tr>\n",
       "    <tr>\n",
       "      <th>White_collar</th>\n",
       "      <td>0.684110</td>\n",
       "      <td>0.315890</td>\n",
       "    </tr>\n",
       "  </tbody>\n",
       "</table>\n",
       "</div>"
      ],
      "text/plain": [
       "income_status     <=50K      >50K\n",
       "occupation                       \n",
       "Blue_collar    0.831048  0.168952\n",
       "Professional   0.550966  0.449034\n",
       "Sales          0.730685  0.269315\n",
       "Service        0.874129  0.125871\n",
       "Unknown/Other  0.896328  0.103672\n",
       "White_collar   0.684110  0.315890"
      ]
     },
     "execution_count": 54,
     "metadata": {},
     "output_type": "execute_result"
    }
   ],
   "source": [
    "# Calculating a cross-tabulation between occupation and income status of the people in proportions\n",
    "occ_income_crosstab_prop = pd.crosstab(index=income_df_copy['occupation'], columns=income_df_copy['income_status'], normalize='index')\n",
    "occ_income_crosstab_prop"
   ]
  },
  {
   "cell_type": "code",
   "execution_count": 55,
   "id": "212f6f4e",
   "metadata": {},
   "outputs": [
    {
     "data": {
      "text/html": [
       "<div>\n",
       "<style scoped>\n",
       "    .dataframe tbody tr th:only-of-type {\n",
       "        vertical-align: middle;\n",
       "    }\n",
       "\n",
       "    .dataframe tbody tr th {\n",
       "        vertical-align: top;\n",
       "    }\n",
       "\n",
       "    .dataframe thead th {\n",
       "        text-align: right;\n",
       "    }\n",
       "</style>\n",
       "<table border=\"1\" class=\"dataframe\">\n",
       "  <thead>\n",
       "    <tr style=\"text-align: right;\">\n",
       "      <th>income_status</th>\n",
       "      <th>&lt;=50K</th>\n",
       "      <th>&gt;50K</th>\n",
       "    </tr>\n",
       "    <tr>\n",
       "      <th>occupation</th>\n",
       "      <th></th>\n",
       "      <th></th>\n",
       "    </tr>\n",
       "  </thead>\n",
       "  <tbody>\n",
       "    <tr>\n",
       "      <th>Blue_collar</th>\n",
       "      <td>8362</td>\n",
       "      <td>1700</td>\n",
       "    </tr>\n",
       "    <tr>\n",
       "      <th>Professional</th>\n",
       "      <td>2281</td>\n",
       "      <td>1859</td>\n",
       "    </tr>\n",
       "    <tr>\n",
       "      <th>Sales</th>\n",
       "      <td>2667</td>\n",
       "      <td>983</td>\n",
       "    </tr>\n",
       "    <tr>\n",
       "      <th>Service</th>\n",
       "      <td>4389</td>\n",
       "      <td>632</td>\n",
       "    </tr>\n",
       "    <tr>\n",
       "      <th>Unknown/Other</th>\n",
       "      <td>1660</td>\n",
       "      <td>192</td>\n",
       "    </tr>\n",
       "    <tr>\n",
       "      <th>White_collar</th>\n",
       "      <td>5360</td>\n",
       "      <td>2475</td>\n",
       "    </tr>\n",
       "  </tbody>\n",
       "</table>\n",
       "</div>"
      ],
      "text/plain": [
       "income_status  <=50K  >50K\n",
       "occupation                \n",
       "Blue_collar     8362  1700\n",
       "Professional    2281  1859\n",
       "Sales           2667   983\n",
       "Service         4389   632\n",
       "Unknown/Other   1660   192\n",
       "White_collar    5360  2475"
      ]
     },
     "execution_count": 55,
     "metadata": {},
     "output_type": "execute_result"
    }
   ],
   "source": [
    "# Calculating a cross-tabulation between occupation and income status of the people in frequency\n",
    "occ_income_crosstab = pd.crosstab(index=income_df_copy['occupation'], columns=income_df_copy['income_status'])\n",
    "occ_income_crosstab"
   ]
  },
  {
   "cell_type": "code",
   "execution_count": 56,
   "metadata": {},
   "outputs": [
    {
     "data": {
      "image/png": "[encoded data removed]",
      "text/plain": [
       "<Figure size 864x504 with 1 Axes>"
      ]
     },
     "metadata": {
      "needs_background": "light"
     },
     "output_type": "display_data"
    }
   ],
   "source": [
    "# Plotting a stacked barchart for the above cross tabulations\n",
    "occ_income_crosstab_prop.plot(kind='bar', stacked=True,\n",
    "                               colormap='tab20', figsize=(12, 7))\n",
    "\n",
    "plt.legend(loc='lower left', ncol=2)\n",
    "plt.xlabel('Occupation')\n",
    "plt.ylabel('Proportion')\n",
    "\n",
    "for n, x in enumerate([*occ_income_crosstab.index.values]):\n",
    "    for (proportion, count, y_loc) in zip(occ_income_crosstab_prop.loc[x],\n",
    "                                          occ_income_crosstab.loc[x],\n",
    "                                          occ_income_crosstab_prop.loc[x].cumsum()):\n",
    "                \n",
    "        plt.text(x=n - 0.17,\n",
    "                 y=(y_loc - proportion) + (proportion / 2),\n",
    "                 s=f'{count}\\n({np.round(proportion * 100, 1)}%)', \n",
    "                 color=\"black\",\n",
    "                 fontsize=10);"
   ]
  },
  {
   "attachments": {},
   "cell_type": "markdown",
   "id": "be6638ff",
   "metadata": {},
   "source": [
    "Income earners who are professional in their occupation are having a somewhat even distribution of income status whereas other categories of occuaption have greater uneven distribution of income status."
   ]
  },
  {
   "cell_type": "code",
   "execution_count": 57,
   "id": "3987de49",
   "metadata": {},
   "outputs": [
    {
     "data": {
      "text/plain": [
       "HS-grad         10501\n",
       "Some-college     7291\n",
       "Bachelors        5354\n",
       "Masters          1723\n",
       "Assoc-voc        1382\n",
       "11th             1175\n",
       "Assoc-acdm       1067\n",
       "10th              933\n",
       "7th-8th           646\n",
       "Prof-school       576\n",
       "9th               514\n",
       "12th              433\n",
       "Doctorate         413\n",
       "5th-6th           333\n",
       "1st-4th           168\n",
       "Preschool          51\n",
       "Name: education, dtype: int64"
      ]
     },
     "execution_count": 57,
     "metadata": {},
     "output_type": "execute_result"
    }
   ],
   "source": [
    "# The value counts of the 'education' feature\n",
    "income_df_copy['education'].value_counts()"
   ]
  },
  {
   "cell_type": "code",
   "execution_count": 58,
   "id": "553fb495",
   "metadata": {},
   "outputs": [
    {
     "data": {
      "text/plain": [
       "Graduate               12645\n",
       "HS_graduate            10934\n",
       "Associate_degree        2449\n",
       "Matriculate             2108\n",
       "Postgraduate            1723\n",
       "Under_matric            1661\n",
       "Professional_school      576\n",
       "Doctorate                413\n",
       "Preschool                 51\n",
       "Name: education_level, dtype: int64"
      ]
     },
     "execution_count": 58,
     "metadata": {},
     "output_type": "execute_result"
    }
   ],
   "source": [
    "# Grouping some of the categories of the education feature\n",
    "income_df_copy['education_level'] = income_df_copy['education'].replace({'1st-4th':'Under_matric',\n",
    "                                                                         '5th-6th':'Under_matric',\n",
    "                                                                         '7th-8th':'Under_matric',\n",
    "                                                                         '9th':'Under_matric',\n",
    "                                                                         '10th':'Matriculate',\n",
    "                                                                         '11th':'Matriculate',\n",
    "                                                                         '12th':'HS_graduate',\n",
    "                                                                         'HS-grad':'HS_graduate',\n",
    "                                                                         'Assoc-voc':'Associate_degree',\n",
    "                                                                         'Assoc-acdm':'Associate_degree',\n",
    "                                                                         'Some-college':'Graduate',\n",
    "                                                                         'Bachelors':'Graduate',\n",
    "                                                                         'Masters':'Postgraduate',\n",
    "                                                                         'Prof-school':'Professional_school'})\n",
    "\n",
    "income_df_copy['education_level'].value_counts()                                                                      "
   ]
  },
  {
   "cell_type": "code",
   "execution_count": 59,
   "id": "0a839e28",
   "metadata": {},
   "outputs": [
    {
     "data": {
      "image/png": "[encoded data removed]",
      "text/plain": [
       "<Figure size 720x432 with 1 Axes>"
      ]
     },
     "metadata": {
      "needs_background": "light"
     },
     "output_type": "display_data"
    }
   ],
   "source": [
    "# Plotting the countplot of the 'education_level' feature\n",
    "plt.figure(figsize=(10, 6))\n",
    "sns.countplot(data=income_df_copy, x='education_level', order=income_df_copy['education_level'].value_counts().index, palette='magma_r')\n",
    "plt.xticks(rotation=90);"
   ]
  },
  {
   "cell_type": "code",
   "execution_count": 60,
   "id": "ea30f2e0",
   "metadata": {},
   "outputs": [
    {
     "data": {
      "image/png": "[encoded data removed]",
      "text/plain": [
       "<Figure size 648x648 with 1 Axes>"
      ]
     },
     "metadata": {},
     "output_type": "display_data"
    }
   ],
   "source": [
    "# Plotting donutplot for education level by income status\n",
    "labels = ['Associate_degree', 'Doctorate', 'Graduate', 'HS_graduate',\n",
    "       'Matriculate', 'Postgraduate', 'Preschool', 'Professional_school',\n",
    "       'Under_matric']\n",
    "sizes = [val for val in income_df_copy['education_level'].value_counts().sort_index()]\n",
    "#colors\n",
    "colors = [\"lightblue\", \"pink\", \"yellow\", \"lightgreen\", 'violet', '#ffcc99', '#ff9999','#66b3ff','#99ff99']\n",
    "\n",
    "\n",
    "fig1, ax1 = plt.subplots(figsize=(9, 9))\n",
    "ax1.pie(sizes, colors = colors, labels=labels, autopct='%.2f%%', startangle=30, explode=(0, 0, 0, 0, 0, 0.5, 0.5, 0.5, 0.5), textprops={'fontsize':11})\n",
    "#draw circle\n",
    "centre_circle = plt.Circle((0, 0),  0.7,  fc='white')\n",
    "fig = plt.gcf()\n",
    "fig.gca().add_artist(centre_circle)\n",
    "# Equal aspect ratio ensures that pie is drawn as a circle\n",
    "ax1.axis('equal')  \n",
    "plt.title('Percentage Distribution of People by Education Level', fontsize=14);"
   ]
  },
  {
   "cell_type": "code",
   "execution_count": 61,
   "id": "81e77aa1",
   "metadata": {},
   "outputs": [
    {
     "data": {
      "image/png": "[encoded data removed]",
      "text/plain": [
       "<Figure size 864x432 with 1 Axes>"
      ]
     },
     "metadata": {
      "needs_background": "light"
     },
     "output_type": "display_data"
    }
   ],
   "source": [
    "# Plotting the countplot of education_level by income status\n",
    "plt.figure(figsize=(12, 6))\n",
    "sns.countplot(data=income_df_copy, x='education_level', hue='income_status', palette='magma_r')\n",
    "plt.xticks(rotation=90);"
   ]
  },
  {
   "cell_type": "code",
   "execution_count": 62,
   "id": "ccf7b364",
   "metadata": {},
   "outputs": [
    {
     "data": {
      "text/html": [
       "<div>\n",
       "<style scoped>\n",
       "    .dataframe tbody tr th:only-of-type {\n",
       "        vertical-align: middle;\n",
       "    }\n",
       "\n",
       "    .dataframe tbody tr th {\n",
       "        vertical-align: top;\n",
       "    }\n",
       "\n",
       "    .dataframe thead th {\n",
       "        text-align: right;\n",
       "    }\n",
       "</style>\n",
       "<table border=\"1\" class=\"dataframe\">\n",
       "  <thead>\n",
       "    <tr style=\"text-align: right;\">\n",
       "      <th>income_status</th>\n",
       "      <th>&lt;=50K</th>\n",
       "      <th>&gt;50K</th>\n",
       "    </tr>\n",
       "    <tr>\n",
       "      <th>education_level</th>\n",
       "      <th></th>\n",
       "      <th></th>\n",
       "    </tr>\n",
       "  </thead>\n",
       "  <tbody>\n",
       "    <tr>\n",
       "      <th>Associate_degree</th>\n",
       "      <td>0.744385</td>\n",
       "      <td>0.255615</td>\n",
       "    </tr>\n",
       "    <tr>\n",
       "      <th>Doctorate</th>\n",
       "      <td>0.259080</td>\n",
       "      <td>0.740920</td>\n",
       "    </tr>\n",
       "    <tr>\n",
       "      <th>Graduate</th>\n",
       "      <td>0.714670</td>\n",
       "      <td>0.285330</td>\n",
       "    </tr>\n",
       "    <tr>\n",
       "      <th>HS_graduate</th>\n",
       "      <td>0.843790</td>\n",
       "      <td>0.156210</td>\n",
       "    </tr>\n",
       "    <tr>\n",
       "      <th>Matriculate</th>\n",
       "      <td>0.942125</td>\n",
       "      <td>0.057875</td>\n",
       "    </tr>\n",
       "    <tr>\n",
       "      <th>Postgraduate</th>\n",
       "      <td>0.443413</td>\n",
       "      <td>0.556587</td>\n",
       "    </tr>\n",
       "    <tr>\n",
       "      <th>Preschool</th>\n",
       "      <td>1.000000</td>\n",
       "      <td>0.000000</td>\n",
       "    </tr>\n",
       "    <tr>\n",
       "      <th>Professional_school</th>\n",
       "      <td>0.265625</td>\n",
       "      <td>0.734375</td>\n",
       "    </tr>\n",
       "    <tr>\n",
       "      <th>Under_matric</th>\n",
       "      <td>0.946418</td>\n",
       "      <td>0.053582</td>\n",
       "    </tr>\n",
       "  </tbody>\n",
       "</table>\n",
       "</div>"
      ],
      "text/plain": [
       "income_status           <=50K      >50K\n",
       "education_level                        \n",
       "Associate_degree     0.744385  0.255615\n",
       "Doctorate            0.259080  0.740920\n",
       "Graduate             0.714670  0.285330\n",
       "HS_graduate          0.843790  0.156210\n",
       "Matriculate          0.942125  0.057875\n",
       "Postgraduate         0.443413  0.556587\n",
       "Preschool            1.000000  0.000000\n",
       "Professional_school  0.265625  0.734375\n",
       "Under_matric         0.946418  0.053582"
      ]
     },
     "execution_count": 62,
     "metadata": {},
     "output_type": "execute_result"
    }
   ],
   "source": [
    "# Calculating a cross-tabulation between education_level and income status of the people in proportions\n",
    "edu_income_crosstab_prop = pd.crosstab(index=income_df_copy['education_level'], columns=income_df_copy['income_status'], normalize='index')\n",
    "edu_income_crosstab_prop"
   ]
  },
  {
   "cell_type": "code",
   "execution_count": 63,
   "id": "ba9f8bb5",
   "metadata": {},
   "outputs": [
    {
     "data": {
      "text/html": [
       "<div>\n",
       "<style scoped>\n",
       "    .dataframe tbody tr th:only-of-type {\n",
       "        vertical-align: middle;\n",
       "    }\n",
       "\n",
       "    .dataframe tbody tr th {\n",
       "        vertical-align: top;\n",
       "    }\n",
       "\n",
       "    .dataframe thead th {\n",
       "        text-align: right;\n",
       "    }\n",
       "</style>\n",
       "<table border=\"1\" class=\"dataframe\">\n",
       "  <thead>\n",
       "    <tr style=\"text-align: right;\">\n",
       "      <th>income_status</th>\n",
       "      <th>&lt;=50K</th>\n",
       "      <th>&gt;50K</th>\n",
       "    </tr>\n",
       "    <tr>\n",
       "      <th>education_level</th>\n",
       "      <th></th>\n",
       "      <th></th>\n",
       "    </tr>\n",
       "  </thead>\n",
       "  <tbody>\n",
       "    <tr>\n",
       "      <th>Associate_degree</th>\n",
       "      <td>1823</td>\n",
       "      <td>626</td>\n",
       "    </tr>\n",
       "    <tr>\n",
       "      <th>Doctorate</th>\n",
       "      <td>107</td>\n",
       "      <td>306</td>\n",
       "    </tr>\n",
       "    <tr>\n",
       "      <th>Graduate</th>\n",
       "      <td>9037</td>\n",
       "      <td>3608</td>\n",
       "    </tr>\n",
       "    <tr>\n",
       "      <th>HS_graduate</th>\n",
       "      <td>9226</td>\n",
       "      <td>1708</td>\n",
       "    </tr>\n",
       "    <tr>\n",
       "      <th>Matriculate</th>\n",
       "      <td>1986</td>\n",
       "      <td>122</td>\n",
       "    </tr>\n",
       "    <tr>\n",
       "      <th>Postgraduate</th>\n",
       "      <td>764</td>\n",
       "      <td>959</td>\n",
       "    </tr>\n",
       "    <tr>\n",
       "      <th>Preschool</th>\n",
       "      <td>51</td>\n",
       "      <td>0</td>\n",
       "    </tr>\n",
       "    <tr>\n",
       "      <th>Professional_school</th>\n",
       "      <td>153</td>\n",
       "      <td>423</td>\n",
       "    </tr>\n",
       "    <tr>\n",
       "      <th>Under_matric</th>\n",
       "      <td>1572</td>\n",
       "      <td>89</td>\n",
       "    </tr>\n",
       "  </tbody>\n",
       "</table>\n",
       "</div>"
      ],
      "text/plain": [
       "income_status        <=50K  >50K\n",
       "education_level                 \n",
       "Associate_degree      1823   626\n",
       "Doctorate              107   306\n",
       "Graduate              9037  3608\n",
       "HS_graduate           9226  1708\n",
       "Matriculate           1986   122\n",
       "Postgraduate           764   959\n",
       "Preschool               51     0\n",
       "Professional_school    153   423\n",
       "Under_matric          1572    89"
      ]
     },
     "execution_count": 63,
     "metadata": {},
     "output_type": "execute_result"
    }
   ],
   "source": [
    "# Calculating a cross-tabulation between education_level and income status of the people in frequency\n",
    "edu_income_crosstab = pd.crosstab(index=income_df_copy['education_level'], columns=income_df_copy['income_status'])\n",
    "edu_income_crosstab"
   ]
  },
  {
   "cell_type": "code",
   "execution_count": 64,
   "id": "a42db5f9",
   "metadata": {},
   "outputs": [
    {
     "data": {
      "image/png": "[encoded data removed]",
      "text/plain": [
       "<Figure size 864x720 with 1 Axes>"
      ]
     },
     "metadata": {
      "needs_background": "light"
     },
     "output_type": "display_data"
    }
   ],
   "source": [
    "# Plotting a stacked barchart for the above cross tabulations\n",
    "edu_income_crosstab_prop.plot(kind='barh', stacked=True,\n",
    "                                figsize=(12, 10))\n",
    "\n",
    "plt.legend(loc='lower left', ncol=2)\n",
    "plt.xlabel('Education Level')\n",
    "plt.ylabel('Proportion')\n",
    "\n",
    "for n, x in enumerate([*edu_income_crosstab.index.values]):\n",
    "    for (proportion, count, y_loc) in zip(edu_income_crosstab_prop.loc[x],\n",
    "                                          edu_income_crosstab.loc[x],\n",
    "                                          edu_income_crosstab_prop.loc[x].cumsum()):\n",
    "                \n",
    "        plt.text(y=n - 0.17,\n",
    "                 x=(y_loc - proportion) + (proportion / 2),\n",
    "                 s=f'{count}\\n({np.round(proportion * 100, 1)}%)', \n",
    "                 color=\"black\",\n",
    "                 fontsize=10);"
   ]
  },
  {
   "attachments": {},
   "cell_type": "markdown",
   "id": "4fe20727",
   "metadata": {},
   "source": [
    "From the above plot we can clearly observe that people having a degree from a Professional school or a doctorate degree or a postgraduate degree as their educational qualification are having income more than $50,000."
   ]
  },
  {
   "cell_type": "code",
   "execution_count": 65,
   "id": "cc431c6c",
   "metadata": {},
   "outputs": [
    {
     "data": {
      "text/plain": [
       "United-States                 29169\n",
       "Mexico                          643\n",
       "Unknown/Other                   583\n",
       "Philippines                     198\n",
       "Germany                         137\n",
       "Canada                          121\n",
       "Puerto-Rico                     114\n",
       "El-Salvador                     106\n",
       "India                           100\n",
       "Cuba                             95\n",
       "England                          90\n",
       "Jamaica                          81\n",
       "South                            80\n",
       "China                            75\n",
       "Italy                            73\n",
       "Dominican-Republic               70\n",
       "Vietnam                          67\n",
       "Guatemala                        64\n",
       "Japan                            62\n",
       "Poland                           60\n",
       "Columbia                         59\n",
       "Taiwan                           51\n",
       "Haiti                            44\n",
       "Iran                             43\n",
       "Portugal                         37\n",
       "Nicaragua                        34\n",
       "Peru                             31\n",
       "France                           29\n",
       "Greece                           29\n",
       "Ecuador                          28\n",
       "Ireland                          24\n",
       "Hong                             20\n",
       "Trinadad&Tobago                  19\n",
       "Cambodia                         19\n",
       "Thailand                         18\n",
       "Laos                             18\n",
       "Yugoslavia                       16\n",
       "Outlying-US(Guam-USVI-etc)       14\n",
       "Hungary                          13\n",
       "Honduras                         13\n",
       "Scotland                         12\n",
       "Holand-Netherlands                1\n",
       "Name: native_country, dtype: int64"
      ]
     },
     "execution_count": 65,
     "metadata": {},
     "output_type": "execute_result"
    }
   ],
   "source": [
    "# Changing the '?' to 'unknown' for the native\n",
    "income_df_copy['native_country'] = income_df_copy['native_country'].replace({'?':'Unknown/Other'})\n",
    "income_df_copy['native_country'].value_counts()"
   ]
  },
  {
   "cell_type": "code",
   "execution_count": 66,
   "id": "96d29852",
   "metadata": {},
   "outputs": [
    {
     "data": {
      "image/png": "[encoded data removed]",
      "text/plain": [
       "<Figure size 864x432 with 1 Axes>"
      ]
     },
     "metadata": {
      "needs_background": "light"
     },
     "output_type": "display_data"
    }
   ],
   "source": [
    "# Histogram of the \"captial_gain\" by 'income_status'\n",
    "plt.figure(figsize=(12, 6))\n",
    "sns.histplot(data=income_df_copy, x='capital_gain', hue='income_status', palette='magma_r');"
   ]
  },
  {
   "cell_type": "code",
   "execution_count": 67,
   "id": "38d032c8",
   "metadata": {},
   "outputs": [
    {
     "data": {
      "image/png": "[encoded data removed]",
      "text/plain": [
       "<Figure size 720x288 with 1 Axes>"
      ]
     },
     "metadata": {
      "needs_background": "light"
     },
     "output_type": "display_data"
    }
   ],
   "source": [
    "# Boxplot of the \"capital_gain\" by 'income_status\n",
    "plt.figure(figsize=(10, 4))\n",
    "sns.boxplot(data=income_df_copy, x='capital_gain', y='income_status', palette='magma_r');"
   ]
  },
  {
   "cell_type": "code",
   "execution_count": 68,
   "id": "a00b0195",
   "metadata": {},
   "outputs": [
    {
     "data": {
      "image/png": "[encoded data removed]",
      "text/plain": [
       "<Figure size 864x432 with 1 Axes>"
      ]
     },
     "metadata": {
      "needs_background": "light"
     },
     "output_type": "display_data"
    }
   ],
   "source": [
    "# Histogram of the \"captial_loss\" by 'income_status'\n",
    "plt.figure(figsize=(12, 6))\n",
    "sns.histplot(data=income_df_copy, x='capital_loss', hue='income_status', palette='magma_r');"
   ]
  },
  {
   "cell_type": "code",
   "execution_count": 69,
   "id": "1aebe2a6",
   "metadata": {},
   "outputs": [
    {
     "data": {
      "image/png": "[encoded data removed]",
      "text/plain": [
       "<Figure size 720x288 with 1 Axes>"
      ]
     },
     "metadata": {
      "needs_background": "light"
     },
     "output_type": "display_data"
    }
   ],
   "source": [
    "# Boxplot of the \"capital_loss\" by 'income_status\n",
    "plt.figure(figsize=(10, 4))\n",
    "sns.boxplot(data=income_df_copy, x='capital_loss', y='income_status', palette='magma_r');"
   ]
  },
  {
   "cell_type": "code",
   "execution_count": 70,
   "id": "aa1eadbe",
   "metadata": {},
   "outputs": [
    {
     "data": {
      "text/html": [
       "<div>\n",
       "<style scoped>\n",
       "    .dataframe tbody tr th:only-of-type {\n",
       "        vertical-align: middle;\n",
       "    }\n",
       "\n",
       "    .dataframe tbody tr th {\n",
       "        vertical-align: top;\n",
       "    }\n",
       "\n",
       "    .dataframe thead th {\n",
       "        text-align: right;\n",
       "    }\n",
       "</style>\n",
       "<table border=\"1\" class=\"dataframe\">\n",
       "  <thead>\n",
       "    <tr style=\"text-align: right;\">\n",
       "      <th></th>\n",
       "      <th>age</th>\n",
       "      <th>workclass</th>\n",
       "      <th>fnlwgt</th>\n",
       "      <th>education</th>\n",
       "      <th>education_num</th>\n",
       "      <th>marital_status</th>\n",
       "      <th>occupation</th>\n",
       "      <th>relationship</th>\n",
       "      <th>race</th>\n",
       "      <th>sex</th>\n",
       "      <th>capital_gain</th>\n",
       "      <th>capital_loss</th>\n",
       "      <th>hours_per_week</th>\n",
       "      <th>native_country</th>\n",
       "      <th>income_status</th>\n",
       "      <th>income_status_target</th>\n",
       "      <th>work_class</th>\n",
       "      <th>education_level</th>\n",
       "    </tr>\n",
       "  </thead>\n",
       "  <tbody>\n",
       "    <tr>\n",
       "      <th>0</th>\n",
       "      <td>50</td>\n",
       "      <td>Self-emp-not-inc</td>\n",
       "      <td>83311</td>\n",
       "      <td>Bachelors</td>\n",
       "      <td>13</td>\n",
       "      <td>Married</td>\n",
       "      <td>White_collar</td>\n",
       "      <td>Husband</td>\n",
       "      <td>White</td>\n",
       "      <td>Male</td>\n",
       "      <td>0</td>\n",
       "      <td>0</td>\n",
       "      <td>13</td>\n",
       "      <td>United-States</td>\n",
       "      <td>&lt;=50K</td>\n",
       "      <td>0</td>\n",
       "      <td>Self_emp</td>\n",
       "      <td>Graduate</td>\n",
       "    </tr>\n",
       "    <tr>\n",
       "      <th>1</th>\n",
       "      <td>38</td>\n",
       "      <td>Private</td>\n",
       "      <td>215646</td>\n",
       "      <td>HS-grad</td>\n",
       "      <td>9</td>\n",
       "      <td>Divorced</td>\n",
       "      <td>Blue_collar</td>\n",
       "      <td>Not-in-family</td>\n",
       "      <td>White</td>\n",
       "      <td>Male</td>\n",
       "      <td>0</td>\n",
       "      <td>0</td>\n",
       "      <td>40</td>\n",
       "      <td>United-States</td>\n",
       "      <td>&lt;=50K</td>\n",
       "      <td>0</td>\n",
       "      <td>Private</td>\n",
       "      <td>HS_graduate</td>\n",
       "    </tr>\n",
       "    <tr>\n",
       "      <th>2</th>\n",
       "      <td>53</td>\n",
       "      <td>Private</td>\n",
       "      <td>234721</td>\n",
       "      <td>11th</td>\n",
       "      <td>7</td>\n",
       "      <td>Married</td>\n",
       "      <td>Blue_collar</td>\n",
       "      <td>Husband</td>\n",
       "      <td>Black</td>\n",
       "      <td>Male</td>\n",
       "      <td>0</td>\n",
       "      <td>0</td>\n",
       "      <td>40</td>\n",
       "      <td>United-States</td>\n",
       "      <td>&lt;=50K</td>\n",
       "      <td>0</td>\n",
       "      <td>Private</td>\n",
       "      <td>Matriculate</td>\n",
       "    </tr>\n",
       "    <tr>\n",
       "      <th>3</th>\n",
       "      <td>28</td>\n",
       "      <td>Private</td>\n",
       "      <td>338409</td>\n",
       "      <td>Bachelors</td>\n",
       "      <td>13</td>\n",
       "      <td>Married</td>\n",
       "      <td>Professional</td>\n",
       "      <td>Wife</td>\n",
       "      <td>Black</td>\n",
       "      <td>Female</td>\n",
       "      <td>0</td>\n",
       "      <td>0</td>\n",
       "      <td>40</td>\n",
       "      <td>Cuba</td>\n",
       "      <td>&lt;=50K</td>\n",
       "      <td>0</td>\n",
       "      <td>Private</td>\n",
       "      <td>Graduate</td>\n",
       "    </tr>\n",
       "    <tr>\n",
       "      <th>4</th>\n",
       "      <td>37</td>\n",
       "      <td>Private</td>\n",
       "      <td>284582</td>\n",
       "      <td>Masters</td>\n",
       "      <td>14</td>\n",
       "      <td>Married</td>\n",
       "      <td>White_collar</td>\n",
       "      <td>Wife</td>\n",
       "      <td>White</td>\n",
       "      <td>Female</td>\n",
       "      <td>0</td>\n",
       "      <td>0</td>\n",
       "      <td>40</td>\n",
       "      <td>United-States</td>\n",
       "      <td>&lt;=50K</td>\n",
       "      <td>0</td>\n",
       "      <td>Private</td>\n",
       "      <td>Postgraduate</td>\n",
       "    </tr>\n",
       "  </tbody>\n",
       "</table>\n",
       "</div>"
      ],
      "text/plain": [
       "   age         workclass  fnlwgt  education  education_num marital_status  \\\n",
       "0   50  Self-emp-not-inc   83311  Bachelors             13        Married   \n",
       "1   38           Private  215646    HS-grad              9       Divorced   \n",
       "2   53           Private  234721       11th              7        Married   \n",
       "3   28           Private  338409  Bachelors             13        Married   \n",
       "4   37           Private  284582    Masters             14        Married   \n",
       "\n",
       "     occupation   relationship   race     sex  capital_gain  capital_loss  \\\n",
       "0  White_collar        Husband  White    Male             0             0   \n",
       "1   Blue_collar  Not-in-family  White    Male             0             0   \n",
       "2   Blue_collar        Husband  Black    Male             0             0   \n",
       "3  Professional           Wife  Black  Female             0             0   \n",
       "4  White_collar           Wife  White  Female             0             0   \n",
       "\n",
       "   hours_per_week native_country income_status  income_status_target  \\\n",
       "0              13  United-States         <=50K                     0   \n",
       "1              40  United-States         <=50K                     0   \n",
       "2              40  United-States         <=50K                     0   \n",
       "3              40           Cuba         <=50K                     0   \n",
       "4              40  United-States         <=50K                     0   \n",
       "\n",
       "  work_class education_level  \n",
       "0   Self_emp        Graduate  \n",
       "1    Private     HS_graduate  \n",
       "2    Private     Matriculate  \n",
       "3    Private        Graduate  \n",
       "4    Private    Postgraduate  "
      ]
     },
     "execution_count": 70,
     "metadata": {},
     "output_type": "execute_result"
    }
   ],
   "source": [
    "# First few rows of the dataset\n",
    "income_df_copy.head()"
   ]
  },
  {
   "cell_type": "markdown",
   "id": "8a8dd0eb",
   "metadata": {},
   "source": [
    "Now for our analysis in modelling phase, we are going to drop some highly skewed features such as **\"native_country\"** since most of the observations are of United States and **\"capital_gain\"** and **\"capital_loss\"** features where most of the data points are 0. We are also going to drop some redundant features such as **\"workclass\"**, **\"education\"**, **\"educational_num\"**, **\"relatipnship\"** and **\"income_status\"**. "
   ]
  },
  {
   "cell_type": "code",
   "execution_count": 71,
   "id": "e2128878",
   "metadata": {},
   "outputs": [],
   "source": [
    "# Now we are going to drop some features (irrelevant features) for our model\n",
    "income_df_copy_dropped = income_df_copy.drop(labels=['workclass', 'fnlwgt', 'education', 'education_num', 'relationship', 'income_status',\n",
    "                                                     'capital_gain', 'capital_loss', 'native_country'], axis=1)"
   ]
  },
  {
   "cell_type": "code",
   "execution_count": 72,
   "id": "9af48390",
   "metadata": {},
   "outputs": [
    {
     "data": {
      "text/html": [
       "<div>\n",
       "<style scoped>\n",
       "    .dataframe tbody tr th:only-of-type {\n",
       "        vertical-align: middle;\n",
       "    }\n",
       "\n",
       "    .dataframe tbody tr th {\n",
       "        vertical-align: top;\n",
       "    }\n",
       "\n",
       "    .dataframe thead th {\n",
       "        text-align: right;\n",
       "    }\n",
       "</style>\n",
       "<table border=\"1\" class=\"dataframe\">\n",
       "  <thead>\n",
       "    <tr style=\"text-align: right;\">\n",
       "      <th></th>\n",
       "      <th>age</th>\n",
       "      <th>marital_status</th>\n",
       "      <th>occupation</th>\n",
       "      <th>race</th>\n",
       "      <th>sex</th>\n",
       "      <th>hours_per_week</th>\n",
       "      <th>income_status_target</th>\n",
       "      <th>work_class</th>\n",
       "      <th>education_level</th>\n",
       "    </tr>\n",
       "  </thead>\n",
       "  <tbody>\n",
       "    <tr>\n",
       "      <th>0</th>\n",
       "      <td>50</td>\n",
       "      <td>Married</td>\n",
       "      <td>White_collar</td>\n",
       "      <td>White</td>\n",
       "      <td>Male</td>\n",
       "      <td>13</td>\n",
       "      <td>0</td>\n",
       "      <td>Self_emp</td>\n",
       "      <td>Graduate</td>\n",
       "    </tr>\n",
       "    <tr>\n",
       "      <th>1</th>\n",
       "      <td>38</td>\n",
       "      <td>Divorced</td>\n",
       "      <td>Blue_collar</td>\n",
       "      <td>White</td>\n",
       "      <td>Male</td>\n",
       "      <td>40</td>\n",
       "      <td>0</td>\n",
       "      <td>Private</td>\n",
       "      <td>HS_graduate</td>\n",
       "    </tr>\n",
       "    <tr>\n",
       "      <th>2</th>\n",
       "      <td>53</td>\n",
       "      <td>Married</td>\n",
       "      <td>Blue_collar</td>\n",
       "      <td>Black</td>\n",
       "      <td>Male</td>\n",
       "      <td>40</td>\n",
       "      <td>0</td>\n",
       "      <td>Private</td>\n",
       "      <td>Matriculate</td>\n",
       "    </tr>\n",
       "    <tr>\n",
       "      <th>3</th>\n",
       "      <td>28</td>\n",
       "      <td>Married</td>\n",
       "      <td>Professional</td>\n",
       "      <td>Black</td>\n",
       "      <td>Female</td>\n",
       "      <td>40</td>\n",
       "      <td>0</td>\n",
       "      <td>Private</td>\n",
       "      <td>Graduate</td>\n",
       "    </tr>\n",
       "    <tr>\n",
       "      <th>4</th>\n",
       "      <td>37</td>\n",
       "      <td>Married</td>\n",
       "      <td>White_collar</td>\n",
       "      <td>White</td>\n",
       "      <td>Female</td>\n",
       "      <td>40</td>\n",
       "      <td>0</td>\n",
       "      <td>Private</td>\n",
       "      <td>Postgraduate</td>\n",
       "    </tr>\n",
       "  </tbody>\n",
       "</table>\n",
       "</div>"
      ],
      "text/plain": [
       "   age marital_status    occupation   race     sex  hours_per_week  \\\n",
       "0   50        Married  White_collar  White    Male              13   \n",
       "1   38       Divorced   Blue_collar  White    Male              40   \n",
       "2   53        Married   Blue_collar  Black    Male              40   \n",
       "3   28        Married  Professional  Black  Female              40   \n",
       "4   37        Married  White_collar  White  Female              40   \n",
       "\n",
       "   income_status_target work_class education_level  \n",
       "0                     0   Self_emp        Graduate  \n",
       "1                     0    Private     HS_graduate  \n",
       "2                     0    Private     Matriculate  \n",
       "3                     0    Private        Graduate  \n",
       "4                     0    Private    Postgraduate  "
      ]
     },
     "execution_count": 72,
     "metadata": {},
     "output_type": "execute_result"
    }
   ],
   "source": [
    "# Check the first few rows of the dropped dataset\n",
    "income_df_copy_dropped.head()"
   ]
  },
  {
   "cell_type": "markdown",
   "id": "847514de",
   "metadata": {},
   "source": [
    "#### **Preprocessing Steps**"
   ]
  },
  {
   "cell_type": "markdown",
   "id": "a1c0b99c",
   "metadata": {},
   "source": [
    "First let us convert the **education_level** feature to a discrete ordinal feature."
   ]
  },
  {
   "cell_type": "code",
   "execution_count": 73,
   "id": "6e29ed49",
   "metadata": {},
   "outputs": [
    {
     "data": {
      "text/plain": [
       "Graduate               12645\n",
       "HS_graduate            10934\n",
       "Associate_degree        2449\n",
       "Matriculate             2108\n",
       "Postgraduate            1723\n",
       "Under_matric            1661\n",
       "Professional_school      576\n",
       "Doctorate                413\n",
       "Preschool                 51\n",
       "Name: education_level, dtype: int64"
      ]
     },
     "execution_count": 73,
     "metadata": {},
     "output_type": "execute_result"
    }
   ],
   "source": [
    "income_df_copy_dropped['education_level'].value_counts()"
   ]
  },
  {
   "cell_type": "code",
   "execution_count": 74,
   "id": "6133e0ac",
   "metadata": {},
   "outputs": [
    {
     "data": {
      "text/plain": [
       "6    12645\n",
       "4    10934\n",
       "5     2449\n",
       "3     2108\n",
       "7     1723\n",
       "2     1661\n",
       "8      576\n",
       "9      413\n",
       "1       51\n",
       "Name: education_level_enc, dtype: int64"
      ]
     },
     "execution_count": 74,
     "metadata": {},
     "output_type": "execute_result"
    }
   ],
   "source": [
    "# Let us perform ordinal encoding to the \"education_level\" feature\n",
    "income_df_copy_dropped['education_level_enc'] = income_df_copy_dropped['education_level'].replace({'Preschool':1,\n",
    "                                                                                                   'Under_matric':2,\n",
    "                                                                                                   'Matriculate':3,\n",
    "                                                                                                   'HS_graduate':4,\n",
    "                                                                                                   'Associate_degree':5,\n",
    "                                                                                                   'Graduate':6,\n",
    "                                                                                                   'Postgraduate':7,\n",
    "                                                                                                   'Professional_school':8,\n",
    "                                                                                                   'Doctorate':9})\n",
    "income_df_copy_dropped['education_level_enc'].value_counts()                                                                                                  "
   ]
  },
  {
   "cell_type": "code",
   "execution_count": 75,
   "id": "a243882f",
   "metadata": {},
   "outputs": [
    {
     "data": {
      "text/html": [
       "<div>\n",
       "<style scoped>\n",
       "    .dataframe tbody tr th:only-of-type {\n",
       "        vertical-align: middle;\n",
       "    }\n",
       "\n",
       "    .dataframe tbody tr th {\n",
       "        vertical-align: top;\n",
       "    }\n",
       "\n",
       "    .dataframe thead th {\n",
       "        text-align: right;\n",
       "    }\n",
       "</style>\n",
       "<table border=\"1\" class=\"dataframe\">\n",
       "  <thead>\n",
       "    <tr style=\"text-align: right;\">\n",
       "      <th></th>\n",
       "      <th>age</th>\n",
       "      <th>marital_status</th>\n",
       "      <th>occupation</th>\n",
       "      <th>race</th>\n",
       "      <th>sex</th>\n",
       "      <th>hours_per_week</th>\n",
       "      <th>income_status_target</th>\n",
       "      <th>work_class</th>\n",
       "      <th>education_level_enc</th>\n",
       "    </tr>\n",
       "  </thead>\n",
       "  <tbody>\n",
       "    <tr>\n",
       "      <th>0</th>\n",
       "      <td>50</td>\n",
       "      <td>Married</td>\n",
       "      <td>White_collar</td>\n",
       "      <td>White</td>\n",
       "      <td>Male</td>\n",
       "      <td>13</td>\n",
       "      <td>0</td>\n",
       "      <td>Self_emp</td>\n",
       "      <td>6</td>\n",
       "    </tr>\n",
       "    <tr>\n",
       "      <th>1</th>\n",
       "      <td>38</td>\n",
       "      <td>Divorced</td>\n",
       "      <td>Blue_collar</td>\n",
       "      <td>White</td>\n",
       "      <td>Male</td>\n",
       "      <td>40</td>\n",
       "      <td>0</td>\n",
       "      <td>Private</td>\n",
       "      <td>4</td>\n",
       "    </tr>\n",
       "    <tr>\n",
       "      <th>2</th>\n",
       "      <td>53</td>\n",
       "      <td>Married</td>\n",
       "      <td>Blue_collar</td>\n",
       "      <td>Black</td>\n",
       "      <td>Male</td>\n",
       "      <td>40</td>\n",
       "      <td>0</td>\n",
       "      <td>Private</td>\n",
       "      <td>3</td>\n",
       "    </tr>\n",
       "    <tr>\n",
       "      <th>3</th>\n",
       "      <td>28</td>\n",
       "      <td>Married</td>\n",
       "      <td>Professional</td>\n",
       "      <td>Black</td>\n",
       "      <td>Female</td>\n",
       "      <td>40</td>\n",
       "      <td>0</td>\n",
       "      <td>Private</td>\n",
       "      <td>6</td>\n",
       "    </tr>\n",
       "    <tr>\n",
       "      <th>4</th>\n",
       "      <td>37</td>\n",
       "      <td>Married</td>\n",
       "      <td>White_collar</td>\n",
       "      <td>White</td>\n",
       "      <td>Female</td>\n",
       "      <td>40</td>\n",
       "      <td>0</td>\n",
       "      <td>Private</td>\n",
       "      <td>7</td>\n",
       "    </tr>\n",
       "  </tbody>\n",
       "</table>\n",
       "</div>"
      ],
      "text/plain": [
       "   age marital_status    occupation   race     sex  hours_per_week  \\\n",
       "0   50        Married  White_collar  White    Male              13   \n",
       "1   38       Divorced   Blue_collar  White    Male              40   \n",
       "2   53        Married   Blue_collar  Black    Male              40   \n",
       "3   28        Married  Professional  Black  Female              40   \n",
       "4   37        Married  White_collar  White  Female              40   \n",
       "\n",
       "   income_status_target work_class  education_level_enc  \n",
       "0                     0   Self_emp                    6  \n",
       "1                     0    Private                    4  \n",
       "2                     0    Private                    3  \n",
       "3                     0    Private                    6  \n",
       "4                     0    Private                    7  "
      ]
     },
     "execution_count": 75,
     "metadata": {},
     "output_type": "execute_result"
    }
   ],
   "source": [
    "# Dropping the categorical education_level feature\n",
    "income_df_copy_dropped = income_df_copy_dropped.drop(labels=['education_level'], axis=1)\n",
    "income_df_copy_dropped.head()"
   ]
  },
  {
   "cell_type": "code",
   "execution_count": 76,
   "id": "520de26a",
   "metadata": {},
   "outputs": [
    {
     "data": {
      "image/png": "[encoded data removed]",
      "text/plain": [
       "<Figure size 576x432 with 2 Axes>"
      ]
     },
     "metadata": {
      "needs_background": "light"
     },
     "output_type": "display_data"
    }
   ],
   "source": [
    "# Let's quickly visualize a heatmap of the correlation between the numnerical features\n",
    "mask = np.triu(np.ones_like(income_df_copy_dropped.corr()))\n",
    "plt.figure(figsize=(8, 6))\n",
    "sns.heatmap(data=income_df_copy_dropped.corr(), cmap='magma_r', annot=True, fmt='.2g', mask=mask, annot_kws={\"size\": 11})\n",
    "plt.title('Heatmap of the Correlation Matrix of the Dataset', fontsize=13, pad=12)\n",
    "plt.yticks(fontsize=11)\n",
    "plt.xticks(fontsize=11);"
   ]
  },
  {
   "cell_type": "markdown",
   "id": "78f40d9a",
   "metadata": {},
   "source": [
    "From the above heatmap of the correlation matrix of the dataset, we can se very less correlation between the features - age, hours_per_week, income_status_target and education_level_enc"
   ]
  },
  {
   "cell_type": "markdown",
   "id": "f48f8294",
   "metadata": {},
   "source": [
    "Now, it's time for **\"one-hot-encoding\"**. We will perform one-hot-encoding to the other categorical features because they do not posses the ordinal values."
   ]
  },
  {
   "cell_type": "code",
   "execution_count": 77,
   "id": "03f7ca3f",
   "metadata": {},
   "outputs": [
    {
     "data": {
      "text/html": [
       "<div>\n",
       "<style scoped>\n",
       "    .dataframe tbody tr th:only-of-type {\n",
       "        vertical-align: middle;\n",
       "    }\n",
       "\n",
       "    .dataframe tbody tr th {\n",
       "        vertical-align: top;\n",
       "    }\n",
       "\n",
       "    .dataframe thead th {\n",
       "        text-align: right;\n",
       "    }\n",
       "</style>\n",
       "<table border=\"1\" class=\"dataframe\">\n",
       "  <thead>\n",
       "    <tr style=\"text-align: right;\">\n",
       "      <th></th>\n",
       "      <th>age</th>\n",
       "      <th>hours_per_week</th>\n",
       "      <th>income_status_target</th>\n",
       "      <th>education_level_enc</th>\n",
       "      <th>marital_status_Married</th>\n",
       "      <th>marital_status_Separated</th>\n",
       "      <th>marital_status_Single</th>\n",
       "      <th>marital_status_Widowed</th>\n",
       "      <th>occupation_Professional</th>\n",
       "      <th>occupation_Sales</th>\n",
       "      <th>...</th>\n",
       "      <th>occupation_White_collar</th>\n",
       "      <th>race_Asian-Pac-Islander</th>\n",
       "      <th>race_Black</th>\n",
       "      <th>race_Other</th>\n",
       "      <th>race_White</th>\n",
       "      <th>sex_Male</th>\n",
       "      <th>work_class_Other</th>\n",
       "      <th>work_class_Private</th>\n",
       "      <th>work_class_Self_emp</th>\n",
       "      <th>work_class_Unknown/Other</th>\n",
       "    </tr>\n",
       "  </thead>\n",
       "  <tbody>\n",
       "    <tr>\n",
       "      <th>0</th>\n",
       "      <td>50</td>\n",
       "      <td>13</td>\n",
       "      <td>0</td>\n",
       "      <td>6</td>\n",
       "      <td>1</td>\n",
       "      <td>0</td>\n",
       "      <td>0</td>\n",
       "      <td>0</td>\n",
       "      <td>0</td>\n",
       "      <td>0</td>\n",
       "      <td>...</td>\n",
       "      <td>1</td>\n",
       "      <td>0</td>\n",
       "      <td>0</td>\n",
       "      <td>0</td>\n",
       "      <td>1</td>\n",
       "      <td>1</td>\n",
       "      <td>0</td>\n",
       "      <td>0</td>\n",
       "      <td>1</td>\n",
       "      <td>0</td>\n",
       "    </tr>\n",
       "    <tr>\n",
       "      <th>1</th>\n",
       "      <td>38</td>\n",
       "      <td>40</td>\n",
       "      <td>0</td>\n",
       "      <td>4</td>\n",
       "      <td>0</td>\n",
       "      <td>0</td>\n",
       "      <td>0</td>\n",
       "      <td>0</td>\n",
       "      <td>0</td>\n",
       "      <td>0</td>\n",
       "      <td>...</td>\n",
       "      <td>0</td>\n",
       "      <td>0</td>\n",
       "      <td>0</td>\n",
       "      <td>0</td>\n",
       "      <td>1</td>\n",
       "      <td>1</td>\n",
       "      <td>0</td>\n",
       "      <td>1</td>\n",
       "      <td>0</td>\n",
       "      <td>0</td>\n",
       "    </tr>\n",
       "    <tr>\n",
       "      <th>2</th>\n",
       "      <td>53</td>\n",
       "      <td>40</td>\n",
       "      <td>0</td>\n",
       "      <td>3</td>\n",
       "      <td>1</td>\n",
       "      <td>0</td>\n",
       "      <td>0</td>\n",
       "      <td>0</td>\n",
       "      <td>0</td>\n",
       "      <td>0</td>\n",
       "      <td>...</td>\n",
       "      <td>0</td>\n",
       "      <td>0</td>\n",
       "      <td>1</td>\n",
       "      <td>0</td>\n",
       "      <td>0</td>\n",
       "      <td>1</td>\n",
       "      <td>0</td>\n",
       "      <td>1</td>\n",
       "      <td>0</td>\n",
       "      <td>0</td>\n",
       "    </tr>\n",
       "    <tr>\n",
       "      <th>3</th>\n",
       "      <td>28</td>\n",
       "      <td>40</td>\n",
       "      <td>0</td>\n",
       "      <td>6</td>\n",
       "      <td>1</td>\n",
       "      <td>0</td>\n",
       "      <td>0</td>\n",
       "      <td>0</td>\n",
       "      <td>1</td>\n",
       "      <td>0</td>\n",
       "      <td>...</td>\n",
       "      <td>0</td>\n",
       "      <td>0</td>\n",
       "      <td>1</td>\n",
       "      <td>0</td>\n",
       "      <td>0</td>\n",
       "      <td>0</td>\n",
       "      <td>0</td>\n",
       "      <td>1</td>\n",
       "      <td>0</td>\n",
       "      <td>0</td>\n",
       "    </tr>\n",
       "    <tr>\n",
       "      <th>4</th>\n",
       "      <td>37</td>\n",
       "      <td>40</td>\n",
       "      <td>0</td>\n",
       "      <td>7</td>\n",
       "      <td>1</td>\n",
       "      <td>0</td>\n",
       "      <td>0</td>\n",
       "      <td>0</td>\n",
       "      <td>0</td>\n",
       "      <td>0</td>\n",
       "      <td>...</td>\n",
       "      <td>1</td>\n",
       "      <td>0</td>\n",
       "      <td>0</td>\n",
       "      <td>0</td>\n",
       "      <td>1</td>\n",
       "      <td>0</td>\n",
       "      <td>0</td>\n",
       "      <td>1</td>\n",
       "      <td>0</td>\n",
       "      <td>0</td>\n",
       "    </tr>\n",
       "  </tbody>\n",
       "</table>\n",
       "<p>5 rows × 22 columns</p>\n",
       "</div>"
      ],
      "text/plain": [
       "   age  hours_per_week  income_status_target  education_level_enc  \\\n",
       "0   50              13                     0                    6   \n",
       "1   38              40                     0                    4   \n",
       "2   53              40                     0                    3   \n",
       "3   28              40                     0                    6   \n",
       "4   37              40                     0                    7   \n",
       "\n",
       "   marital_status_Married  marital_status_Separated  marital_status_Single  \\\n",
       "0                       1                         0                      0   \n",
       "1                       0                         0                      0   \n",
       "2                       1                         0                      0   \n",
       "3                       1                         0                      0   \n",
       "4                       1                         0                      0   \n",
       "\n",
       "   marital_status_Widowed  occupation_Professional  occupation_Sales  ...  \\\n",
       "0                       0                        0                 0  ...   \n",
       "1                       0                        0                 0  ...   \n",
       "2                       0                        0                 0  ...   \n",
       "3                       0                        1                 0  ...   \n",
       "4                       0                        0                 0  ...   \n",
       "\n",
       "   occupation_White_collar  race_Asian-Pac-Islander  race_Black  race_Other  \\\n",
       "0                        1                        0           0           0   \n",
       "1                        0                        0           0           0   \n",
       "2                        0                        0           1           0   \n",
       "3                        0                        0           1           0   \n",
       "4                        1                        0           0           0   \n",
       "\n",
       "   race_White  sex_Male  work_class_Other  work_class_Private  \\\n",
       "0           1         1                 0                   0   \n",
       "1           1         1                 0                   1   \n",
       "2           0         1                 0                   1   \n",
       "3           0         0                 0                   1   \n",
       "4           1         0                 0                   1   \n",
       "\n",
       "   work_class_Self_emp  work_class_Unknown/Other  \n",
       "0                    1                         0  \n",
       "1                    0                         0  \n",
       "2                    0                         0  \n",
       "3                    0                         0  \n",
       "4                    0                         0  \n",
       "\n",
       "[5 rows x 22 columns]"
      ]
     },
     "execution_count": 77,
     "metadata": {},
     "output_type": "execute_result"
    }
   ],
   "source": [
    "# Let us perform one-hot-encoding\n",
    "income_df_copy_dropped_1 = pd.get_dummies(data=income_df_copy_dropped, columns=['marital_status', 'occupation', 'race', 'sex', 'work_class'], drop_first=True)\n",
    "income_df_copy_dropped_1.head()"
   ]
  },
  {
   "cell_type": "code",
   "execution_count": 78,
   "id": "3dd11216",
   "metadata": {},
   "outputs": [
    {
     "data": {
      "text/plain": [
       "Index(['age', 'hours_per_week', 'income_status_target', 'education_level_enc',\n",
       "       'marital_status_Married', 'marital_status_Separated',\n",
       "       'marital_status_Single', 'marital_status_Widowed',\n",
       "       'occupation_Professional', 'occupation_Sales', 'occupation_Service',\n",
       "       'occupation_Unknown/Other', 'occupation_White_collar',\n",
       "       'race_Asian-Pac-Islander', 'race_Black', 'race_Other', 'race_White',\n",
       "       'sex_Male', 'work_class_Other', 'work_class_Private',\n",
       "       'work_class_Self_emp', 'work_class_Unknown/Other'],\n",
       "      dtype='object')"
      ]
     },
     "execution_count": 78,
     "metadata": {},
     "output_type": "execute_result"
    }
   ],
   "source": [
    "# Checking the columns of the dataset after one-hot-encoding\n",
    "income_df_copy_dropped_1.columns"
   ]
  },
  {
   "cell_type": "markdown",
   "id": "ee14bd6e",
   "metadata": {},
   "source": [
    "Segregating the dataset into **features** (X) and **target** (y) variables"
   ]
  },
  {
   "cell_type": "code",
   "execution_count": 79,
   "id": "379eb080",
   "metadata": {},
   "outputs": [],
   "source": [
    "# Creating feature matrix (X) and output vector (y)\n",
    "X = income_df_copy_dropped_1.drop(labels=['income_status_target'], axis=1)\n",
    "y = income_df_copy_dropped_1['income_status_target']"
   ]
  },
  {
   "cell_type": "code",
   "execution_count": 80,
   "id": "0328f454",
   "metadata": {},
   "outputs": [
    {
     "data": {
      "text/html": [
       "<div>\n",
       "<style scoped>\n",
       "    .dataframe tbody tr th:only-of-type {\n",
       "        vertical-align: middle;\n",
       "    }\n",
       "\n",
       "    .dataframe tbody tr th {\n",
       "        vertical-align: top;\n",
       "    }\n",
       "\n",
       "    .dataframe thead th {\n",
       "        text-align: right;\n",
       "    }\n",
       "</style>\n",
       "<table border=\"1\" class=\"dataframe\">\n",
       "  <thead>\n",
       "    <tr style=\"text-align: right;\">\n",
       "      <th></th>\n",
       "      <th>age</th>\n",
       "      <th>hours_per_week</th>\n",
       "      <th>education_level_enc</th>\n",
       "      <th>marital_status_Married</th>\n",
       "      <th>marital_status_Separated</th>\n",
       "      <th>marital_status_Single</th>\n",
       "      <th>marital_status_Widowed</th>\n",
       "      <th>occupation_Professional</th>\n",
       "      <th>occupation_Sales</th>\n",
       "      <th>occupation_Service</th>\n",
       "      <th>...</th>\n",
       "      <th>occupation_White_collar</th>\n",
       "      <th>race_Asian-Pac-Islander</th>\n",
       "      <th>race_Black</th>\n",
       "      <th>race_Other</th>\n",
       "      <th>race_White</th>\n",
       "      <th>sex_Male</th>\n",
       "      <th>work_class_Other</th>\n",
       "      <th>work_class_Private</th>\n",
       "      <th>work_class_Self_emp</th>\n",
       "      <th>work_class_Unknown/Other</th>\n",
       "    </tr>\n",
       "  </thead>\n",
       "  <tbody>\n",
       "    <tr>\n",
       "      <th>0</th>\n",
       "      <td>50</td>\n",
       "      <td>13</td>\n",
       "      <td>6</td>\n",
       "      <td>1</td>\n",
       "      <td>0</td>\n",
       "      <td>0</td>\n",
       "      <td>0</td>\n",
       "      <td>0</td>\n",
       "      <td>0</td>\n",
       "      <td>0</td>\n",
       "      <td>...</td>\n",
       "      <td>1</td>\n",
       "      <td>0</td>\n",
       "      <td>0</td>\n",
       "      <td>0</td>\n",
       "      <td>1</td>\n",
       "      <td>1</td>\n",
       "      <td>0</td>\n",
       "      <td>0</td>\n",
       "      <td>1</td>\n",
       "      <td>0</td>\n",
       "    </tr>\n",
       "    <tr>\n",
       "      <th>1</th>\n",
       "      <td>38</td>\n",
       "      <td>40</td>\n",
       "      <td>4</td>\n",
       "      <td>0</td>\n",
       "      <td>0</td>\n",
       "      <td>0</td>\n",
       "      <td>0</td>\n",
       "      <td>0</td>\n",
       "      <td>0</td>\n",
       "      <td>0</td>\n",
       "      <td>...</td>\n",
       "      <td>0</td>\n",
       "      <td>0</td>\n",
       "      <td>0</td>\n",
       "      <td>0</td>\n",
       "      <td>1</td>\n",
       "      <td>1</td>\n",
       "      <td>0</td>\n",
       "      <td>1</td>\n",
       "      <td>0</td>\n",
       "      <td>0</td>\n",
       "    </tr>\n",
       "    <tr>\n",
       "      <th>2</th>\n",
       "      <td>53</td>\n",
       "      <td>40</td>\n",
       "      <td>3</td>\n",
       "      <td>1</td>\n",
       "      <td>0</td>\n",
       "      <td>0</td>\n",
       "      <td>0</td>\n",
       "      <td>0</td>\n",
       "      <td>0</td>\n",
       "      <td>0</td>\n",
       "      <td>...</td>\n",
       "      <td>0</td>\n",
       "      <td>0</td>\n",
       "      <td>1</td>\n",
       "      <td>0</td>\n",
       "      <td>0</td>\n",
       "      <td>1</td>\n",
       "      <td>0</td>\n",
       "      <td>1</td>\n",
       "      <td>0</td>\n",
       "      <td>0</td>\n",
       "    </tr>\n",
       "    <tr>\n",
       "      <th>3</th>\n",
       "      <td>28</td>\n",
       "      <td>40</td>\n",
       "      <td>6</td>\n",
       "      <td>1</td>\n",
       "      <td>0</td>\n",
       "      <td>0</td>\n",
       "      <td>0</td>\n",
       "      <td>1</td>\n",
       "      <td>0</td>\n",
       "      <td>0</td>\n",
       "      <td>...</td>\n",
       "      <td>0</td>\n",
       "      <td>0</td>\n",
       "      <td>1</td>\n",
       "      <td>0</td>\n",
       "      <td>0</td>\n",
       "      <td>0</td>\n",
       "      <td>0</td>\n",
       "      <td>1</td>\n",
       "      <td>0</td>\n",
       "      <td>0</td>\n",
       "    </tr>\n",
       "    <tr>\n",
       "      <th>4</th>\n",
       "      <td>37</td>\n",
       "      <td>40</td>\n",
       "      <td>7</td>\n",
       "      <td>1</td>\n",
       "      <td>0</td>\n",
       "      <td>0</td>\n",
       "      <td>0</td>\n",
       "      <td>0</td>\n",
       "      <td>0</td>\n",
       "      <td>0</td>\n",
       "      <td>...</td>\n",
       "      <td>1</td>\n",
       "      <td>0</td>\n",
       "      <td>0</td>\n",
       "      <td>0</td>\n",
       "      <td>1</td>\n",
       "      <td>0</td>\n",
       "      <td>0</td>\n",
       "      <td>1</td>\n",
       "      <td>0</td>\n",
       "      <td>0</td>\n",
       "    </tr>\n",
       "  </tbody>\n",
       "</table>\n",
       "<p>5 rows × 21 columns</p>\n",
       "</div>"
      ],
      "text/plain": [
       "   age  hours_per_week  education_level_enc  marital_status_Married  \\\n",
       "0   50              13                    6                       1   \n",
       "1   38              40                    4                       0   \n",
       "2   53              40                    3                       1   \n",
       "3   28              40                    6                       1   \n",
       "4   37              40                    7                       1   \n",
       "\n",
       "   marital_status_Separated  marital_status_Single  marital_status_Widowed  \\\n",
       "0                         0                      0                       0   \n",
       "1                         0                      0                       0   \n",
       "2                         0                      0                       0   \n",
       "3                         0                      0                       0   \n",
       "4                         0                      0                       0   \n",
       "\n",
       "   occupation_Professional  occupation_Sales  occupation_Service  ...  \\\n",
       "0                        0                 0                   0  ...   \n",
       "1                        0                 0                   0  ...   \n",
       "2                        0                 0                   0  ...   \n",
       "3                        1                 0                   0  ...   \n",
       "4                        0                 0                   0  ...   \n",
       "\n",
       "   occupation_White_collar  race_Asian-Pac-Islander  race_Black  race_Other  \\\n",
       "0                        1                        0           0           0   \n",
       "1                        0                        0           0           0   \n",
       "2                        0                        0           1           0   \n",
       "3                        0                        0           1           0   \n",
       "4                        1                        0           0           0   \n",
       "\n",
       "   race_White  sex_Male  work_class_Other  work_class_Private  \\\n",
       "0           1         1                 0                   0   \n",
       "1           1         1                 0                   1   \n",
       "2           0         1                 0                   1   \n",
       "3           0         0                 0                   1   \n",
       "4           1         0                 0                   1   \n",
       "\n",
       "   work_class_Self_emp  work_class_Unknown/Other  \n",
       "0                    1                         0  \n",
       "1                    0                         0  \n",
       "2                    0                         0  \n",
       "3                    0                         0  \n",
       "4                    0                         0  \n",
       "\n",
       "[5 rows x 21 columns]"
      ]
     },
     "execution_count": 80,
     "metadata": {},
     "output_type": "execute_result"
    }
   ],
   "source": [
    "# X matrix\n",
    "X.head()"
   ]
  },
  {
   "cell_type": "code",
   "execution_count": 81,
   "id": "e81c5fee",
   "metadata": {},
   "outputs": [
    {
     "data": {
      "text/plain": [
       "0        0\n",
       "1        0\n",
       "2        0\n",
       "3        0\n",
       "4        0\n",
       "        ..\n",
       "32555    0\n",
       "32556    1\n",
       "32557    0\n",
       "32558    0\n",
       "32559    1\n",
       "Name: income_status_target, Length: 32560, dtype: int64"
      ]
     },
     "execution_count": 81,
     "metadata": {},
     "output_type": "execute_result"
    }
   ],
   "source": [
    "# y matrix\n",
    "y"
   ]
  },
  {
   "cell_type": "code",
   "execution_count": 82,
   "id": "8df44dee",
   "metadata": {},
   "outputs": [
    {
     "data": {
      "text/plain": [
       "((32560, 21), (32560,))"
      ]
     },
     "execution_count": 82,
     "metadata": {},
     "output_type": "execute_result"
    }
   ],
   "source": [
    "# Checking sizes of the X and y matrices\n",
    "X.shape, y.shape"
   ]
  },
  {
   "cell_type": "markdown",
   "id": "a8e53912",
   "metadata": {},
   "source": [
    "**Normalizing the data**"
   ]
  },
  {
   "cell_type": "code",
   "execution_count": 83,
   "id": "d3f21b47",
   "metadata": {},
   "outputs": [],
   "source": [
    "# Normalizing some of the feature by using the MinMaxScaler (scaling between 0 and 1)\n",
    "# Creating an instance of MinMaxScaler()\n",
    "m_scaler = MinMaxScaler()\n",
    "\n",
    "# Taking the columns of the X matrix\n",
    "cols = X.columns\n",
    "\n",
    "# Fitting and transforming X matrix\n",
    "X_scaled = m_scaler.fit_transform(X)\n",
    "X_scaled = pd.DataFrame(X_scaled, columns=cols)"
   ]
  },
  {
   "cell_type": "code",
   "execution_count": 84,
   "id": "e0182635",
   "metadata": {},
   "outputs": [
    {
     "data": {
      "text/html": [
       "<div>\n",
       "<style scoped>\n",
       "    .dataframe tbody tr th:only-of-type {\n",
       "        vertical-align: middle;\n",
       "    }\n",
       "\n",
       "    .dataframe tbody tr th {\n",
       "        vertical-align: top;\n",
       "    }\n",
       "\n",
       "    .dataframe thead th {\n",
       "        text-align: right;\n",
       "    }\n",
       "</style>\n",
       "<table border=\"1\" class=\"dataframe\">\n",
       "  <thead>\n",
       "    <tr style=\"text-align: right;\">\n",
       "      <th></th>\n",
       "      <th>age</th>\n",
       "      <th>hours_per_week</th>\n",
       "      <th>education_level_enc</th>\n",
       "      <th>marital_status_Married</th>\n",
       "      <th>marital_status_Separated</th>\n",
       "      <th>marital_status_Single</th>\n",
       "      <th>marital_status_Widowed</th>\n",
       "      <th>occupation_Professional</th>\n",
       "      <th>occupation_Sales</th>\n",
       "      <th>occupation_Service</th>\n",
       "      <th>...</th>\n",
       "      <th>occupation_White_collar</th>\n",
       "      <th>race_Asian-Pac-Islander</th>\n",
       "      <th>race_Black</th>\n",
       "      <th>race_Other</th>\n",
       "      <th>race_White</th>\n",
       "      <th>sex_Male</th>\n",
       "      <th>work_class_Other</th>\n",
       "      <th>work_class_Private</th>\n",
       "      <th>work_class_Self_emp</th>\n",
       "      <th>work_class_Unknown/Other</th>\n",
       "    </tr>\n",
       "  </thead>\n",
       "  <tbody>\n",
       "    <tr>\n",
       "      <th>0</th>\n",
       "      <td>0.452055</td>\n",
       "      <td>0.122449</td>\n",
       "      <td>0.625</td>\n",
       "      <td>1.0</td>\n",
       "      <td>0.0</td>\n",
       "      <td>0.0</td>\n",
       "      <td>0.0</td>\n",
       "      <td>0.0</td>\n",
       "      <td>0.0</td>\n",
       "      <td>0.0</td>\n",
       "      <td>...</td>\n",
       "      <td>1.0</td>\n",
       "      <td>0.0</td>\n",
       "      <td>0.0</td>\n",
       "      <td>0.0</td>\n",
       "      <td>1.0</td>\n",
       "      <td>1.0</td>\n",
       "      <td>0.0</td>\n",
       "      <td>0.0</td>\n",
       "      <td>1.0</td>\n",
       "      <td>0.0</td>\n",
       "    </tr>\n",
       "    <tr>\n",
       "      <th>1</th>\n",
       "      <td>0.287671</td>\n",
       "      <td>0.397959</td>\n",
       "      <td>0.375</td>\n",
       "      <td>0.0</td>\n",
       "      <td>0.0</td>\n",
       "      <td>0.0</td>\n",
       "      <td>0.0</td>\n",
       "      <td>0.0</td>\n",
       "      <td>0.0</td>\n",
       "      <td>0.0</td>\n",
       "      <td>...</td>\n",
       "      <td>0.0</td>\n",
       "      <td>0.0</td>\n",
       "      <td>0.0</td>\n",
       "      <td>0.0</td>\n",
       "      <td>1.0</td>\n",
       "      <td>1.0</td>\n",
       "      <td>0.0</td>\n",
       "      <td>1.0</td>\n",
       "      <td>0.0</td>\n",
       "      <td>0.0</td>\n",
       "    </tr>\n",
       "    <tr>\n",
       "      <th>2</th>\n",
       "      <td>0.493151</td>\n",
       "      <td>0.397959</td>\n",
       "      <td>0.250</td>\n",
       "      <td>1.0</td>\n",
       "      <td>0.0</td>\n",
       "      <td>0.0</td>\n",
       "      <td>0.0</td>\n",
       "      <td>0.0</td>\n",
       "      <td>0.0</td>\n",
       "      <td>0.0</td>\n",
       "      <td>...</td>\n",
       "      <td>0.0</td>\n",
       "      <td>0.0</td>\n",
       "      <td>1.0</td>\n",
       "      <td>0.0</td>\n",
       "      <td>0.0</td>\n",
       "      <td>1.0</td>\n",
       "      <td>0.0</td>\n",
       "      <td>1.0</td>\n",
       "      <td>0.0</td>\n",
       "      <td>0.0</td>\n",
       "    </tr>\n",
       "    <tr>\n",
       "      <th>3</th>\n",
       "      <td>0.150685</td>\n",
       "      <td>0.397959</td>\n",
       "      <td>0.625</td>\n",
       "      <td>1.0</td>\n",
       "      <td>0.0</td>\n",
       "      <td>0.0</td>\n",
       "      <td>0.0</td>\n",
       "      <td>1.0</td>\n",
       "      <td>0.0</td>\n",
       "      <td>0.0</td>\n",
       "      <td>...</td>\n",
       "      <td>0.0</td>\n",
       "      <td>0.0</td>\n",
       "      <td>1.0</td>\n",
       "      <td>0.0</td>\n",
       "      <td>0.0</td>\n",
       "      <td>0.0</td>\n",
       "      <td>0.0</td>\n",
       "      <td>1.0</td>\n",
       "      <td>0.0</td>\n",
       "      <td>0.0</td>\n",
       "    </tr>\n",
       "    <tr>\n",
       "      <th>4</th>\n",
       "      <td>0.273973</td>\n",
       "      <td>0.397959</td>\n",
       "      <td>0.750</td>\n",
       "      <td>1.0</td>\n",
       "      <td>0.0</td>\n",
       "      <td>0.0</td>\n",
       "      <td>0.0</td>\n",
       "      <td>0.0</td>\n",
       "      <td>0.0</td>\n",
       "      <td>0.0</td>\n",
       "      <td>...</td>\n",
       "      <td>1.0</td>\n",
       "      <td>0.0</td>\n",
       "      <td>0.0</td>\n",
       "      <td>0.0</td>\n",
       "      <td>1.0</td>\n",
       "      <td>0.0</td>\n",
       "      <td>0.0</td>\n",
       "      <td>1.0</td>\n",
       "      <td>0.0</td>\n",
       "      <td>0.0</td>\n",
       "    </tr>\n",
       "  </tbody>\n",
       "</table>\n",
       "<p>5 rows × 21 columns</p>\n",
       "</div>"
      ],
      "text/plain": [
       "        age  hours_per_week  education_level_enc  marital_status_Married  \\\n",
       "0  0.452055        0.122449                0.625                     1.0   \n",
       "1  0.287671        0.397959                0.375                     0.0   \n",
       "2  0.493151        0.397959                0.250                     1.0   \n",
       "3  0.150685        0.397959                0.625                     1.0   \n",
       "4  0.273973        0.397959                0.750                     1.0   \n",
       "\n",
       "   marital_status_Separated  marital_status_Single  marital_status_Widowed  \\\n",
       "0                       0.0                    0.0                     0.0   \n",
       "1                       0.0                    0.0                     0.0   \n",
       "2                       0.0                    0.0                     0.0   \n",
       "3                       0.0                    0.0                     0.0   \n",
       "4                       0.0                    0.0                     0.0   \n",
       "\n",
       "   occupation_Professional  occupation_Sales  occupation_Service  ...  \\\n",
       "0                      0.0               0.0                 0.0  ...   \n",
       "1                      0.0               0.0                 0.0  ...   \n",
       "2                      0.0               0.0                 0.0  ...   \n",
       "3                      1.0               0.0                 0.0  ...   \n",
       "4                      0.0               0.0                 0.0  ...   \n",
       "\n",
       "   occupation_White_collar  race_Asian-Pac-Islander  race_Black  race_Other  \\\n",
       "0                      1.0                      0.0         0.0         0.0   \n",
       "1                      0.0                      0.0         0.0         0.0   \n",
       "2                      0.0                      0.0         1.0         0.0   \n",
       "3                      0.0                      0.0         1.0         0.0   \n",
       "4                      1.0                      0.0         0.0         0.0   \n",
       "\n",
       "   race_White  sex_Male  work_class_Other  work_class_Private  \\\n",
       "0         1.0       1.0               0.0                 0.0   \n",
       "1         1.0       1.0               0.0                 1.0   \n",
       "2         0.0       1.0               0.0                 1.0   \n",
       "3         0.0       0.0               0.0                 1.0   \n",
       "4         1.0       0.0               0.0                 1.0   \n",
       "\n",
       "   work_class_Self_emp  work_class_Unknown/Other  \n",
       "0                  1.0                       0.0  \n",
       "1                  0.0                       0.0  \n",
       "2                  0.0                       0.0  \n",
       "3                  0.0                       0.0  \n",
       "4                  0.0                       0.0  \n",
       "\n",
       "[5 rows x 21 columns]"
      ]
     },
     "execution_count": 84,
     "metadata": {},
     "output_type": "execute_result"
    }
   ],
   "source": [
    "# Checking the normalized data\n",
    "X_scaled.head()"
   ]
  },
  {
   "cell_type": "markdown",
   "id": "0b26cdff",
   "metadata": {},
   "source": [
    "#### **Model Training**"
   ]
  },
  {
   "cell_type": "markdown",
   "id": "7abcb3b7",
   "metadata": {},
   "source": [
    "**Splitting the feature matrix into training and testing sets**"
   ]
  },
  {
   "cell_type": "code",
   "execution_count": 85,
   "id": "4abc4561",
   "metadata": {},
   "outputs": [],
   "source": [
    "# Splitting the feature matrix\n",
    "X_train, X_test, y_train, y_test = train_test_split(X, y, test_size=0.3, random_state=101, stratify=y)"
   ]
  },
  {
   "cell_type": "code",
   "execution_count": 86,
   "id": "3464033d",
   "metadata": {},
   "outputs": [
    {
     "data": {
      "text/plain": [
       "((22792, 21), (9768, 21), (22792,), (9768,))"
      ]
     },
     "execution_count": 86,
     "metadata": {},
     "output_type": "execute_result"
    }
   ],
   "source": [
    "# Shape of the training and testing sets\n",
    "X_train.shape, X_test.shape, y_train.shape, y_test.shape"
   ]
  },
  {
   "attachments": {},
   "cell_type": "markdown",
   "id": "fc9a09aa",
   "metadata": {},
   "source": [
    "**Base Models**"
   ]
  },
  {
   "cell_type": "code",
   "execution_count": 87,
   "id": "98550d25",
   "metadata": {},
   "outputs": [
    {
     "name": "stdout",
     "output_type": "stream",
     "text": [
      "LogisticRegression \n",
      "\n",
      "Training Accuracy = 82.270%\n",
      "Accuracy (Ratio of Correct Predictions to Total Predictions) = 82.228%\n",
      "Missclassification (1 - Accuracy) = 17.772%\n",
      "Precision (Ratio of True Positives to Total Predicted Positives) = 67.073%\n",
      "Sensitivity/Recall (Ratio of True Positives to Total Actual Positives) = 51.446%\n",
      "Specificity (Ratio of True Negatives to Total Actual Negatives) = 91.990%\n",
      "Balanced Accuracy Score (Arithmetic Mean of Recall and Specificity) = 71.718%\n",
      "F1_score (Harmonic mean of Sensitivity and Precision) = 58.229%\n",
      "========================================================================= \n",
      "\n",
      "DecisionTreeClassifier \n",
      "\n",
      "Training Accuracy = 94.779%\n",
      "Accuracy (Ratio of Correct Predictions to Total Predictions) = 77.611%\n",
      "Missclassification (1 - Accuracy) = 22.389%\n",
      "Precision (Ratio of True Positives to Total Predicted Positives) = 53.843%\n",
      "Sensitivity/Recall (Ratio of True Positives to Total Actual Positives) = 49.150%\n",
      "Specificity (Ratio of True Negatives to Total Actual Negatives) = 86.637%\n",
      "Balanced Accuracy Score (Arithmetic Mean of Recall and Specificity) = 67.893%\n",
      "F1_score (Harmonic mean of Sensitivity and Precision) = 51.389%\n",
      "========================================================================= \n",
      "\n",
      "RandomForestClassifier \n",
      "\n",
      "Training Accuracy = 94.774%\n",
      "Accuracy (Ratio of Correct Predictions to Total Predictions) = 80.682%\n",
      "Missclassification (1 - Accuracy) = 19.318%\n",
      "Precision (Ratio of True Positives to Total Predicted Positives) = 61.325%\n",
      "Sensitivity/Recall (Ratio of True Positives to Total Actual Positives) = 53.529%\n",
      "Specificity (Ratio of True Negatives to Total Actual Negatives) = 89.293%\n",
      "Balanced Accuracy Score (Arithmetic Mean of Recall and Specificity) = 71.411%\n",
      "F1_score (Harmonic mean of Sensitivity and Precision) = 57.162%\n",
      "========================================================================= \n",
      "\n",
      "AdaBoostClassifier \n",
      "\n",
      "Training Accuracy = 82.889%\n",
      "Accuracy (Ratio of Correct Predictions to Total Predictions) = 82.770%\n",
      "Missclassification (1 - Accuracy) = 17.230%\n",
      "Precision (Ratio of True Positives to Total Predicted Positives) = 68.614%\n",
      "Sensitivity/Recall (Ratio of True Positives to Total Actual Positives) = 52.423%\n",
      "Specificity (Ratio of True Negatives to Total Actual Negatives) = 92.395%\n",
      "Balanced Accuracy Score (Arithmetic Mean of Recall and Specificity) = 72.409%\n",
      "F1_score (Harmonic mean of Sensitivity and Precision) = 59.436%\n",
      "========================================================================= \n",
      "\n",
      "GradientBoostingClassifier \n",
      "\n",
      "Training Accuracy = 83.442%\n",
      "Accuracy (Ratio of Correct Predictions to Total Predictions) = 82.903%\n",
      "Missclassification (1 - Accuracy) = 17.097%\n",
      "Precision (Ratio of True Positives to Total Predicted Positives) = 67.275%\n",
      "Sensitivity/Recall (Ratio of True Positives to Total Actual Positives) = 56.463%\n",
      "Specificity (Ratio of True Negatives to Total Actual Negatives) = 91.289%\n",
      "Balanced Accuracy Score (Arithmetic Mean of Recall and Specificity) = 73.876%\n",
      "F1_score (Harmonic mean of Sensitivity and Precision) = 61.396%\n",
      "========================================================================= \n",
      "\n",
      "XGBClassifier \n",
      "\n",
      "Training Accuracy = 83.994%\n",
      "Accuracy (Ratio of Correct Predictions to Total Predictions) = 82.903%\n",
      "Missclassification (1 - Accuracy) = 17.097%\n",
      "Precision (Ratio of True Positives to Total Predicted Positives) = 67.275%\n",
      "Sensitivity/Recall (Ratio of True Positives to Total Actual Positives) = 56.463%\n",
      "Specificity (Ratio of True Negatives to Total Actual Negatives) = 91.289%\n",
      "Balanced Accuracy Score (Arithmetic Mean of Recall and Specificity) = 73.876%\n",
      "F1_score (Harmonic mean of Sensitivity and Precision) = 61.396%\n",
      "========================================================================= \n",
      "\n",
      "SVC \n",
      "\n",
      "Training Accuracy = 81.173%\n",
      "Accuracy (Ratio of Correct Predictions to Total Predictions) = 80.917%\n",
      "Missclassification (1 - Accuracy) = 19.083%\n",
      "Precision (Ratio of True Positives to Total Predicted Positives) = 72.932%\n",
      "Sensitivity/Recall (Ratio of True Positives to Total Actual Positives) = 32.993%\n",
      "Specificity (Ratio of True Negatives to Total Actual Negatives) = 96.117%\n",
      "Balanced Accuracy Score (Arithmetic Mean of Recall and Specificity) = 64.555%\n",
      "F1_score (Harmonic mean of Sensitivity and Precision) = 45.433%\n",
      "========================================================================= \n",
      "\n",
      "SGDClassifier \n",
      "\n",
      "Training Accuracy = 80.274%\n",
      "Accuracy (Ratio of Correct Predictions to Total Predictions) = 80.170%\n",
      "Missclassification (1 - Accuracy) = 19.830%\n",
      "Precision (Ratio of True Positives to Total Predicted Positives) = 57.869%\n",
      "Sensitivity/Recall (Ratio of True Positives to Total Actual Positives) = 64.881%\n",
      "Specificity (Ratio of True Negatives to Total Actual Negatives) = 85.019%\n",
      "Balanced Accuracy Score (Arithmetic Mean of Recall and Specificity) = 74.950%\n",
      "F1_score (Harmonic mean of Sensitivity and Precision) = 61.175%\n",
      "========================================================================= \n",
      "\n"
     ]
    }
   ],
   "source": [
    "# Evaluating models in terms of performance metrics and roc_auc\n",
    "models = [LogisticRegression(random_state=101, solver='liblinear'),\n",
    "          DecisionTreeClassifier(random_state=101), \n",
    "          RandomForestClassifier(random_state=101),\n",
    "          AdaBoostClassifier(random_state=101),\n",
    "          GradientBoostingClassifier(random_state=101),\n",
    "          XGBClassifier(random_state=101, use_label_encoder=False),\n",
    "          SVC(random_state=101, probability=True),\n",
    "          SGDClassifier(random_state=101, loss='log')]\n",
    "\n",
    "# Define a result table as a DataFrame for roc_curves\n",
    "roc_auc_df = pd.DataFrame(columns=['classifiers', 'fpr','tpr','auc'])\n",
    "\n",
    "# looping through different classifiers\n",
    "for model in models:\n",
    "\n",
    "    # For XGBClassifier \n",
    "    if model.__class__.__name__ == \"XGBClassifier\":\n",
    "        # Fit the XGBoost Classifier\n",
    "        model.fit(X_train, y_train,\n",
    "            verbose=False,\n",
    "            early_stopping_rounds=10,\n",
    "            eval_metric='auc',\n",
    "            eval_set=[(X_test, y_test)])\n",
    "    \n",
    "    # Fort other classifiers\n",
    "    else:\n",
    "        # fitting the model\n",
    "        model.fit(X_train, y_train)\n",
    "        # getting predictions\n",
    "        y_preds = model.predict(X_test)\n",
    "\n",
    "    cm = confusion_matrix(y_test, y_preds)\n",
    "    TN, FP, TP, FN = cm[0][0], cm[0][1], cm[1][1], cm[1][0]\n",
    "\n",
    "    # Computing different metrics\n",
    "    accuracy = (TP + TN)/(TP + TN + FN + FP)\n",
    "    precision = TP/(TP + FP)\n",
    "    recall = TP/(TP + FN)\n",
    "    specificity = TN/(TN + FP)\n",
    "    f1_score = 2*(recall * precision)/(recall + precision)\n",
    "    balanced_accuracy_score = (recall + specificity)/2\n",
    "\n",
    "    print(\"{}\".format(model.__class__.__name__), '\\n')\n",
    "    print(\"Training Accuracy = {:.3f}%\".format(model.score(X_train, y_train)*100))\n",
    "    print(\"Accuracy (Ratio of Correct Predictions to Total Predictions) = {:.3f}%\".format(accuracy*100))\n",
    "    print('Missclassification (1 - Accuracy) = {:.3f}%'.format((1 - accuracy)*100))\n",
    "    print(\"Precision (Ratio of True Positives to Total Predicted Positives) = {:.3f}%\".format(precision*100)) \n",
    "    print(\"Sensitivity/Recall (Ratio of True Positives to Total Actual Positives) = {:.3f}%\".format(recall*100)) \n",
    "    print(\"Specificity (Ratio of True Negatives to Total Actual Negatives) = {:.3f}%\".format(specificity*100))\n",
    "    print('Balanced Accuracy Score (Arithmetic Mean of Recall and Specificity) = {:.3f}%'.format(balanced_accuracy_score*100))\n",
    "    print(\"F1_score (Harmonic mean of Sensitivity and Precision) = {:.3f}%\".format(f1_score*100))\n",
    "    print(\"=========================================================================\", '\\n')\n",
    "\n",
    "    # Computing required components for ROC curves\n",
    "    y_pred_proba = model.predict_proba(X_test)\n",
    "    fpr, tpr, thresholds = roc_curve(y_test, y_pred_proba[:, 1])\n",
    "    roc_auc = roc_auc_score(y_test, y_pred_proba[:, 1])*100\n",
    "    roc_auc_df = roc_auc_df.append({'classifiers':model.__class__.__name__,\n",
    "                                    'fpr':fpr, \n",
    "                                    'tpr':tpr, \n",
    "                                    'auc':roc_auc}, ignore_index=True)\n",
    "\n",
    "# Set name of the classifiers as index labels\n",
    "roc_auc_df.set_index('classifiers', inplace=True)                             "
   ]
  },
  {
   "cell_type": "code",
   "execution_count": 88,
   "id": "a668efae",
   "metadata": {},
   "outputs": [
    {
     "data": {
      "text/html": [
       "<div>\n",
       "<style scoped>\n",
       "    .dataframe tbody tr th:only-of-type {\n",
       "        vertical-align: middle;\n",
       "    }\n",
       "\n",
       "    .dataframe tbody tr th {\n",
       "        vertical-align: top;\n",
       "    }\n",
       "\n",
       "    .dataframe thead th {\n",
       "        text-align: right;\n",
       "    }\n",
       "</style>\n",
       "<table border=\"1\" class=\"dataframe\">\n",
       "  <thead>\n",
       "    <tr style=\"text-align: right;\">\n",
       "      <th></th>\n",
       "      <th>fpr</th>\n",
       "      <th>tpr</th>\n",
       "      <th>auc</th>\n",
       "    </tr>\n",
       "    <tr>\n",
       "      <th>classifiers</th>\n",
       "      <th></th>\n",
       "      <th></th>\n",
       "      <th></th>\n",
       "    </tr>\n",
       "  </thead>\n",
       "  <tbody>\n",
       "    <tr>\n",
       "      <th>LogisticRegression</th>\n",
       "      <td>[0.0, 0.0, 0.0, 0.00013484358144552318, 0.0001...</td>\n",
       "      <td>[0.0, 0.00042517006802721087, 0.00255102040816...</td>\n",
       "      <td>86.790583</td>\n",
       "    </tr>\n",
       "    <tr>\n",
       "      <th>DecisionTreeClassifier</th>\n",
       "      <td>[0.0, 0.11637001078748652, 0.11637001078748652...</td>\n",
       "      <td>[0.0, 0.41836734693877553, 0.4187925170068027,...</td>\n",
       "      <td>72.645839</td>\n",
       "    </tr>\n",
       "    <tr>\n",
       "      <th>RandomForestClassifier</th>\n",
       "      <td>[0.0, 0.001348435814455232, 0.0014832793959007...</td>\n",
       "      <td>[0.0, 0.027636054421768707, 0.0276360544217687...</td>\n",
       "      <td>84.358385</td>\n",
       "    </tr>\n",
       "    <tr>\n",
       "      <th>AdaBoostClassifier</th>\n",
       "      <td>[0.0, 0.00013484358144552318, 0.00026968716289...</td>\n",
       "      <td>[0.0, 0.011904761904761904, 0.0140306122448979...</td>\n",
       "      <td>87.754082</td>\n",
       "    </tr>\n",
       "    <tr>\n",
       "      <th>GradientBoostingClassifier</th>\n",
       "      <td>[0.0, 0.0, 0.0, 0.00013484358144552318, 0.0001...</td>\n",
       "      <td>[0.0, 0.00042517006802721087, 0.00085034013605...</td>\n",
       "      <td>88.248061</td>\n",
       "    </tr>\n",
       "    <tr>\n",
       "      <th>XGBClassifier</th>\n",
       "      <td>[0.0, 0.0, 0.0, 0.00013484358144552318, 0.0001...</td>\n",
       "      <td>[0.0, 0.00042517006802721087, 0.00170068027210...</td>\n",
       "      <td>88.156236</td>\n",
       "    </tr>\n",
       "    <tr>\n",
       "      <th>SVC</th>\n",
       "      <td>[0.0, 0.0, 0.0, 0.00013484358144552318, 0.0001...</td>\n",
       "      <td>[0.0, 0.00042517006802721087, 0.00127551020408...</td>\n",
       "      <td>86.426684</td>\n",
       "    </tr>\n",
       "    <tr>\n",
       "      <th>SGDClassifier</th>\n",
       "      <td>[0.0, 0.045981661272923406, 0.0470604099244875...</td>\n",
       "      <td>[0.0, 0.304421768707483, 0.31462585034013607, ...</td>\n",
       "      <td>84.693052</td>\n",
       "    </tr>\n",
       "  </tbody>\n",
       "</table>\n",
       "</div>"
      ],
      "text/plain": [
       "                                                                          fpr  \\\n",
       "classifiers                                                                     \n",
       "LogisticRegression          [0.0, 0.0, 0.0, 0.00013484358144552318, 0.0001...   \n",
       "DecisionTreeClassifier      [0.0, 0.11637001078748652, 0.11637001078748652...   \n",
       "RandomForestClassifier      [0.0, 0.001348435814455232, 0.0014832793959007...   \n",
       "AdaBoostClassifier          [0.0, 0.00013484358144552318, 0.00026968716289...   \n",
       "GradientBoostingClassifier  [0.0, 0.0, 0.0, 0.00013484358144552318, 0.0001...   \n",
       "XGBClassifier               [0.0, 0.0, 0.0, 0.00013484358144552318, 0.0001...   \n",
       "SVC                         [0.0, 0.0, 0.0, 0.00013484358144552318, 0.0001...   \n",
       "SGDClassifier               [0.0, 0.045981661272923406, 0.0470604099244875...   \n",
       "\n",
       "                                                                          tpr  \\\n",
       "classifiers                                                                     \n",
       "LogisticRegression          [0.0, 0.00042517006802721087, 0.00255102040816...   \n",
       "DecisionTreeClassifier      [0.0, 0.41836734693877553, 0.4187925170068027,...   \n",
       "RandomForestClassifier      [0.0, 0.027636054421768707, 0.0276360544217687...   \n",
       "AdaBoostClassifier          [0.0, 0.011904761904761904, 0.0140306122448979...   \n",
       "GradientBoostingClassifier  [0.0, 0.00042517006802721087, 0.00085034013605...   \n",
       "XGBClassifier               [0.0, 0.00042517006802721087, 0.00170068027210...   \n",
       "SVC                         [0.0, 0.00042517006802721087, 0.00127551020408...   \n",
       "SGDClassifier               [0.0, 0.304421768707483, 0.31462585034013607, ...   \n",
       "\n",
       "                                  auc  \n",
       "classifiers                            \n",
       "LogisticRegression          86.790583  \n",
       "DecisionTreeClassifier      72.645839  \n",
       "RandomForestClassifier      84.358385  \n",
       "AdaBoostClassifier          87.754082  \n",
       "GradientBoostingClassifier  88.248061  \n",
       "XGBClassifier               88.156236  \n",
       "SVC                         86.426684  \n",
       "SGDClassifier               84.693052  "
      ]
     },
     "execution_count": 88,
     "metadata": {},
     "output_type": "execute_result"
    }
   ],
   "source": [
    "# Check the roc_auc_df \n",
    "roc_auc_df"
   ]
  },
  {
   "cell_type": "code",
   "execution_count": 89,
   "id": "d7322372",
   "metadata": {},
   "outputs": [],
   "source": [
    "# Creating a function to train and fit different models and return their performance results.\n",
    "def evaluate_model_df(models):\n",
    "\n",
    "    # Lists for storing perfomance metrics\n",
    "    model_name_list = []\n",
    "    train_acc_list = []\n",
    "    test_acc_list = []\n",
    "    preci_list = []\n",
    "    sensi_list = []\n",
    "    speci_list = []\n",
    "    balanced_acc_list = []\n",
    "    f1_list = []\n",
    "    roc_auc_list = []\n",
    "    gini_list = []\n",
    "    \n",
    "\n",
    "    # looping through different classifiers\n",
    "    for model in models:\n",
    "        # Taking the name of the classifier\n",
    "        model_name_list.append(model.__class__.__name__)\n",
    "\n",
    "\n",
    "        # For XGBClassifier \n",
    "        if model.__class__.__name__ == \"XGBClassifier\":\n",
    "            # Fit the XGBoost Classifier\n",
    "            model.fit(X_train, y_train,\n",
    "                verbose=False,\n",
    "                early_stopping_rounds=10,\n",
    "                eval_metric='auc',\n",
    "                eval_set=[(X_test, y_test)])\n",
    "        \n",
    "        # Fort other classifiers\n",
    "        else:\n",
    "            # fitting the model\n",
    "            model.fit(X_train, y_train)\n",
    "            # getting predictions\n",
    "            y_preds = model.predict(X_test)\n",
    "    \n",
    "        # computing the confusion matrix\n",
    "        cm = confusion_matrix(y_test, y_preds)\n",
    "        TN, FP, TP, FN = cm[0][0], cm[0][1], cm[1][1], cm[1][0]\n",
    "\n",
    "        # Computing different metrics\n",
    "        accuracy = (TP + TN)/(TP + TN + FN + FP)\n",
    "        precision = TP/(TP + FP)\n",
    "        sensitivity = TP/(TP + FN)\n",
    "        specificity = TN/(TN + FP)\n",
    "        f1_score = 2*(sensitivity * precision)/(sensitivity + precision)\n",
    "        balanced_accuracy_score = (sensitivity + specificity)/2\n",
    "\n",
    "        # Calculating the probabilities of predictions\n",
    "        y_pred_proba = model.predict_proba(X_test)\n",
    "        fpr, tpr, thresholds = roc_curve(y_test, y_pred_proba[:, 1])\n",
    "\n",
    "        # Calculating the ROC-AUC score and Gini\n",
    "        roc_auc = roc_auc_score(y_test, y_pred_proba[:, 1])*100\n",
    "        gini = (2/100) * roc_auc - 1\n",
    "\n",
    "        # Appending the scores in the above performance metric lists\n",
    "        train_acc_list.append(round(model.score(X_train, y_train)*100, 2))\n",
    "        test_acc_list.append(round(accuracy*100, 2))\n",
    "        preci_list.append(round(precision*100, 2))\n",
    "        sensi_list.append(round(sensitivity*100, 2))\n",
    "        speci_list.append(round(specificity*100, 2))\n",
    "        balanced_acc_list.append(round(balanced_accuracy_score*100, 2))\n",
    "        f1_list.append(round(f1_score*100, 2))\n",
    "        roc_auc_list.append(round(roc_auc, 2))\n",
    "        gini_list.append(round(gini, 3))\n",
    "\n",
    "    \n",
    "    # Creating a DataFrame for storing the above score lists of all the classifiers\n",
    "    df = pd.DataFrame()\n",
    "    df['classifiers'] = model_name_list\n",
    "    df['training_accuracy'] = train_acc_list\n",
    "    df['testing_accuracy'] = test_acc_list\n",
    "    df['precision'] = preci_list\n",
    "    df['sensitivity'] = sensi_list\n",
    "    df['specificity'] = speci_list\n",
    "    df['f1_score'] = f1_list\n",
    "    df['balanced_accuracy'] = balanced_acc_list\n",
    "    df['roc_auc'] = roc_auc_list\n",
    "    df['gini'] = gini_list\n",
    "\n",
    "    return df"
   ]
  },
  {
   "cell_type": "code",
   "execution_count": 90,
   "id": "0be4b3cb",
   "metadata": {},
   "outputs": [],
   "source": [
    "# Using the evaluate_model_df function to different classifiers to create the performace score dataframe\n",
    "base_model_df = evaluate_model_df([LogisticRegression(random_state=101, solver='liblinear'),\n",
    "                                DecisionTreeClassifier(random_state=101), \n",
    "                                RandomForestClassifier(random_state=101),\n",
    "                                AdaBoostClassifier(random_state=101),\n",
    "                                GradientBoostingClassifier(random_state=101),\n",
    "                                XGBClassifier(random_state=101, use_label_encoder=False),\n",
    "                                SVC(random_state=101, probability=True),\n",
    "                                SGDClassifier(random_state=101, loss='log')])"
   ]
  },
  {
   "cell_type": "code",
   "execution_count": 91,
   "id": "bbff232b",
   "metadata": {},
   "outputs": [
    {
     "data": {
      "text/html": [
       "<div>\n",
       "<style scoped>\n",
       "    .dataframe tbody tr th:only-of-type {\n",
       "        vertical-align: middle;\n",
       "    }\n",
       "\n",
       "    .dataframe tbody tr th {\n",
       "        vertical-align: top;\n",
       "    }\n",
       "\n",
       "    .dataframe thead th {\n",
       "        text-align: right;\n",
       "    }\n",
       "</style>\n",
       "<table border=\"1\" class=\"dataframe\">\n",
       "  <thead>\n",
       "    <tr style=\"text-align: right;\">\n",
       "      <th></th>\n",
       "      <th>classifiers</th>\n",
       "      <th>training_accuracy</th>\n",
       "      <th>testing_accuracy</th>\n",
       "      <th>precision</th>\n",
       "      <th>sensitivity</th>\n",
       "      <th>specificity</th>\n",
       "      <th>f1_score</th>\n",
       "      <th>balanced_accuracy</th>\n",
       "      <th>roc_auc</th>\n",
       "      <th>gini</th>\n",
       "    </tr>\n",
       "  </thead>\n",
       "  <tbody>\n",
       "    <tr>\n",
       "      <th>0</th>\n",
       "      <td>LogisticRegression</td>\n",
       "      <td>82.27</td>\n",
       "      <td>82.23</td>\n",
       "      <td>67.07</td>\n",
       "      <td>51.45</td>\n",
       "      <td>91.99</td>\n",
       "      <td>58.23</td>\n",
       "      <td>71.72</td>\n",
       "      <td>86.79</td>\n",
       "      <td>0.736</td>\n",
       "    </tr>\n",
       "    <tr>\n",
       "      <th>1</th>\n",
       "      <td>DecisionTreeClassifier</td>\n",
       "      <td>94.78</td>\n",
       "      <td>77.61</td>\n",
       "      <td>53.84</td>\n",
       "      <td>49.15</td>\n",
       "      <td>86.64</td>\n",
       "      <td>51.39</td>\n",
       "      <td>67.89</td>\n",
       "      <td>72.65</td>\n",
       "      <td>0.453</td>\n",
       "    </tr>\n",
       "    <tr>\n",
       "      <th>2</th>\n",
       "      <td>RandomForestClassifier</td>\n",
       "      <td>94.77</td>\n",
       "      <td>80.68</td>\n",
       "      <td>61.32</td>\n",
       "      <td>53.53</td>\n",
       "      <td>89.29</td>\n",
       "      <td>57.16</td>\n",
       "      <td>71.41</td>\n",
       "      <td>84.36</td>\n",
       "      <td>0.687</td>\n",
       "    </tr>\n",
       "    <tr>\n",
       "      <th>3</th>\n",
       "      <td>AdaBoostClassifier</td>\n",
       "      <td>82.89</td>\n",
       "      <td>82.77</td>\n",
       "      <td>68.61</td>\n",
       "      <td>52.42</td>\n",
       "      <td>92.39</td>\n",
       "      <td>59.44</td>\n",
       "      <td>72.41</td>\n",
       "      <td>87.75</td>\n",
       "      <td>0.755</td>\n",
       "    </tr>\n",
       "    <tr>\n",
       "      <th>4</th>\n",
       "      <td>GradientBoostingClassifier</td>\n",
       "      <td>83.44</td>\n",
       "      <td>82.90</td>\n",
       "      <td>67.27</td>\n",
       "      <td>56.46</td>\n",
       "      <td>91.29</td>\n",
       "      <td>61.40</td>\n",
       "      <td>73.88</td>\n",
       "      <td>88.25</td>\n",
       "      <td>0.765</td>\n",
       "    </tr>\n",
       "    <tr>\n",
       "      <th>5</th>\n",
       "      <td>XGBClassifier</td>\n",
       "      <td>83.99</td>\n",
       "      <td>82.90</td>\n",
       "      <td>67.27</td>\n",
       "      <td>56.46</td>\n",
       "      <td>91.29</td>\n",
       "      <td>61.40</td>\n",
       "      <td>73.88</td>\n",
       "      <td>88.16</td>\n",
       "      <td>0.763</td>\n",
       "    </tr>\n",
       "    <tr>\n",
       "      <th>6</th>\n",
       "      <td>SVC</td>\n",
       "      <td>81.17</td>\n",
       "      <td>80.92</td>\n",
       "      <td>72.93</td>\n",
       "      <td>32.99</td>\n",
       "      <td>96.12</td>\n",
       "      <td>45.43</td>\n",
       "      <td>64.55</td>\n",
       "      <td>86.43</td>\n",
       "      <td>0.729</td>\n",
       "    </tr>\n",
       "    <tr>\n",
       "      <th>7</th>\n",
       "      <td>SGDClassifier</td>\n",
       "      <td>80.27</td>\n",
       "      <td>80.17</td>\n",
       "      <td>57.87</td>\n",
       "      <td>64.88</td>\n",
       "      <td>85.02</td>\n",
       "      <td>61.17</td>\n",
       "      <td>74.95</td>\n",
       "      <td>84.69</td>\n",
       "      <td>0.694</td>\n",
       "    </tr>\n",
       "  </tbody>\n",
       "</table>\n",
       "</div>"
      ],
      "text/plain": [
       "                  classifiers  training_accuracy  testing_accuracy  precision  \\\n",
       "0          LogisticRegression              82.27             82.23      67.07   \n",
       "1      DecisionTreeClassifier              94.78             77.61      53.84   \n",
       "2      RandomForestClassifier              94.77             80.68      61.32   \n",
       "3          AdaBoostClassifier              82.89             82.77      68.61   \n",
       "4  GradientBoostingClassifier              83.44             82.90      67.27   \n",
       "5               XGBClassifier              83.99             82.90      67.27   \n",
       "6                         SVC              81.17             80.92      72.93   \n",
       "7               SGDClassifier              80.27             80.17      57.87   \n",
       "\n",
       "   sensitivity  specificity  f1_score  balanced_accuracy  roc_auc   gini  \n",
       "0        51.45        91.99     58.23              71.72    86.79  0.736  \n",
       "1        49.15        86.64     51.39              67.89    72.65  0.453  \n",
       "2        53.53        89.29     57.16              71.41    84.36  0.687  \n",
       "3        52.42        92.39     59.44              72.41    87.75  0.755  \n",
       "4        56.46        91.29     61.40              73.88    88.25  0.765  \n",
       "5        56.46        91.29     61.40              73.88    88.16  0.763  \n",
       "6        32.99        96.12     45.43              64.55    86.43  0.729  \n",
       "7        64.88        85.02     61.17              74.95    84.69  0.694  "
      ]
     },
     "execution_count": 91,
     "metadata": {},
     "output_type": "execute_result"
    }
   ],
   "source": [
    "# The base_model_df \n",
    "base_model_df"
   ]
  },
  {
   "attachments": {},
   "cell_type": "markdown",
   "id": "dea483d0",
   "metadata": {},
   "source": [
    "So, we have made a dataframe of all the classifiers performance metrics with default hyperparameters and we will consider these models as the base models. This dataframe gives us a comparison to the different classifiers in terms of performance."
   ]
  },
  {
   "attachments": {},
   "cell_type": "markdown",
   "id": "5b4aac75",
   "metadata": {},
   "source": [
    "**DecisionTreeClassifier** and **RandomForestClassifier** are having a greater accuracy in the training set than in the testing set and this suggests that the models are a bit over-fitting the data."
   ]
  },
  {
   "attachments": {},
   "cell_type": "markdown",
   "id": "97097ff3",
   "metadata": {},
   "source": [
    "**LogisticRegression, AdaboostClassifier, GradientBoostingClassifier, XGBClassifier** and **SGDClassifier** are having a better performance in terms of **Balanced Accuracy** and **F1-score**. Their **ROC-AUC** and **Gini** scores are also good. GradientBoostingClassifier and XGBClassifier have almost same perfomance (as they should be in relation to the models' structures) and so we can use anyone of them. However XGBoost is more faster than GradientBoosting.  "
   ]
  },
  {
   "cell_type": "code",
   "execution_count": 92,
   "id": "3c2946a7",
   "metadata": {},
   "outputs": [
    {
     "data": {
      "image/png": "[encoded data removed]",
      "text/plain": [
       "<Figure size 936x576 with 1 Axes>"
      ]
     },
     "metadata": {
      "needs_background": "light"
     },
     "output_type": "display_data"
    }
   ],
   "source": [
    "# Plotting the ROC Curves\n",
    "fig = plt.figure(figsize=(13, 8))\n",
    "\n",
    "for i in roc_auc_df.index:\n",
    "    plt.plot(roc_auc_df.loc[i]['fpr'], \n",
    "             roc_auc_df.loc[i]['tpr'], \n",
    "             label=\"{}, AUC={:.3f}\".format(i, roc_auc_df.loc[i]['auc']))\n",
    "    \n",
    "plt.plot([0,1], [0,1], color='black', linestyle='--')\n",
    "\n",
    "plt.xticks(np.arange(0.0, 1.1, step=0.1))\n",
    "plt.xlabel(\"Flase Positive Rate (1 - Specificity)\", fontsize=12)\n",
    "\n",
    "plt.yticks(np.arange(0.0, 1.1, step=0.1))\n",
    "plt.ylabel(\"True Positive Rate (Sensitivity)\", fontsize=12)\n",
    "\n",
    "plt.title('ROC Curve Analysis', fontweight='bold', fontsize=15)\n",
    "plt.legend(prop={'size':13}, loc='lower right');"
   ]
  },
  {
   "attachments": {},
   "cell_type": "markdown",
   "id": "4cbb5406",
   "metadata": {},
   "source": [
    "Now we will use a **Voting Classifier**, where we include the better performing models - **Logistic Regression, Adaboost, Gradient Boosting** and **Stochastic Gradient Descent (SGD)**."
   ]
  },
  {
   "attachments": {},
   "cell_type": "markdown",
   "id": "a7a7f267",
   "metadata": {},
   "source": [
    "First with **\"soft\"** voting."
   ]
  },
  {
   "cell_type": "code",
   "execution_count": 101,
   "id": "10264f4a",
   "metadata": {},
   "outputs": [
    {
     "name": "stdout",
     "output_type": "stream",
     "text": [
      "The average base cross-validation score is 0.7395 (+- 0.0314) \n",
      "\n",
      "Accuracy (Ratio of Correct Predictions to Total Predictions) = 81.347%\n",
      "Missclassification (1 - Accuracy) = 18.653%\n",
      "Precision (Ratio of True Positives to Total Predicted Positives) = 64.418%\n",
      "Sensitivity/Recall (Ratio of True Positives to Total Actual Positives) = 64.881%\n",
      "Specificity (Ratio of True Negatives to Total Actual Negatives) = 91.181%\n",
      "Balanced Accuracy Score (Arithmetic Mean of Recall and Specificity) = 70.761%\n",
      "F1_score (Harmonic mean of Sensitivity and Precision) = 56.516%\n",
      "ROC-AUC score = 84.6930519780728\n",
      "Gini = 0.694\n"
     ]
    }
   ],
   "source": [
    "# Creating instances of the classifiers that we will be using in Voting classifier\n",
    "clf1 = LogisticRegression(solver='liblinear')\n",
    "clf2 = AdaBoostClassifier()\n",
    "clf3 = GradientBoostingClassifier()\n",
    "clf4 = SGDClassifier(loss='log')\n",
    "\n",
    "# Creating the voting classifier with 'soft' voting\n",
    "eclf1 = VotingClassifier(estimators=[('lr', clf1), ('abc', clf2), ('gbc', clf3), ('sgd', clf4)], voting='soft')\n",
    "\n",
    "# Fitting the voting clf and making predictions\n",
    "eclf1.fit(X_train, y_train)\n",
    "predictions = eclf1.predict(X_test)\n",
    "\n",
    "# Cross validation scores\n",
    "cvm = cross_val_score(eclf1, X, y, scoring='balanced_accuracy')\n",
    "base_score = cvm.mean()\n",
    "base_std = cvm.std()\n",
    "print(f'The average base cross-validation score is {round(base_score, 4)} (+- {round(base_std, 4)})', '\\n')\n",
    "\n",
    "# Computing the confusion matrix\n",
    "cm = confusion_matrix(y_test, predictions)\n",
    "TN, FP, TP, FN = cm[0][0], cm[0][1], cm[1][1], cm[1][0]\n",
    "\n",
    "# Computing different metrics\n",
    "accuracy = (TP + TN)/(TP + TN + FN + FP)\n",
    "precision = TP/(TP + FP)\n",
    "sensitivity = TP/(TP + FN)\n",
    "specificity = TN/(TN + FP)\n",
    "f1_score = 2*(sensitivity * precision)/(sensitivity + precision)\n",
    "balanced_accuracy_score = (sensitivity + specificity)/2\n",
    "\n",
    "# Calculating the probabilities of predictions\n",
    "y_pred_proba = model.predict_proba(X_test)\n",
    "fpr, tpr, thresholds = roc_curve(y_test, y_pred_proba[:, 1])\n",
    "\n",
    "# Calculating the ROC-AUC score and Gini\n",
    "roc_auc = roc_auc_score(y_test, y_pred_proba[:, 1])*100\n",
    "gini = (2/100) * roc_auc - 1\n",
    "\n",
    "print(\"Accuracy (Ratio of Correct Predictions to Total Predictions) = {:.3f}%\".format(accuracy*100))\n",
    "print('Missclassification (1 - Accuracy) = {:.3f}%'.format((1 - accuracy)*100))\n",
    "print(\"Precision (Ratio of True Positives to Total Predicted Positives) = {:.3f}%\".format(precision*100)) \n",
    "print(\"Sensitivity/Recall (Ratio of True Positives to Total Actual Positives) = {:.3f}%\".format(recall*100)) \n",
    "print(\"Specificity (Ratio of True Negatives to Total Actual Negatives) = {:.3f}%\".format(specificity*100))\n",
    "print('Balanced Accuracy Score (Arithmetic Mean of Recall and Specificity) = {:.3f}%'.format(balanced_accuracy_score*100))\n",
    "print(\"F1_score (Harmonic mean of Sensitivity and Precision) = {:.3f}%\".format(f1_score*100))\n",
    "print(\"ROC-AUC score =\", roc_auc)\n",
    "print(\"Gini =\", round(gini, 3))"
   ]
  },
  {
   "attachments": {},
   "cell_type": "markdown",
   "id": "c1640d76",
   "metadata": {},
   "source": [
    "Now, with **\"hard\"** voting."
   ]
  },
  {
   "cell_type": "code",
   "execution_count": 102,
   "id": "eedd4e06",
   "metadata": {},
   "outputs": [
    {
     "name": "stdout",
     "output_type": "stream",
     "text": [
      "The average base cross-validation score is 0.7211 (+- 0.0114) \n",
      "\n",
      "Accuracy (Ratio of Correct Predictions to Total Predictions) = 82.903%\n",
      "Missclassification (1 - Accuracy) = 17.097%\n",
      "Precision (Ratio of True Positives to Total Predicted Positives) = 69.688%\n",
      "Sensitivity/Recall (Ratio of True Positives to Total Actual Positives) = 64.881%\n",
      "Specificity (Ratio of True Negatives to Total Actual Negatives) = 92.921%\n",
      "Balanced Accuracy Score (Arithmetic Mean of Recall and Specificity) = 72.119%\n",
      "F1_score (Harmonic mean of Sensitivity and Precision) = 59.109%\n",
      "ROC-AUC score = 84.6930519780728\n",
      "Gini = 0.694\n"
     ]
    }
   ],
   "source": [
    "# Creating instances of the classifiers that we will be using in Voting classifier\n",
    "clf1 = LogisticRegression(solver='liblinear')\n",
    "clf2 = AdaBoostClassifier()\n",
    "clf3 = GradientBoostingClassifier()\n",
    "clf4 = SGDClassifier(loss='log')\n",
    "\n",
    "# Creating the voting classifier with 'hard' voting\n",
    "eclf2 = VotingClassifier(estimators=[('lr', clf1), ('abc', clf2), ('gbc', clf3), ('sgd', clf4)], voting='hard')\n",
    "\n",
    "# Fitting the voting clf and making predictions\n",
    "eclf2.fit(X_train, y_train)\n",
    "predictions = eclf2.predict(X_test)\n",
    "\n",
    "# Fitting the voting clf and making predictions\n",
    "eclf2.fit(X_train, y_train)\n",
    "predictions = eclf2.predict(X_test)\n",
    "\n",
    "# Cross validation scores\n",
    "cvm = cross_val_score(eclf2, X, y, scoring='balanced_accuracy')\n",
    "base_score = cvm.mean()\n",
    "base_std = cvm.std()\n",
    "print(f'The average base cross-validation score is {round(base_score, 4)} (+- {round(base_std, 4)})', '\\n')\n",
    "\n",
    "cm = confusion_matrix(y_test, predictions)\n",
    "TN, FP, TP, FN = cm[0][0], cm[0][1], cm[1][1], cm[1][0]\n",
    "\n",
    "# Computing different metrics\n",
    "accuracy = (TP + TN)/(TP + TN + FN + FP)\n",
    "precision = TP/(TP + FP)\n",
    "sensitivity = TP/(TP + FN)\n",
    "specificity = TN/(TN + FP)\n",
    "f1_score = 2*(sensitivity * precision)/(sensitivity + precision)\n",
    "balanced_accuracy_score = (sensitivity + specificity)/2\n",
    "\n",
    "# Calculating the probabilities of predictions\n",
    "y_pred_proba = model.predict_proba(X_test)\n",
    "fpr, tpr, thresholds = roc_curve(y_test, y_pred_proba[:, 1])\n",
    "\n",
    "# Calculating the ROC-AUC score and Gini\n",
    "roc_auc = roc_auc_score(y_test, y_pred_proba[:, 1])*100\n",
    "gini = (2/100) * roc_auc - 1\n",
    "\n",
    "print(\"Accuracy (Ratio of Correct Predictions to Total Predictions) = {:.3f}%\".format(accuracy*100))\n",
    "print('Missclassification (1 - Accuracy) = {:.3f}%'.format((1 - accuracy)*100))\n",
    "print(\"Precision (Ratio of True Positives to Total Predicted Positives) = {:.3f}%\".format(precision*100)) \n",
    "print(\"Sensitivity/Recall (Ratio of True Positives to Total Actual Positives) = {:.3f}%\".format(recall*100)) \n",
    "print(\"Specificity (Ratio of True Negatives to Total Actual Negatives) = {:.3f}%\".format(specificity*100))\n",
    "print('Balanced Accuracy Score (Arithmetic Mean of Recall and Specificity) = {:.3f}%'.format(balanced_accuracy_score*100))\n",
    "print(\"F1_score (Harmonic mean of Sensitivity and Precision) = {:.3f}%\".format(f1_score*100))\n",
    "print(\"ROC-AUC score =\", roc_auc)\n",
    "print(\"Gini =\", round(gini, 3))"
   ]
  },
  {
   "attachments": {},
   "cell_type": "markdown",
   "id": "cb7ffe6a",
   "metadata": {},
   "source": [
    "With the above comparison between the voting modes of the voting classifer, 'soft' voting is giving a much better result in terms of performance in predictiions."
   ]
  },
  {
   "attachments": {},
   "cell_type": "markdown",
   "id": "7db53087",
   "metadata": {},
   "source": [
    "**Hyperparameter Tuning of the Voting Classifier**"
   ]
  },
  {
   "cell_type": "code",
   "execution_count": 103,
   "id": "e89b2b83",
   "metadata": {},
   "outputs": [
    {
     "name": "stdout",
     "output_type": "stream",
     "text": [
      "Fitting 5 folds for each of 16 candidates, totalling 80 fits\n",
      "{'voting': 'soft', 'weights': (1, 2, 1, 2)}\n",
      "0.7398511681405502\n"
     ]
    }
   ],
   "source": [
    "# Creating instances of the classifiers that we will be using in Voting classifier\n",
    "clf1 = LogisticRegression(solver='liblinear')\n",
    "clf2 = AdaBoostClassifier()\n",
    "clf3 = GradientBoostingClassifier()\n",
    "clf4 = SGDClassifier(loss='log')\n",
    "\n",
    "# Creating the voting classifier with 'soft' voting\n",
    "vc = VotingClassifier(estimators=[('lr', clf1), ('abc', clf2), ('gbc', clf3), ('sgd', clf4)])\n",
    "\n",
    "# Using the GridSearchCV\n",
    "params = {'voting': ['hard', 'soft'],\n",
    "          'weights': [(1, 1, 1, 1), (1, 1, 1, 2), (1, 1, 2, 1), (1, 2, 1, 1), (2, 1, 1, 1), (1, 2, 1, 2), (2, 1, 2, 1), (1, 2, 1, 2)]}\n",
    "\n",
    "grid_vc = GridSearchCV(estimator=vc,\n",
    "                       param_grid=params,\n",
    "                       cv=5,\n",
    "                       n_jobs=4,\n",
    "                       verbose=1, \n",
    "                       scoring='balanced_accuracy')\n",
    "\n",
    "grid_vc.fit(X, y)\n",
    "print(grid_vc.best_params_)\n",
    "print(grid_vc.best_score_)"
   ]
  },
  {
   "attachments": {},
   "cell_type": "markdown",
   "id": "cbacee04",
   "metadata": {},
   "source": [
    "#### **Final Model** using the voting classifier."
   ]
  },
  {
   "cell_type": "code",
   "execution_count": 106,
   "id": "7e549a4d",
   "metadata": {},
   "outputs": [
    {
     "name": "stdout",
     "output_type": "stream",
     "text": [
      "The average base cross-validation score is 0.7359 (+- 0.0164) \n",
      "\n",
      "Accuracy (Ratio of Correct Predictions to Total Predictions) = 79.423%\n",
      "Missclassification (1 - Accuracy) = 20.577%\n",
      "Precision (Ratio of True Positives to Total Predicted Positives) = 55.773%\n",
      "Sensitivity/Recall (Ratio of True Positives to Total Actual Positives) = 64.881%\n",
      "Specificity (Ratio of True Negatives to Total Actual Negatives) = 82.335%\n",
      "Balanced Accuracy Score (Arithmetic Mean of Recall and Specificity) = 76.287%\n",
      "F1_score (Harmonic mean of Sensitivity and Precision) = 62.175%\n",
      "ROC-AUC score = 84.6930519780728\n",
      "Gini = 0.694\n"
     ]
    }
   ],
   "source": [
    "# Creating instances of the classifiers that we will be using in Voting classifier\n",
    "clf1 = LogisticRegression(solver='liblinear')\n",
    "clf2 = AdaBoostClassifier()\n",
    "clf3 = GradientBoostingClassifier()\n",
    "clf4 = SGDClassifier(loss='log')\n",
    "\n",
    "# Creating the voting classifier with 'hard' voting\n",
    "vc_final = VotingClassifier(estimators=[('lr', clf1), ('abc', clf2), ('gbc', clf3), ('sgd', clf4)], voting='soft', weights=(1, 2, 1, 2))\n",
    "\n",
    "# Fitting the voting clf and making predictions\n",
    "vc_final.fit(X_train, y_train)\n",
    "predictions = vc_final.predict(X_test)\n",
    "\n",
    "# Fitting the voting clf and making predictions\n",
    "vc_final.fit(X_train, y_train)\n",
    "predictions = vc_final.predict(X_test)\n",
    "\n",
    "# Cross validation scores\n",
    "cvm = cross_val_score(vc_final, X, y, scoring='balanced_accuracy')\n",
    "base_score = cvm.mean()\n",
    "base_std = cvm.std()\n",
    "print(f'The average base cross-validation score is {round(base_score, 4)} (+- {round(base_std, 4)})', '\\n')\n",
    "\n",
    "cm = confusion_matrix(y_test, predictions)\n",
    "TN, FP, TP, FN = cm[0][0], cm[0][1], cm[1][1], cm[1][0]\n",
    "\n",
    "# Computing different metrics\n",
    "accuracy = (TP + TN)/(TP + TN + FN + FP)\n",
    "precision = TP/(TP + FP)\n",
    "sensitivity = TP/(TP + FN)\n",
    "specificity = TN/(TN + FP)\n",
    "f1_score = 2*(sensitivity * precision)/(sensitivity + precision)\n",
    "balanced_accuracy_score = (sensitivity + specificity)/2\n",
    "\n",
    "# Calculating the probabilities of predictions\n",
    "y_pred_proba = model.predict_proba(X_test)\n",
    "fpr, tpr, thresholds = roc_curve(y_test, y_pred_proba[:, 1])\n",
    "\n",
    "# Calculating the ROC-AUC score and Gini\n",
    "roc_auc = roc_auc_score(y_test, y_pred_proba[:, 1])*100\n",
    "gini = (2/100) * roc_auc - 1\n",
    "\n",
    "print(\"Accuracy (Ratio of Correct Predictions to Total Predictions) = {:.3f}%\".format(accuracy*100))\n",
    "print('Missclassification (1 - Accuracy) = {:.3f}%'.format((1 - accuracy)*100))\n",
    "print(\"Precision (Ratio of True Positives to Total Predicted Positives) = {:.3f}%\".format(precision*100)) \n",
    "print(\"Sensitivity/Recall (Ratio of True Positives to Total Actual Positives) = {:.3f}%\".format(recall*100)) \n",
    "print(\"Specificity (Ratio of True Negatives to Total Actual Negatives) = {:.3f}%\".format(specificity*100))\n",
    "print('Balanced Accuracy Score (Arithmetic Mean of Recall and Specificity) = {:.3f}%'.format(balanced_accuracy_score*100))\n",
    "print(\"F1_score (Harmonic mean of Sensitivity and Precision) = {:.3f}%\".format(f1_score*100))\n",
    "print(\"ROC-AUC score =\", roc_auc)\n",
    "print(\"Gini =\", round(gini, 3))"
   ]
  },
  {
   "cell_type": "markdown",
   "id": "0a3ac1d9",
   "metadata": {},
   "source": [
    "So, our final model can be considered as a better model than all the previous models based on the balanced accuracy and f1 score. The final model also has a good ROC-AUC and a good Gini score. "
   ]
  }
 ],
 "metadata": {
  "kernelspec": {
   "display_name": "Python 3.8.5 ('base')",
   "language": "python",
   "name": "python3"
  },
  "language_info": {
   "codemirror_mode": {
    "name": "ipython",
    "version": 3
   },
   "file_extension": ".py",
   "mimetype": "text/x-python",
   "name": "python",
   "nbconvert_exporter": "python",
   "pygments_lexer": "ipython3",
   "version": "3.8.5"
  },
  "vscode": {
   "interpreter": {
    "hash": "51168439cf5d01886d72eed480c6978dddaafbd160b3925976544b19dd1aa31c"
   }
  }
 },
 "nbformat": 4,
 "nbformat_minor": 5
}
